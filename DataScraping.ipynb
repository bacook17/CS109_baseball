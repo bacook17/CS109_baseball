{
 "cells": [
  {
   "cell_type": "markdown",
   "metadata": {},
   "source": [
    "#Scraping Retrosheet database for Batter-Pitcher Matchups"
   ]
  },
  {
   "cell_type": "code",
   "execution_count": 25,
   "metadata": {
    "collapsed": true
   },
   "outputs": [],
   "source": [
    "import numpy as np, matplotlib.pyplot as plt\n",
    "import pandas as pd\n",
    "import requests\n",
    "from bs4 import BeautifulSoup\n",
    "import time\n",
    "import json\n",
    "import sys\n",
    "from scipy import stats\n",
    "\n",
    "%matplotlib inline"
   ]
  },
  {
   "cell_type": "markdown",
   "metadata": {},
   "source": [
    "The files below come from the Lahman database. We use them to compile a list of batters who appeared between 2004 and 2014."
   ]
  },
  {
   "cell_type": "code",
   "execution_count": 26,
   "metadata": {
    "collapsed": true
   },
   "outputs": [],
   "source": [
    "master = pd.read_csv('data/lahman/Master.csv')\n",
    "all_batting = pd.read_csv('data/lahman/Batting.csv')"
   ]
  },
  {
   "cell_type": "code",
   "execution_count": 27,
   "metadata": {
    "collapsed": false
   },
   "outputs": [],
   "source": [
    "lah_to_retro = dict(zip(master['playerID'], master['retroID'])) #key=lahmanID, value=retroID\n",
    "retro_to_lah = dict(zip(master['retroID'], master['playerID'])) #reverse of above\n",
    "\n",
    "retro_ids = [lah_to_retro[name] for name in all_batting['playerID']] \n",
    "all_batting['retroID'] = retro_ids\n",
    "\n",
    "is_modern_batter = (all_batting['yearID'] >= 2004)\n",
    "batter_ids = np.unique(all_batting['retroID'][is_modern_batter]) #array of unique batter IDs\n",
    "\n",
    "modern_mask = np.array([name in batter_ids for name in all_batting['retroID']])\n",
    "batting = all_batting[modern_mask] #data frame with batting stats of \"modern\" batters"
   ]
  },
  {
   "cell_type": "markdown",
   "metadata": {},
   "source": [
    "How many unique batters appeared between 2004 and 2014?"
   ]
  },
  {
   "cell_type": "code",
   "execution_count": 28,
   "metadata": {
    "collapsed": false
   },
   "outputs": [
    {
     "data": {
      "text/plain": [
       "3561"
      ]
     },
     "execution_count": 28,
     "metadata": {},
     "output_type": "execute_result"
    }
   ],
   "source": [
    "len(batter_ids)"
   ]
  },
  {
   "cell_type": "markdown",
   "metadata": {},
   "source": [
    "For these batters, we can look at the distribution of how many at bats they had. We use a Kernel Density Estimator (KDE) to smooth out the distribution."
   ]
  },
  {
   "cell_type": "code",
   "execution_count": 29,
   "metadata": {
    "collapsed": false
   },
   "outputs": [
    {
     "data": {
      "text/plain": [
       "<matplotlib.text.Text at 0x128584690>"
      ]
     },
     "execution_count": 29,
     "metadata": {},
     "output_type": "execute_result"
    },
    {
     "data": {
      "image/png": "[encoded data removed]",
      "text/plain": [
       "<matplotlib.figure.Figure at 0x10a3be250>"
      ]
     },
     "metadata": {},
     "output_type": "display_data"
    }
   ],
   "source": [
    "ABs = batting.groupby('retroID')['AB'].sum()\n",
    "Hs = batting.groupby('retroID')['H'].sum()\n",
    "kde_ABs = stats.gaussian_kde(np.log10(ABs+1)) #make a KDE of density of log AB (+1 because many players with zero AB)\n",
    "\n",
    "fig, axis = plt.subplots(figsize=(8,5))\n",
    "x = np.linspace(0, 5, 1000)\n",
    "axis.plot(10**x, kde_ABs(x), 'k-')\n",
    "axis.set_xscale('log')\n",
    "axis.set_xlabel('Number of At Bats', fontsize='x-large'), axis.set_ylabel('Relative Number of Players', fontsize='x-large')\n",
    "axis.set_title('MLB Batters Active 2004 and Later', fontsize='xx-large')"
   ]
  },
  {
   "cell_type": "markdown",
   "metadata": {},
   "source": [
    "##Scrape the matchup webpages from Retrosheet"
   ]
  },
  {
   "cell_type": "code",
   "execution_count": 202,
   "metadata": {
    "collapsed": true
   },
   "outputs": [],
   "source": [
    "def retro_url(retroID):\n",
    "    return 'http://www.retrosheet.org/boxesetc/%s/MU0_%s.htm'%(retroID[0].upper(), retroID)"
   ]
  },
  {
   "cell_type": "markdown",
   "metadata": {},
   "source": [
    "For ~3000 batters, the process below takes around 10-15 minutes"
   ]
  },
  {
   "cell_type": "code",
   "execution_count": 206,
   "metadata": {
    "collapsed": false,
    "scrolled": true
   },
   "outputs": [],
   "source": [
    "def scrape_pages(batter_ids, cache=True):\n",
    "    \"\"\"\n",
    "    Given a list of batter_ids, find all the retrosheet pitcher matchup pages for each batter.\n",
    "    Copy the text from each page, and store in dictionary keyed by batterID. Some batters may not be found,\n",
    "    so this also records those that are/aren't found.\n",
    "    \n",
    "    This process takes a long time, so it caches the results to disk throughout. Prints out the progress.\n",
    "        \n",
    "    input\n",
    "    --------\n",
    "    batter_ids: iterable list or array of retrosheet player IDs\n",
    "    \n",
    "    output\n",
    "    --------\n",
    "    batter_pages: dictionary of text for all matchup pages found, keyed by batterID\n",
    "    found: list of batterIDs for which matchup pages were found\n",
    "    not_found: list of batterIDs for which no matchup pages could be found\n",
    "    \"\"\"\n",
    "    \n",
    "    batter_pages = {} #key: retroID, value: text of matchup page\n",
    "    found = []\n",
    "    not_found = []\n",
    "    \n",
    "    for i, batter in enumerate(batter_ids):\n",
    "        time.sleep(.2)\n",
    "        url = retro_url(batter)\n",
    "        if (i%100==0):\n",
    "            print('%d of %d'%(i, len(batter_ids)))\n",
    "            if cache:\n",
    "                f = open('data/batter_pages.json', 'w') #cache the results to disk as we go, in case this fails\n",
    "                json.dump(batter_pages, f)\n",
    "                f.close()\n",
    "        req=requests.get(url)\n",
    "        if req.status_code==200:\n",
    "            batter_pages[batter] = req.text\n",
    "            found.append(batter)\n",
    "        else: #Some batters with very few at bats will not have pages.\n",
    "            not_found.append(batter)\n",
    "    return batter_pages, found, not_found"
   ]
  },
  {
   "cell_type": "code",
   "execution_count": 207,
   "metadata": {
    "collapsed": false
   },
   "outputs": [
    {
     "name": "stdout",
     "output_type": "stream",
     "text": [
      "0 of 3561\n",
      "100 of 3561\n",
      "200 of 3561\n",
      "300 of 3561\n",
      "400 of 3561\n",
      "500 of 3561\n",
      "600 of 3561\n",
      "700 of 3561\n",
      "800 of 3561\n",
      "900 of 3561\n",
      "1000 of 3561\n",
      "1100 of 3561\n",
      "1200 of 3561\n",
      "1300 of 3561\n",
      "1400 of 3561\n",
      "1500 of 3561\n",
      "1600 of 3561\n",
      "1700 of 3561\n",
      "1800 of 3561\n",
      "1900 of 3561\n",
      "2000 of 3561\n",
      "2100 of 3561\n",
      "2200 of 3561\n",
      "2300 of 3561\n",
      "2400 of 3561\n",
      "2500 of 3561\n",
      "2600 of 3561\n",
      "2700 of 3561\n",
      "2800 of 3561\n",
      "2900 of 3561\n",
      "3000 of 3561\n",
      "3100 of 3561\n",
      "3200 of 3561\n",
      "3300 of 3561\n",
      "3400 of 3561\n",
      "3500 of 3561\n"
     ]
    }
   ],
   "source": [
    "batter_pages, found, not_found = scrape_pages(batter_ids)"
   ]
  },
  {
   "cell_type": "code",
   "execution_count": 8,
   "metadata": {
    "collapsed": true
   },
   "outputs": [],
   "source": [
    "#Store the results to disk\n",
    "f = open('data/batter_pages.json', 'w')\n",
    "json.dump(batter_pages, f)\n",
    "f.close()\n",
    "\n",
    "f = open('data/found.json', 'w')\n",
    "json.dump(found, f)\n",
    "f.close()\n",
    "\n",
    "f = open('data/not_found.json', 'w')\n",
    "json.dump(not_found, f)\n",
    "f.close()"
   ]
  },
  {
   "cell_type": "code",
   "execution_count": 30,
   "metadata": {
    "collapsed": false
   },
   "outputs": [],
   "source": [
    "#Restore the results from disk\n",
    "with open(\"data/batter_pages.json\", \"r\") as f:\n",
    "    batter_pages = json.load(f)\n",
    "with open(\"data/found.json\", 'r') as f:\n",
    "    found = json.load(f)\n",
    "with open(\"data/not_found.json\", 'r') as f:\n",
    "    not_found = json.load(f)"
   ]
  },
  {
   "cell_type": "markdown",
   "metadata": {},
   "source": [
    "How many batters did we find matchup pages for? (All 3 values should be equal)"
   ]
  },
  {
   "cell_type": "code",
   "execution_count": 31,
   "metadata": {
    "collapsed": false,
    "scrolled": false
   },
   "outputs": [
    {
     "name": "stdout",
     "output_type": "stream",
     "text": [
      "1864 1864 1864\n"
     ]
    }
   ],
   "source": [
    "print len(batter_pages), len(found), len(batter_ids) - len(not_found)"
   ]
  },
  {
   "cell_type": "markdown",
   "metadata": {},
   "source": [
    "Why did we miss so many players? Turns out that players with $N<100$ ABs may often not have a matchup page."
   ]
  },
  {
   "cell_type": "code",
   "execution_count": 32,
   "metadata": {
    "collapsed": false
   },
   "outputs": [],
   "source": [
    "AB_missed = np.array([ABs[name] for name in not_found])\n",
    "AB_found = np.array([ABs[name] for name in found])"
   ]
  },
  {
   "cell_type": "code",
   "execution_count": 33,
   "metadata": {
    "collapsed": false
   },
   "outputs": [],
   "source": [
    "kde_missed = stats.gaussian_kde(np.log10(AB_missed + 1))\n",
    "kde_found = stats.gaussian_kde(np.log10(AB_found+1))"
   ]
  },
  {
   "cell_type": "code",
   "execution_count": 34,
   "metadata": {
    "collapsed": false
   },
   "outputs": [
    {
     "data": {
      "text/plain": [
       "(<matplotlib.legend.Legend at 0x13278e750>,\n",
       " <matplotlib.text.Text at 0x14fca3810>)"
      ]
     },
     "execution_count": 34,
     "metadata": {},
     "output_type": "execute_result"
    },
    {
     "data": {
      "image/png": "[encoded data removed]",
      "text/plain": [
       "<matplotlib.figure.Figure at 0x128584510>"
      ]
     },
     "metadata": {},
     "output_type": "display_data"
    }
   ],
   "source": [
    "fig, axis = plt.subplots(figsize=(8,5))\n",
    "x = np.linspace(0, 5, 1000)\n",
    "# axis.hist(AB_missed+1, histtype='step', normed=True,  label='Matchups Not Found', bins=np.logspace(0, 2, 12))\n",
    "# axis.hist(AB_found+1, histtype='step', normed=True, label='Matchups Found', bins=np.logspace(0.5, 4.5, 20))\n",
    "plt.plot(10**x, kde_found(x), 'g-', label='Matchups Found')\n",
    "plt.plot(10**x, kde_missed(x), 'b-', label='Matchups Not Found')\n",
    "axis.set_xscale(\"log\")\n",
    "axis.set_xlabel(r'Number of At Bats', fontsize='x-large'), axis.set_ylabel('Relative Number of Players', fontsize='x-large')\n",
    "axis.legend(loc=0), axis.set_title('MLB Players Active 2004 and Later', fontsize='xx-large')"
   ]
  },
  {
   "cell_type": "markdown",
   "metadata": {},
   "source": [
    "##Process the page text into a matchup dataframe"
   ]
  },
  {
   "cell_type": "code",
   "execution_count": 17,
   "metadata": {
    "collapsed": true
   },
   "outputs": [],
   "source": [
    "def stats_parse(line):\n",
    "    \"\"\"\n",
    "    Takes a line, which is a length-15 list of statistics for each matchup:\n",
    "    R/L, AB, H, 2B, 3B, HR, BB, IBB, SO, HBP, SH, SF, AVG, OBP, SLG\n",
    "    \n",
    "    Returns a list with quantities: [AB, PA, H, TB, W, SO, SAC, RL]\n",
    "    AB: At Bats\n",
    "    PA: Plate Appearances (AB + W)\n",
    "    H: Hits\n",
    "    TB: Total Bases (H + 2*2B + 3*3B + 4*HR)\n",
    "    W: Walks (BB + IBB + HBP)\n",
    "    SO: Strike Outs\n",
    "    SAC: Sacrifices (SH + SF)\n",
    "    RL: Righty/Lefty pitcher\n",
    "    \"\"\"\n",
    "    RL = line[0] #R/L handed pitcher\n",
    "    AB = int(line[1]) #At Bats\n",
    "    H = int(line[2]) #Hits\n",
    "    TB = int(line[2]) + 2*int(line[3]) + 3*int(line[4]) + 4*int(line[5]) #Total Bases\n",
    "    W = int(line[6]) + int(line[7]) + int(line[9]) #Walks (BB + IBB + HBP)\n",
    "    PA = AB + W #Plate Appearances\n",
    "    SO = int(line[8]) #Strikeouts \n",
    "    SAC = int(line[10]) + int(line[11]) #Sacrifices\n",
    "    return [AB, PA, H, TB, W, SO, SAC, RL]"
   ]
  },
  {
   "cell_type": "code",
   "execution_count": 18,
   "metadata": {
    "collapsed": true
   },
   "outputs": [],
   "source": [
    "def parse_pages(pages, batterIDs=None):\n",
    "    \"\"\"\n",
    "    Takes a dictionary pages with retroIDs of batters as keys,\n",
    "    and the text of that batter's Retrosheet matchup sheet as values.\n",
    "    Takes an optional array of retroIDs for batters.\n",
    "    \n",
    "    Returns a list of one dictionary for each batter-pitcher matchup, with fields:\n",
    "    pID: pitcher ID\n",
    "    bID: batter ID\n",
    "    AB: number of At Bats\n",
    "    PA: number of Plate Appearances\n",
    "    H: number of Hits\n",
    "    SLUG: slugging value (H + 2*2B + 3*3B + 4*HR)\n",
    "    W: number of Walks\n",
    "    SO: number of Strike Outs\n",
    "    SAC: number of Sac Flies and Sac Bunts\n",
    "    \"\"\"\n",
    "    matchup_list = []\n",
    "    \n",
    "    if batterIDs is None:\n",
    "        batterIDs = pages.keys()\n",
    "    \n",
    "    for batterID in batterIDs:\n",
    "        text = pages[batterID]\n",
    "        if text=='':\n",
    "            continue\n",
    "        soup = BeautifulSoup(pages[batterID], 'html.parser')\n",
    "        data = soup.find_all('pre')[2]\n",
    "        for i in np.arange(1, len(data.contents), 2):\n",
    "            row = {}\n",
    "            pitcherID = data.contents[i].get('href').split('/')[-1].split('.')[0].lstrip('P') #8-char retroID\n",
    "            assert(len(pitcherID)==8)\n",
    "            stats = data.contents[i+1].split('\\n')[0].split() #list of stats values\n",
    "            assert(len(stats) == 15)\n",
    "            stats = stats_parse(stats)\n",
    "            fields = ['AB', 'PA', 'H', 'TB', 'W', 'SO', 'SAC', 'RL']\n",
    "            matchup = dict(zip(fields, stats))\n",
    "            matchup['pID'] = pitcherID\n",
    "            matchup['bID'] = batterID\n",
    "            matchup['matchID'] = '%s_%s'%(batterID, pitcherID)\n",
    "\n",
    "            matchup_list.append(matchup)\n",
    "    return matchup_list"
   ]
  },
  {
   "cell_type": "markdown",
   "metadata": {},
   "source": [
    "##Process all the text from the matchup pages"
   ]
  },
  {
   "cell_type": "code",
   "execution_count": 19,
   "metadata": {
    "collapsed": false
   },
   "outputs": [],
   "source": [
    "matchup_list = parse_pages(batter_pages)"
   ]
  },
  {
   "cell_type": "markdown",
   "metadata": {},
   "source": [
    "How many total matchups found?"
   ]
  },
  {
   "cell_type": "code",
   "execution_count": 20,
   "metadata": {
    "collapsed": false
   },
   "outputs": [
    {
     "data": {
      "text/plain": [
       "248420"
      ]
     },
     "execution_count": 20,
     "metadata": {},
     "output_type": "execute_result"
    }
   ],
   "source": [
    "len(matchup_list)"
   ]
  },
  {
   "cell_type": "code",
   "execution_count": 21,
   "metadata": {
    "collapsed": false
   },
   "outputs": [],
   "source": [
    "f = open('data/matchups.json', 'w')\n",
    "json.dump(matchup_list, f)\n",
    "f.close()"
   ]
  },
  {
   "cell_type": "code",
   "execution_count": 22,
   "metadata": {
    "collapsed": false
   },
   "outputs": [],
   "source": [
    "matchup_df = pd.read_json(\"data/matchups_2004.json\")"
   ]
  },
  {
   "cell_type": "code",
   "execution_count": 23,
   "metadata": {
    "collapsed": false,
    "scrolled": true
   },
   "outputs": [
    {
     "data": {
      "text/html": [
       "<div>\n",
       "<table border=\"1\" class=\"dataframe\">\n",
       "  <thead>\n",
       "    <tr style=\"text-align: right;\">\n",
       "      <th></th>\n",
       "      <th>AB</th>\n",
       "      <th>H</th>\n",
       "      <th>PA</th>\n",
       "      <th>RL</th>\n",
       "      <th>SAC</th>\n",
       "      <th>SO</th>\n",
       "      <th>TB</th>\n",
       "      <th>W</th>\n",
       "      <th>bID</th>\n",
       "      <th>pID</th>\n",
       "    </tr>\n",
       "  </thead>\n",
       "  <tbody>\n",
       "    <tr>\n",
       "      <th>0</th>\n",
       "      <td>5</td>\n",
       "      <td>1</td>\n",
       "      <td>5</td>\n",
       "      <td>R</td>\n",
       "      <td>0</td>\n",
       "      <td>2</td>\n",
       "      <td>1</td>\n",
       "      <td>0</td>\n",
       "      <td>torrc001</td>\n",
       "      <td>medlk001</td>\n",
       "    </tr>\n",
       "    <tr>\n",
       "      <th>1</th>\n",
       "      <td>3</td>\n",
       "      <td>0</td>\n",
       "      <td>3</td>\n",
       "      <td>L</td>\n",
       "      <td>1</td>\n",
       "      <td>2</td>\n",
       "      <td>0</td>\n",
       "      <td>0</td>\n",
       "      <td>kinnm002</td>\n",
       "      <td>leita001</td>\n",
       "    </tr>\n",
       "    <tr>\n",
       "      <th>2</th>\n",
       "      <td>4</td>\n",
       "      <td>1</td>\n",
       "      <td>4</td>\n",
       "      <td>R</td>\n",
       "      <td>0</td>\n",
       "      <td>2</td>\n",
       "      <td>1</td>\n",
       "      <td>0</td>\n",
       "      <td>valee002</td>\n",
       "      <td>ayall001</td>\n",
       "    </tr>\n",
       "    <tr>\n",
       "      <th>3</th>\n",
       "      <td>7</td>\n",
       "      <td>0</td>\n",
       "      <td>7</td>\n",
       "      <td>R</td>\n",
       "      <td>0</td>\n",
       "      <td>4</td>\n",
       "      <td>0</td>\n",
       "      <td>0</td>\n",
       "      <td>valee002</td>\n",
       "      <td>beckj002</td>\n",
       "    </tr>\n",
       "    <tr>\n",
       "      <th>4</th>\n",
       "      <td>3</td>\n",
       "      <td>2</td>\n",
       "      <td>6</td>\n",
       "      <td>R</td>\n",
       "      <td>0</td>\n",
       "      <td>0</td>\n",
       "      <td>2</td>\n",
       "      <td>3</td>\n",
       "      <td>valee002</td>\n",
       "      <td>bumpn001</td>\n",
       "    </tr>\n",
       "    <tr>\n",
       "      <th>5</th>\n",
       "      <td>4</td>\n",
       "      <td>0</td>\n",
       "      <td>4</td>\n",
       "      <td>R</td>\n",
       "      <td>0</td>\n",
       "      <td>3</td>\n",
       "      <td>0</td>\n",
       "      <td>0</td>\n",
       "      <td>valee002</td>\n",
       "      <td>burna001</td>\n",
       "    </tr>\n",
       "    <tr>\n",
       "      <th>6</th>\n",
       "      <td>4</td>\n",
       "      <td>1</td>\n",
       "      <td>4</td>\n",
       "      <td>R</td>\n",
       "      <td>0</td>\n",
       "      <td>1</td>\n",
       "      <td>5</td>\n",
       "      <td>0</td>\n",
       "      <td>valee002</td>\n",
       "      <td>byrdp001</td>\n",
       "    </tr>\n",
       "    <tr>\n",
       "      <th>7</th>\n",
       "      <td>6</td>\n",
       "      <td>0</td>\n",
       "      <td>6</td>\n",
       "      <td>R</td>\n",
       "      <td>0</td>\n",
       "      <td>3</td>\n",
       "      <td>0</td>\n",
       "      <td>0</td>\n",
       "      <td>valee002</td>\n",
       "      <td>clemr001</td>\n",
       "    </tr>\n",
       "    <tr>\n",
       "      <th>8</th>\n",
       "      <td>4</td>\n",
       "      <td>1</td>\n",
       "      <td>5</td>\n",
       "      <td>R</td>\n",
       "      <td>0</td>\n",
       "      <td>1</td>\n",
       "      <td>1</td>\n",
       "      <td>1</td>\n",
       "      <td>valee002</td>\n",
       "      <td>cordc001</td>\n",
       "    </tr>\n",
       "    <tr>\n",
       "      <th>9</th>\n",
       "      <td>3</td>\n",
       "      <td>2</td>\n",
       "      <td>5</td>\n",
       "      <td>R</td>\n",
       "      <td>0</td>\n",
       "      <td>0</td>\n",
       "      <td>4</td>\n",
       "      <td>2</td>\n",
       "      <td>valee002</td>\n",
       "      <td>daigc001</td>\n",
       "    </tr>\n",
       "    <tr>\n",
       "      <th>10</th>\n",
       "      <td>5</td>\n",
       "      <td>2</td>\n",
       "      <td>5</td>\n",
       "      <td>R</td>\n",
       "      <td>0</td>\n",
       "      <td>2</td>\n",
       "      <td>2</td>\n",
       "      <td>0</td>\n",
       "      <td>valee002</td>\n",
       "      <td>foggj001</td>\n",
       "    </tr>\n",
       "    <tr>\n",
       "      <th>11</th>\n",
       "      <td>4</td>\n",
       "      <td>1</td>\n",
       "      <td>4</td>\n",
       "      <td>R</td>\n",
       "      <td>0</td>\n",
       "      <td>0</td>\n",
       "      <td>1</td>\n",
       "      <td>0</td>\n",
       "      <td>valee002</td>\n",
       "      <td>greiz001</td>\n",
       "    </tr>\n",
       "    <tr>\n",
       "      <th>12</th>\n",
       "      <td>11</td>\n",
       "      <td>3</td>\n",
       "      <td>11</td>\n",
       "      <td>R</td>\n",
       "      <td>0</td>\n",
       "      <td>2</td>\n",
       "      <td>9</td>\n",
       "      <td>0</td>\n",
       "      <td>valee002</td>\n",
       "      <td>hernl003</td>\n",
       "    </tr>\n",
       "    <tr>\n",
       "      <th>13</th>\n",
       "      <td>3</td>\n",
       "      <td>1</td>\n",
       "      <td>4</td>\n",
       "      <td>R</td>\n",
       "      <td>0</td>\n",
       "      <td>0</td>\n",
       "      <td>3</td>\n",
       "      <td>1</td>\n",
       "      <td>valee002</td>\n",
       "      <td>jennj001</td>\n",
       "    </tr>\n",
       "    <tr>\n",
       "      <th>14</th>\n",
       "      <td>5</td>\n",
       "      <td>1</td>\n",
       "      <td>6</td>\n",
       "      <td>R</td>\n",
       "      <td>0</td>\n",
       "      <td>0</td>\n",
       "      <td>3</td>\n",
       "      <td>1</td>\n",
       "      <td>valee002</td>\n",
       "      <td>johnj007</td>\n",
       "    </tr>\n",
       "    <tr>\n",
       "      <th>15</th>\n",
       "      <td>7</td>\n",
       "      <td>2</td>\n",
       "      <td>7</td>\n",
       "      <td>R</td>\n",
       "      <td>0</td>\n",
       "      <td>2</td>\n",
       "      <td>4</td>\n",
       "      <td>0</td>\n",
       "      <td>valee002</td>\n",
       "      <td>lawrb001</td>\n",
       "    </tr>\n",
       "    <tr>\n",
       "      <th>16</th>\n",
       "      <td>9</td>\n",
       "      <td>1</td>\n",
       "      <td>9</td>\n",
       "      <td>R</td>\n",
       "      <td>0</td>\n",
       "      <td>1</td>\n",
       "      <td>1</td>\n",
       "      <td>0</td>\n",
       "      <td>valee002</td>\n",
       "      <td>morrm001</td>\n",
       "    </tr>\n",
       "    <tr>\n",
       "      <th>17</th>\n",
       "      <td>5</td>\n",
       "      <td>3</td>\n",
       "      <td>5</td>\n",
       "      <td>R</td>\n",
       "      <td>0</td>\n",
       "      <td>1</td>\n",
       "      <td>5</td>\n",
       "      <td>0</td>\n",
       "      <td>valee002</td>\n",
       "      <td>mussm001</td>\n",
       "    </tr>\n",
       "    <tr>\n",
       "      <th>18</th>\n",
       "      <td>4</td>\n",
       "      <td>0</td>\n",
       "      <td>4</td>\n",
       "      <td>R</td>\n",
       "      <td>0</td>\n",
       "      <td>1</td>\n",
       "      <td>0</td>\n",
       "      <td>0</td>\n",
       "      <td>valee002</td>\n",
       "      <td>ohkat001</td>\n",
       "    </tr>\n",
       "    <tr>\n",
       "      <th>19</th>\n",
       "      <td>6</td>\n",
       "      <td>3</td>\n",
       "      <td>8</td>\n",
       "      <td>R</td>\n",
       "      <td>0</td>\n",
       "      <td>0</td>\n",
       "      <td>7</td>\n",
       "      <td>2</td>\n",
       "      <td>valee002</td>\n",
       "      <td>ortir001</td>\n",
       "    </tr>\n",
       "    <tr>\n",
       "      <th>20</th>\n",
       "      <td>5</td>\n",
       "      <td>2</td>\n",
       "      <td>7</td>\n",
       "      <td>R</td>\n",
       "      <td>0</td>\n",
       "      <td>1</td>\n",
       "      <td>2</td>\n",
       "      <td>2</td>\n",
       "      <td>valee002</td>\n",
       "      <td>oswar001</td>\n",
       "    </tr>\n",
       "    <tr>\n",
       "      <th>21</th>\n",
       "      <td>4</td>\n",
       "      <td>0</td>\n",
       "      <td>6</td>\n",
       "      <td>R</td>\n",
       "      <td>0</td>\n",
       "      <td>3</td>\n",
       "      <td>0</td>\n",
       "      <td>2</td>\n",
       "      <td>valee002</td>\n",
       "      <td>pattj004</td>\n",
       "    </tr>\n",
       "    <tr>\n",
       "      <th>22</th>\n",
       "      <td>3</td>\n",
       "      <td>0</td>\n",
       "      <td>5</td>\n",
       "      <td>R</td>\n",
       "      <td>0</td>\n",
       "      <td>1</td>\n",
       "      <td>0</td>\n",
       "      <td>2</td>\n",
       "      <td>valee002</td>\n",
       "      <td>pavac001</td>\n",
       "    </tr>\n",
       "    <tr>\n",
       "      <th>23</th>\n",
       "      <td>4</td>\n",
       "      <td>0</td>\n",
       "      <td>4</td>\n",
       "      <td>R</td>\n",
       "      <td>0</td>\n",
       "      <td>0</td>\n",
       "      <td>0</td>\n",
       "      <td>0</td>\n",
       "      <td>valee002</td>\n",
       "      <td>peavj001</td>\n",
       "    </tr>\n",
       "    <tr>\n",
       "      <th>24</th>\n",
       "      <td>4</td>\n",
       "      <td>1</td>\n",
       "      <td>6</td>\n",
       "      <td>R</td>\n",
       "      <td>0</td>\n",
       "      <td>0</td>\n",
       "      <td>5</td>\n",
       "      <td>2</td>\n",
       "      <td>valee002</td>\n",
       "      <td>santv001</td>\n",
       "    </tr>\n",
       "    <tr>\n",
       "      <th>25</th>\n",
       "      <td>4</td>\n",
       "      <td>1</td>\n",
       "      <td>4</td>\n",
       "      <td>R</td>\n",
       "      <td>0</td>\n",
       "      <td>2</td>\n",
       "      <td>1</td>\n",
       "      <td>0</td>\n",
       "      <td>valee002</td>\n",
       "      <td>smolj001</td>\n",
       "    </tr>\n",
       "    <tr>\n",
       "      <th>26</th>\n",
       "      <td>7</td>\n",
       "      <td>1</td>\n",
       "      <td>7</td>\n",
       "      <td>R</td>\n",
       "      <td>0</td>\n",
       "      <td>2</td>\n",
       "      <td>1</td>\n",
       "      <td>0</td>\n",
       "      <td>valee002</td>\n",
       "      <td>thomj005</td>\n",
       "    </tr>\n",
       "    <tr>\n",
       "      <th>27</th>\n",
       "      <td>7</td>\n",
       "      <td>2</td>\n",
       "      <td>7</td>\n",
       "      <td>R</td>\n",
       "      <td>0</td>\n",
       "      <td>2</td>\n",
       "      <td>6</td>\n",
       "      <td>0</td>\n",
       "      <td>valee002</td>\n",
       "      <td>torrs001</td>\n",
       "    </tr>\n",
       "    <tr>\n",
       "      <th>28</th>\n",
       "      <td>6</td>\n",
       "      <td>0</td>\n",
       "      <td>6</td>\n",
       "      <td>R</td>\n",
       "      <td>0</td>\n",
       "      <td>1</td>\n",
       "      <td>0</td>\n",
       "      <td>0</td>\n",
       "      <td>valee002</td>\n",
       "      <td>voger001</td>\n",
       "    </tr>\n",
       "    <tr>\n",
       "      <th>29</th>\n",
       "      <td>4</td>\n",
       "      <td>0</td>\n",
       "      <td>4</td>\n",
       "      <td>R</td>\n",
       "      <td>0</td>\n",
       "      <td>0</td>\n",
       "      <td>0</td>\n",
       "      <td>0</td>\n",
       "      <td>valee002</td>\n",
       "      <td>webbb001</td>\n",
       "    </tr>\n",
       "  </tbody>\n",
       "</table>\n",
       "</div>"
      ],
      "text/plain": [
       "    AB  H  PA RL  SAC  SO  TB  W       bID       pID\n",
       "0    5  1   5  R    0   2   1  0  torrc001  medlk001\n",
       "1    3  0   3  L    1   2   0  0  kinnm002  leita001\n",
       "2    4  1   4  R    0   2   1  0  valee002  ayall001\n",
       "3    7  0   7  R    0   4   0  0  valee002  beckj002\n",
       "4    3  2   6  R    0   0   2  3  valee002  bumpn001\n",
       "5    4  0   4  R    0   3   0  0  valee002  burna001\n",
       "6    4  1   4  R    0   1   5  0  valee002  byrdp001\n",
       "7    6  0   6  R    0   3   0  0  valee002  clemr001\n",
       "8    4  1   5  R    0   1   1  1  valee002  cordc001\n",
       "9    3  2   5  R    0   0   4  2  valee002  daigc001\n",
       "10   5  2   5  R    0   2   2  0  valee002  foggj001\n",
       "11   4  1   4  R    0   0   1  0  valee002  greiz001\n",
       "12  11  3  11  R    0   2   9  0  valee002  hernl003\n",
       "13   3  1   4  R    0   0   3  1  valee002  jennj001\n",
       "14   5  1   6  R    0   0   3  1  valee002  johnj007\n",
       "15   7  2   7  R    0   2   4  0  valee002  lawrb001\n",
       "16   9  1   9  R    0   1   1  0  valee002  morrm001\n",
       "17   5  3   5  R    0   1   5  0  valee002  mussm001\n",
       "18   4  0   4  R    0   1   0  0  valee002  ohkat001\n",
       "19   6  3   8  R    0   0   7  2  valee002  ortir001\n",
       "20   5  2   7  R    0   1   2  2  valee002  oswar001\n",
       "21   4  0   6  R    0   3   0  2  valee002  pattj004\n",
       "22   3  0   5  R    0   1   0  2  valee002  pavac001\n",
       "23   4  0   4  R    0   0   0  0  valee002  peavj001\n",
       "24   4  1   6  R    0   0   5  2  valee002  santv001\n",
       "25   4  1   4  R    0   2   1  0  valee002  smolj001\n",
       "26   7  1   7  R    0   2   1  0  valee002  thomj005\n",
       "27   7  2   7  R    0   2   6  0  valee002  torrs001\n",
       "28   6  0   6  R    0   1   0  0  valee002  voger001\n",
       "29   4  0   4  R    0   0   0  0  valee002  webbb001"
      ]
     },
     "execution_count": 23,
     "metadata": {},
     "output_type": "execute_result"
    }
   ],
   "source": [
    "matchup_df.head(30)"
   ]
  },
  {
   "cell_type": "markdown",
   "metadata": {},
   "source": [
    "##Let's do some exploratory data analysis (EDA) on the matchups"
   ]
  },
  {
   "cell_type": "code",
   "execution_count": 24,
   "metadata": {
    "collapsed": false
   },
   "outputs": [],
   "source": [
    "batter_sums = matchup_df.groupby('bID').sum() #by-batter totals for H, AB, etc.\n",
    "batter_matchups = matchup_df.groupby('bID')['AB'].count() #Number of pitchers seen by each player"
   ]
  },
  {
   "cell_type": "code",
   "execution_count": 9,
   "metadata": {
    "collapsed": true
   },
   "outputs": [],
   "source": [
    "kde_times_seen = stats.gaussian_kde(matchup_df['PA'])"
   ]
  },
  {
   "cell_type": "code",
   "execution_count": 35,
   "metadata": {
    "collapsed": false
   },
   "outputs": [
    {
     "data": {
      "text/plain": [
       "<matplotlib.text.Text at 0x150dba490>"
      ]
     },
     "execution_count": 35,
     "metadata": {},
     "output_type": "execute_result"
    },
    {
     "data": {
      "image/png": "[encoded data removed]",
      "text/plain": [
       "<matplotlib.figure.Figure at 0x10921dad0>"
      ]
     },
     "metadata": {},
     "output_type": "display_data"
    }
   ],
   "source": [
    "fig, axis = plt.subplots(figsize=(8,5))\n",
    "plt.hist(matchup_df['PA'], normed=True, bins=80, histtype='step')\n",
    "x = np.linspace(0, 50, 200)\n",
    "axis.plot(x, kde_times_seen(x), 'k-')\n",
    "axis.set_xlim([0, 40])\n",
    "axis.set_xlabel('Plate Appearances Versus Pitcher', fontsize='x-large')\n",
    "axis.set_ylabel('Relative Number of Players', fontsize='x-large')"
   ]
  },
  {
   "cell_type": "code",
   "execution_count": 11,
   "metadata": {
    "collapsed": false
   },
   "outputs": [
    {
     "data": {
      "text/plain": [
       "<matplotlib.text.Text at 0x10cb72f50>"
      ]
     },
     "execution_count": 11,
     "metadata": {},
     "output_type": "execute_result"
    },
    {
     "data": {
      "image/png": "[encoded data removed]",
      "text/plain": [
       "<matplotlib.figure.Figure at 0x10cbd3fd0>"
      ]
     },
     "metadata": {},
     "output_type": "display_data"
    }
   ],
   "source": [
    "kde_matchups = stats.gaussian_kde(batter_matchups)\n",
    "fig, axis = plt.subplots(figsize=(8,5))\n",
    "x = np.linspace(0, 700, 1000)\n",
    "axis.plot(x, kde_matchups(x), 'k-')\n",
    "axis.set_xlabel('Number of Pitchers Faced (4 times or more)', fontsize='x-large')\n",
    "axis.set_ylabel('Relative Number of Players', fontsize='x-large')"
   ]
  },
  {
   "cell_type": "code",
   "execution_count": 227,
   "metadata": {
    "collapsed": false
   },
   "outputs": [
    {
     "data": {
      "text/plain": [
       "(<matplotlib.text.Text at 0x146cfb410>, <matplotlib.text.Text at 0x1439f3ed0>)"
      ]
     },
     "execution_count": 227,
     "metadata": {},
     "output_type": "execute_result"
    },
    {
     "data": {
      "image/png": "[encoded data removed]",
      "text/plain": [
       "<matplotlib.figure.Figure at 0x16a4559d0>"
      ]
     },
     "metadata": {},
     "output_type": "display_data"
    }
   ],
   "source": [
    "fig, axis = plt.subplots(figsize=(8,5))\n",
    "axis.plot(batter_sums['AB'], batter_sums['H']/batter_sums['AB'], 'ko')\n",
    "axis.set_xscale('log')\n",
    "axis.set_ylabel(r'AVG$_4$', fontsize='x-large'), axis.set_xlabel(r'AB$_4$', fontsize='x-large')"
   ]
  },
  {
   "cell_type": "code",
   "execution_count": 235,
   "metadata": {
    "collapsed": false
   },
   "outputs": [
    {
     "data": {
      "text/plain": [
       "<matplotlib.text.Text at 0x170db9850>"
      ]
     },
     "execution_count": 235,
     "metadata": {},
     "output_type": "execute_result"
    },
    {
     "data": {
      "image/png": "[encoded data removed]",
      "text/plain": [
       "<matplotlib.figure.Figure at 0x170b86710>"
      ]
     },
     "metadata": {},
     "output_type": "display_data"
    }
   ],
   "source": [
    "fig, axis = plt.subplots(figsize=(8,5))\n",
    "full_ABs = np.array([ABs[name] for name in batter_sums.index])\n",
    "full_Hs = np.array([Hs[name] for name in batter_sums.index])\n",
    "\n",
    "axis.plot(full_ABs, batter_sums['AB']/full_ABs, 'ko')\n",
    "# axis.plot(full_ABs, full_ABs, 'r--')\n",
    "axis.set_xscale('log')\n",
    "axis.set_xlabel('Total At Bats', fontsize='x-large')\n",
    "axis.set_ylabel('Fraction vs. Pitchers Seen 4x', fontsize='x-large')"
   ]
  },
  {
   "cell_type": "code",
   "execution_count": 248,
   "metadata": {
    "collapsed": false
   },
   "outputs": [
    {
     "data": {
      "text/plain": [
       "<matplotlib.text.Text at 0x17167a610>"
      ]
     },
     "execution_count": 248,
     "metadata": {},
     "output_type": "execute_result"
    },
    {
     "data": {
      "image/png": "[encoded data removed]",
      "text/plain": [
       "<matplotlib.figure.Figure at 0x1449cc150>"
      ]
     },
     "metadata": {},
     "output_type": "display_data"
    }
   ],
   "source": [
    "fig, axis = plt.subplots(figsize=(8,5))\n",
    "diff_kde = stats.gaussian_kde(diff_AVG)\n",
    "x = np.linspace(-.5, .5, 1000)\n",
    "axis.plot(x, diff_kde(x))\n",
    "axis.set_xlabel(r'AVG$_4$ - AVG', fontsize='x-large')"
   ]
  },
  {
   "cell_type": "code",
   "execution_count": 247,
   "metadata": {
    "collapsed": false
   },
   "outputs": [
    {
     "name": "stdout",
     "output_type": "stream",
     "text": [
      "DescribeResult(nobs=1864, minmax=(-0.29032258064516131, 0.5625), mean=-0.00016852009310608826, variance=0.0037276818165337343, skewness=1.3647627116170384, kurtosis=14.620110178640953)\n"
     ]
    }
   ],
   "source": [
    "print(stats.describe(diff_AVG))"
   ]
  },
  {
   "cell_type": "code",
   "execution_count": null,
   "metadata": {
    "collapsed": true
   },
   "outputs": [],
   "source": []
  }
 ],
 "metadata": {
  "kernelspec": {
   "display_name": "Python 2",
   "language": "python",
   "name": "python2"
  },
  "language_info": {
   "codemirror_mode": {
    "name": "ipython",
    "version": 2
   },
   "file_extension": ".py",
   "mimetype": "text/x-python",
   "name": "python",
   "nbconvert_exporter": "python",
   "pygments_lexer": "ipython2",
   "version": "2.7.10"
  }
 },
 "nbformat": 4,
 "nbformat_minor": 0
}
