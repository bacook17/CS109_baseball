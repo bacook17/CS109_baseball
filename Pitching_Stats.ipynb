{
 "cells": [
  {
   "cell_type": "code",
   "execution_count": 1,
   "metadata": {
    "collapsed": true
   },
   "outputs": [],
   "source": [
    "import numpy as np, matplotlib.pyplot as plt\n",
    "import pandas as pd\n",
    "import requests\n",
    "import time\n",
    "import json\n",
    "from bs4 import BeautifulSoup\n",
    "import sys\n",
    "from scipy import stats\n",
    "from sklearn.cross_validation import *\n",
    "\n",
    "pd.set_option('display.width', 500)\n",
    "pd.set_option('display.max_columns', 100)\n",
    "pd.set_option('display.notebook_repr_html', True)\n",
    "import seaborn as sns\n",
    "sns.set_style(\"whitegrid\")\n",
    "sns.set_context(\"poster\")\n",
    "\n",
    "%matplotlib inline"
   ]
  },
  {
   "cell_type": "code",
   "execution_count": 2,
   "metadata": {
    "collapsed": true
   },
   "outputs": [],
   "source": [
    "master = pd.read_csv('data/lahman/Master.csv')\n",
    "all_batting = pd.read_csv('data/lahman/Batting.csv')\n",
    "pitching = pd.read_csv('data/lahman/Pitching.csv')"
   ]
  },
  {
   "cell_type": "code",
   "execution_count": 3,
   "metadata": {
    "collapsed": false
   },
   "outputs": [],
   "source": [
    "retro_to_lah = dict(zip(master['retroID'], master['playerID'])) #key: retroID, value lahmanID"
   ]
  },
  {
   "cell_type": "code",
   "execution_count": 4,
   "metadata": {
    "collapsed": true
   },
   "outputs": [],
   "source": [
    "smalldf = pd.read_csv('data/small.csv')\n",
    "pitcherIDs = smalldf['pID'].unique()#RetroIDs\n",
    "L_pitcherIDs = [retro_to_lah[name] for name in pitcherIDs] #LahmanIDs"
   ]
  },
  {
   "cell_type": "code",
   "execution_count": 5,
   "metadata": {
    "collapsed": true
   },
   "outputs": [],
   "source": [
    "grouped =  pitching.groupby('playerID').sum().reset_index()\n",
    "mask = np.in1d(grouped.playerID, L_pitcherIDs)\n",
    "pitcher_sums = grouped[mask]"
   ]
  },
  {
   "cell_type": "markdown",
   "metadata": {},
   "source": [
    "For details on the Lahman file columns, see \"2.3: Pitching Table\": http://seanlahman.com/files/database/readme2014.txt\n",
    "\n",
    "pitcher_sums is just the \"sums\", so be sure to recalculate things like ERA and BAOpp that don't add linearly"
   ]
  },
  {
   "cell_type": "code",
   "execution_count": 6,
   "metadata": {
    "collapsed": false
   },
   "outputs": [
    {
     "name": "stderr",
     "output_type": "stream",
     "text": [
      "/Users/bcook/anaconda/lib/python2.7/site-packages/pandas/core/generic.py:2177: SettingWithCopyWarning: \n",
      "A value is trying to be set on a copy of a slice from a DataFrame.\n",
      "Try using .loc[row_indexer,col_indexer] = value instead\n",
      "\n",
      "See the the caveats in the documentation: http://pandas.pydata.org/pandas-docs/stable/indexing.html#indexing-view-versus-copy\n",
      "  self[name] = value\n"
     ]
    },
    {
     "data": {
      "text/html": [
       "<div>\n",
       "<table border=\"1\" class=\"dataframe\">\n",
       "  <thead>\n",
       "    <tr style=\"text-align: right;\">\n",
       "      <th></th>\n",
       "      <th>playerID</th>\n",
       "      <th>yearID</th>\n",
       "      <th>stint</th>\n",
       "      <th>W</th>\n",
       "      <th>L</th>\n",
       "      <th>G</th>\n",
       "      <th>GS</th>\n",
       "      <th>CG</th>\n",
       "      <th>SHO</th>\n",
       "      <th>SV</th>\n",
       "      <th>IPouts</th>\n",
       "      <th>H</th>\n",
       "      <th>ER</th>\n",
       "      <th>HR</th>\n",
       "      <th>BB</th>\n",
       "      <th>SO</th>\n",
       "      <th>BAOpp</th>\n",
       "      <th>ERA</th>\n",
       "      <th>IBB</th>\n",
       "      <th>WP</th>\n",
       "      <th>HBP</th>\n",
       "      <th>BK</th>\n",
       "      <th>BFP</th>\n",
       "      <th>GF</th>\n",
       "      <th>R</th>\n",
       "      <th>SH</th>\n",
       "      <th>SF</th>\n",
       "      <th>GIDP</th>\n",
       "    </tr>\n",
       "  </thead>\n",
       "  <tbody>\n",
       "    <tr>\n",
       "      <th>0</th>\n",
       "      <td>aardsda01</td>\n",
       "      <td>16069</td>\n",
       "      <td>8</td>\n",
       "      <td>15</td>\n",
       "      <td>17</td>\n",
       "      <td>298</td>\n",
       "      <td>0</td>\n",
       "      <td>0</td>\n",
       "      <td>0</td>\n",
       "      <td>69</td>\n",
       "      <td>919</td>\n",
       "      <td>271</td>\n",
       "      <td>144</td>\n",
       "      <td>35</td>\n",
       "      <td>169</td>\n",
       "      <td>305</td>\n",
       "      <td>0.352155</td>\n",
       "      <td>4.230686</td>\n",
       "      <td>19</td>\n",
       "      <td>11</td>\n",
       "      <td>15</td>\n",
       "      <td>1</td>\n",
       "      <td>1346</td>\n",
       "      <td>132</td>\n",
       "      <td>152</td>\n",
       "      <td>17</td>\n",
       "      <td>10</td>\n",
       "      <td>NaN</td>\n",
       "    </tr>\n",
       "    <tr>\n",
       "      <th>7</th>\n",
       "      <td>abbotji01</td>\n",
       "      <td>21932</td>\n",
       "      <td>12</td>\n",
       "      <td>87</td>\n",
       "      <td>108</td>\n",
       "      <td>263</td>\n",
       "      <td>254</td>\n",
       "      <td>31</td>\n",
       "      <td>6</td>\n",
       "      <td>0</td>\n",
       "      <td>5022</td>\n",
       "      <td>1779</td>\n",
       "      <td>791</td>\n",
       "      <td>154</td>\n",
       "      <td>620</td>\n",
       "      <td>888</td>\n",
       "      <td>0.341284</td>\n",
       "      <td>4.252688</td>\n",
       "      <td>30</td>\n",
       "      <td>53</td>\n",
       "      <td>32</td>\n",
       "      <td>11</td>\n",
       "      <td>7211</td>\n",
       "      <td>5</td>\n",
       "      <td>880</td>\n",
       "      <td>NaN</td>\n",
       "      <td>NaN</td>\n",
       "      <td>NaN</td>\n",
       "    </tr>\n",
       "    <tr>\n",
       "      <th>9</th>\n",
       "      <td>abbotpa01</td>\n",
       "      <td>23977</td>\n",
       "      <td>13</td>\n",
       "      <td>43</td>\n",
       "      <td>37</td>\n",
       "      <td>162</td>\n",
       "      <td>112</td>\n",
       "      <td>1</td>\n",
       "      <td>0</td>\n",
       "      <td>0</td>\n",
       "      <td>2162</td>\n",
       "      <td>682</td>\n",
       "      <td>394</td>\n",
       "      <td>101</td>\n",
       "      <td>393</td>\n",
       "      <td>496</td>\n",
       "      <td>0.349231</td>\n",
       "      <td>4.920444</td>\n",
       "      <td>17</td>\n",
       "      <td>37</td>\n",
       "      <td>21</td>\n",
       "      <td>0</td>\n",
       "      <td>3187</td>\n",
       "      <td>17</td>\n",
       "      <td>421</td>\n",
       "      <td>8</td>\n",
       "      <td>12</td>\n",
       "      <td>NaN</td>\n",
       "    </tr>\n",
       "    <tr>\n",
       "      <th>20</th>\n",
       "      <td>accarje01</td>\n",
       "      <td>20086</td>\n",
       "      <td>12</td>\n",
       "      <td>10</td>\n",
       "      <td>20</td>\n",
       "      <td>262</td>\n",
       "      <td>0</td>\n",
       "      <td>0</td>\n",
       "      <td>0</td>\n",
       "      <td>38</td>\n",
       "      <td>854</td>\n",
       "      <td>288</td>\n",
       "      <td>136</td>\n",
       "      <td>24</td>\n",
       "      <td>111</td>\n",
       "      <td>205</td>\n",
       "      <td>0.346972</td>\n",
       "      <td>4.299766</td>\n",
       "      <td>16</td>\n",
       "      <td>10</td>\n",
       "      <td>9</td>\n",
       "      <td>2</td>\n",
       "      <td>1222</td>\n",
       "      <td>115</td>\n",
       "      <td>143</td>\n",
       "      <td>5</td>\n",
       "      <td>13</td>\n",
       "      <td>NaN</td>\n",
       "    </tr>\n",
       "    <tr>\n",
       "      <th>21</th>\n",
       "      <td>aceveal01</td>\n",
       "      <td>14077</td>\n",
       "      <td>7</td>\n",
       "      <td>31</td>\n",
       "      <td>16</td>\n",
       "      <td>204</td>\n",
       "      <td>15</td>\n",
       "      <td>0</td>\n",
       "      <td>0</td>\n",
       "      <td>29</td>\n",
       "      <td>1141</td>\n",
       "      <td>333</td>\n",
       "      <td>162</td>\n",
       "      <td>48</td>\n",
       "      <td>129</td>\n",
       "      <td>282</td>\n",
       "      <td>0.310194</td>\n",
       "      <td>3.833479</td>\n",
       "      <td>6</td>\n",
       "      <td>5</td>\n",
       "      <td>28</td>\n",
       "      <td>6</td>\n",
       "      <td>1599</td>\n",
       "      <td>91</td>\n",
       "      <td>172</td>\n",
       "      <td>6</td>\n",
       "      <td>13</td>\n",
       "      <td>1</td>\n",
       "    </tr>\n",
       "  </tbody>\n",
       "</table>\n",
       "</div>"
      ],
      "text/plain": [
       "     playerID  yearID  stint   W    L    G   GS  CG  SHO  SV  IPouts     H   ER   HR   BB   SO     BAOpp       ERA  IBB  WP  HBP  BK   BFP   GF    R  SH  SF  GIDP\n",
       "0   aardsda01   16069      8  15   17  298    0   0    0  69     919   271  144   35  169  305  0.352155  4.230686   19  11   15   1  1346  132  152  17  10   NaN\n",
       "7   abbotji01   21932     12  87  108  263  254  31    6   0    5022  1779  791  154  620  888  0.341284  4.252688   30  53   32  11  7211    5  880 NaN NaN   NaN\n",
       "9   abbotpa01   23977     13  43   37  162  112   1    0   0    2162   682  394  101  393  496  0.349231  4.920444   17  37   21   0  3187   17  421   8  12   NaN\n",
       "20  accarje01   20086     12  10   20  262    0   0    0  38     854   288  136   24  111  205  0.346972  4.299766   16  10    9   2  1222  115  143   5  13   NaN\n",
       "21  aceveal01   14077      7  31   16  204   15   0    0  29    1141   333  162   48  129  282  0.310194  3.833479    6   5   28   6  1599   91  172   6  13     1"
      ]
     },
     "execution_count": 6,
     "metadata": {},
     "output_type": "execute_result"
    }
   ],
   "source": [
    "pitcher_sums.ERA = 9.*(pitcher_sums.ER)/(pitcher_sums.IPouts / 3.)\n",
    "pitcher_sums.BAOpp = (pitcher_sums.H + pitcher_sums.BB + pitcher_sums.IBB + pitcher_sums.HBP) / pitcher_sums.BFP\n",
    "pitcher_sums.head()"
   ]
  },
  {
   "cell_type": "code",
   "execution_count": 7,
   "metadata": {
    "collapsed": false
   },
   "outputs": [
    {
     "data": {
      "text/plain": [
       "<matplotlib.text.Text at 0x100534290>"
      ]
     },
     "execution_count": 7,
     "metadata": {},
     "output_type": "execute_result"
    },
    {
     "data": {
      "image/png": "[encoded data removed]",
      "text/plain": [
       "<matplotlib.figure.Figure at 0x109fba050>"
      ]
     },
     "metadata": {},
     "output_type": "display_data"
    }
   ],
   "source": [
    "plt.hist(pitcher_sums.ERA, bins=40)\n",
    "plt.xlabel('ERA')"
   ]
  },
  {
   "cell_type": "code",
   "execution_count": null,
   "metadata": {
    "collapsed": true
   },
   "outputs": [],
   "source": []
  }
 ],
 "metadata": {
  "kernelspec": {
   "display_name": "Python 2",
   "language": "python",
   "name": "python2"
  },
  "language_info": {
   "codemirror_mode": {
    "name": "ipython",
    "version": 2
   },
   "file_extension": ".py",
   "mimetype": "text/x-python",
   "name": "python",
   "nbconvert_exporter": "python",
   "pygments_lexer": "ipython2",
   "version": "2.7.10"
  }
 },
 "nbformat": 4,
 "nbformat_minor": 0
}
