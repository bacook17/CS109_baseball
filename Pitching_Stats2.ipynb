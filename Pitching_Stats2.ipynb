{
 "cells": [
  {
   "cell_type": "code",
   "execution_count": 21,
   "metadata": {
    "collapsed": false
   },
   "outputs": [],
   "source": [
    "#Loading in appropriate packages\n",
    "import numpy as np, matplotlib.pyplot as plt\n",
    "import pandas as pd\n",
    "import requests\n",
    "import time\n",
    "import json\n",
    "from bs4 import BeautifulSoup\n",
    "import sys\n",
    "from scipy import stats\n",
    "from sklearn.cross_validation import *\n",
    "\n",
    "pd.set_option('display.width', 500)\n",
    "pd.set_option('display.max_columns', 100)\n",
    "pd.set_option('display.notebook_repr_html', True)\n",
    "import seaborn as sns\n",
    "sns.set_style(\"whitegrid\")\n",
    "sns.set_context(\"poster\")\n",
    "\n",
    "%matplotlib inline"
   ]
  },
  {
   "cell_type": "code",
   "execution_count": 22,
   "metadata": {
    "collapsed": true
   },
   "outputs": [],
   "source": [
    "#Loading in Relevant Dataframes\n",
    "master = pd.read_csv('data/lahman/Master.csv')\n",
    "pitching = pd.read_csv('data/lahman/Pitching.csv')\n",
    "smalldf = pd.read_csv('data/small.csv')"
   ]
  },
  {
   "cell_type": "code",
   "execution_count": 23,
   "metadata": {
    "collapsed": false
   },
   "outputs": [
    {
     "data": {
      "text/plain": [
       "Index([u'playerID', u'yearID', u'stint', u'teamID', u'lgID', u'W', u'L', u'G', u'GS', u'CG', u'SHO', u'SV', u'IPouts', u'H', u'ER', u'HR', u'BB', u'SO', u'BAOpp', u'ERA', u'IBB', u'WP', u'HBP', u'BK', u'BFP', u'GF', u'R', u'SH', u'SF', u'GIDP'], dtype='object')"
      ]
     },
     "execution_count": 23,
     "metadata": {},
     "output_type": "execute_result"
    }
   ],
   "source": [
    "pitching.columns"
   ]
  },
  {
   "cell_type": "markdown",
   "metadata": {},
   "source": [
    "For details on the Lahman file columns, see \"2.3: Pitching Table\": http://seanlahman.com/files/database/readme2014.txt\n",
    "\n",
    "pitcher_sums is just the \"sums\", so be sure to recalculate things like ERA and BAOpp that don't add linearly"
   ]
  },
  {
   "cell_type": "code",
   "execution_count": 24,
   "metadata": {
    "collapsed": true
   },
   "outputs": [],
   "source": [
    "#Ben's intro code\n",
    "retro_to_lah = dict(zip(master['retroID'], master['playerID']))\n",
    "#retro_to_hand = dict(zip(master['retroID'], master['throws']))\n",
    "#pitcherIDs = smalldf['pID'].unique()#RetroIDs\n",
    "#L_pitcherIDs = [retro_to_lah[name] for name in pitcherIDs] #LahmanIDs\n",
    "#grouped =  pitching.groupby('playerID').sum().reset_index()\n",
    "#mask = np.in1d(grouped.playerID, L_pitcherIDs)\n",
    "#pitcher_sums = grouped[mask]"
   ]
  },
  {
   "cell_type": "code",
   "execution_count": 25,
   "metadata": {
    "collapsed": false
   },
   "outputs": [
    {
     "data": {
      "text/html": [
       "<div>\n",
       "<table border=\"1\" class=\"dataframe\">\n",
       "  <thead>\n",
       "    <tr style=\"text-align: right;\">\n",
       "      <th></th>\n",
       "      <th>bID</th>\n",
       "      <th>pID</th>\n",
       "      <th>AB</th>\n",
       "      <th>H</th>\n",
       "      <th>PA</th>\n",
       "      <th>RL</th>\n",
       "      <th>SAC</th>\n",
       "      <th>SO</th>\n",
       "      <th>TB</th>\n",
       "      <th>W</th>\n",
       "      <th>matchID</th>\n",
       "      <th>AVG</th>\n",
       "      <th>OBP</th>\n",
       "      <th>ov_AB</th>\n",
       "      <th>ov_H</th>\n",
       "      <th>ov_PA</th>\n",
       "      <th>ov_SAC</th>\n",
       "      <th>ov_SO</th>\n",
       "      <th>ov_TB</th>\n",
       "      <th>ov_W</th>\n",
       "      <th>ov_AVG</th>\n",
       "      <th>ov_OBP</th>\n",
       "      <th>ov_FACED</th>\n",
       "      <th>ov_SO_PCT</th>\n",
       "      <th>ov_W_PCT</th>\n",
       "      <th>ov_H_PCT</th>\n",
       "      <th>ovp_AB</th>\n",
       "      <th>ovp_H</th>\n",
       "      <th>ovp_PA</th>\n",
       "      <th>ovp_SAC</th>\n",
       "      <th>ovp_SO</th>\n",
       "      <th>ovp_TB</th>\n",
       "      <th>ovp_W</th>\n",
       "      <th>ovp_AVG</th>\n",
       "      <th>ovp_OBP</th>\n",
       "      <th>ovp_FACED</th>\n",
       "      <th>ovp_SO_PCT</th>\n",
       "      <th>ovp_W_PCT</th>\n",
       "      <th>ovp_H_PCT</th>\n",
       "    </tr>\n",
       "  </thead>\n",
       "  <tbody>\n",
       "    <tr>\n",
       "      <th>0</th>\n",
       "      <td>schic002</td>\n",
       "      <td>benea001</td>\n",
       "      <td>9</td>\n",
       "      <td>0</td>\n",
       "      <td>9</td>\n",
       "      <td>R</td>\n",
       "      <td>1</td>\n",
       "      <td>4</td>\n",
       "      <td>0</td>\n",
       "      <td>0</td>\n",
       "      <td>schic002_benea001</td>\n",
       "      <td>0.000000</td>\n",
       "      <td>0.000000</td>\n",
       "      <td>146</td>\n",
       "      <td>22</td>\n",
       "      <td>150</td>\n",
       "      <td>14</td>\n",
       "      <td>57</td>\n",
       "      <td>30</td>\n",
       "      <td>4</td>\n",
       "      <td>0.150685</td>\n",
       "      <td>0.173333</td>\n",
       "      <td>14</td>\n",
       "      <td>0.38</td>\n",
       "      <td>0.026667</td>\n",
       "      <td>0.146667</td>\n",
       "      <td>3046</td>\n",
       "      <td>827</td>\n",
       "      <td>3425</td>\n",
       "      <td>46</td>\n",
       "      <td>609</td>\n",
       "      <td>1713</td>\n",
       "      <td>379</td>\n",
       "      <td>0.271504</td>\n",
       "      <td>0.352117</td>\n",
       "      <td>136</td>\n",
       "      <td>0.177810</td>\n",
       "      <td>0.110657</td>\n",
       "      <td>0.241460</td>\n",
       "    </tr>\n",
       "    <tr>\n",
       "      <th>1</th>\n",
       "      <td>schic002</td>\n",
       "      <td>browk001</td>\n",
       "      <td>11</td>\n",
       "      <td>1</td>\n",
       "      <td>11</td>\n",
       "      <td>R</td>\n",
       "      <td>0</td>\n",
       "      <td>6</td>\n",
       "      <td>1</td>\n",
       "      <td>0</td>\n",
       "      <td>schic002_browk001</td>\n",
       "      <td>0.090909</td>\n",
       "      <td>0.090909</td>\n",
       "      <td>146</td>\n",
       "      <td>22</td>\n",
       "      <td>150</td>\n",
       "      <td>14</td>\n",
       "      <td>57</td>\n",
       "      <td>30</td>\n",
       "      <td>4</td>\n",
       "      <td>0.150685</td>\n",
       "      <td>0.173333</td>\n",
       "      <td>14</td>\n",
       "      <td>0.38</td>\n",
       "      <td>0.026667</td>\n",
       "      <td>0.146667</td>\n",
       "      <td>4582</td>\n",
       "      <td>1159</td>\n",
       "      <td>4989</td>\n",
       "      <td>47</td>\n",
       "      <td>892</td>\n",
       "      <td>1974</td>\n",
       "      <td>407</td>\n",
       "      <td>0.252946</td>\n",
       "      <td>0.313891</td>\n",
       "      <td>222</td>\n",
       "      <td>0.178793</td>\n",
       "      <td>0.081579</td>\n",
       "      <td>0.232311</td>\n",
       "    </tr>\n",
       "    <tr>\n",
       "      <th>2</th>\n",
       "      <td>schic002</td>\n",
       "      <td>fassj001</td>\n",
       "      <td>11</td>\n",
       "      <td>2</td>\n",
       "      <td>11</td>\n",
       "      <td>L</td>\n",
       "      <td>1</td>\n",
       "      <td>5</td>\n",
       "      <td>4</td>\n",
       "      <td>0</td>\n",
       "      <td>schic002_fassj001</td>\n",
       "      <td>0.181818</td>\n",
       "      <td>0.181818</td>\n",
       "      <td>146</td>\n",
       "      <td>22</td>\n",
       "      <td>150</td>\n",
       "      <td>14</td>\n",
       "      <td>57</td>\n",
       "      <td>30</td>\n",
       "      <td>4</td>\n",
       "      <td>0.150685</td>\n",
       "      <td>0.173333</td>\n",
       "      <td>14</td>\n",
       "      <td>0.38</td>\n",
       "      <td>0.026667</td>\n",
       "      <td>0.146667</td>\n",
       "      <td>3006</td>\n",
       "      <td>847</td>\n",
       "      <td>3357</td>\n",
       "      <td>40</td>\n",
       "      <td>582</td>\n",
       "      <td>1587</td>\n",
       "      <td>351</td>\n",
       "      <td>0.281770</td>\n",
       "      <td>0.356866</td>\n",
       "      <td>185</td>\n",
       "      <td>0.173369</td>\n",
       "      <td>0.104558</td>\n",
       "      <td>0.252309</td>\n",
       "    </tr>\n",
       "    <tr>\n",
       "      <th>3</th>\n",
       "      <td>schic002</td>\n",
       "      <td>glavt001</td>\n",
       "      <td>14</td>\n",
       "      <td>3</td>\n",
       "      <td>14</td>\n",
       "      <td>L</td>\n",
       "      <td>1</td>\n",
       "      <td>3</td>\n",
       "      <td>5</td>\n",
       "      <td>0</td>\n",
       "      <td>schic002_glavt001</td>\n",
       "      <td>0.214286</td>\n",
       "      <td>0.214286</td>\n",
       "      <td>146</td>\n",
       "      <td>22</td>\n",
       "      <td>150</td>\n",
       "      <td>14</td>\n",
       "      <td>57</td>\n",
       "      <td>30</td>\n",
       "      <td>4</td>\n",
       "      <td>0.150685</td>\n",
       "      <td>0.173333</td>\n",
       "      <td>14</td>\n",
       "      <td>0.38</td>\n",
       "      <td>0.026667</td>\n",
       "      <td>0.146667</td>\n",
       "      <td>7561</td>\n",
       "      <td>2115</td>\n",
       "      <td>8413</td>\n",
       "      <td>102</td>\n",
       "      <td>985</td>\n",
       "      <td>3852</td>\n",
       "      <td>852</td>\n",
       "      <td>0.279725</td>\n",
       "      <td>0.352668</td>\n",
       "      <td>280</td>\n",
       "      <td>0.117081</td>\n",
       "      <td>0.101272</td>\n",
       "      <td>0.251397</td>\n",
       "    </tr>\n",
       "    <tr>\n",
       "      <th>4</th>\n",
       "      <td>schic002</td>\n",
       "      <td>hampm001</td>\n",
       "      <td>16</td>\n",
       "      <td>2</td>\n",
       "      <td>16</td>\n",
       "      <td>L</td>\n",
       "      <td>1</td>\n",
       "      <td>6</td>\n",
       "      <td>2</td>\n",
       "      <td>0</td>\n",
       "      <td>schic002_hampm001</td>\n",
       "      <td>0.125000</td>\n",
       "      <td>0.125000</td>\n",
       "      <td>146</td>\n",
       "      <td>22</td>\n",
       "      <td>150</td>\n",
       "      <td>14</td>\n",
       "      <td>57</td>\n",
       "      <td>30</td>\n",
       "      <td>4</td>\n",
       "      <td>0.150685</td>\n",
       "      <td>0.173333</td>\n",
       "      <td>14</td>\n",
       "      <td>0.38</td>\n",
       "      <td>0.026667</td>\n",
       "      <td>0.146667</td>\n",
       "      <td>4782</td>\n",
       "      <td>1361</td>\n",
       "      <td>5339</td>\n",
       "      <td>53</td>\n",
       "      <td>666</td>\n",
       "      <td>2355</td>\n",
       "      <td>557</td>\n",
       "      <td>0.284609</td>\n",
       "      <td>0.359243</td>\n",
       "      <td>232</td>\n",
       "      <td>0.124742</td>\n",
       "      <td>0.104327</td>\n",
       "      <td>0.254917</td>\n",
       "    </tr>\n",
       "  </tbody>\n",
       "</table>\n",
       "</div>"
      ],
      "text/plain": [
       "        bID       pID  AB  H  PA RL  SAC  SO  TB  W            matchID       AVG       OBP  ov_AB  ov_H  ov_PA  ov_SAC  ov_SO  ov_TB  ov_W    ov_AVG    ov_OBP  ov_FACED  ov_SO_PCT  ov_W_PCT  ov_H_PCT  ovp_AB  ovp_H  ovp_PA  ovp_SAC  ovp_SO  ovp_TB  ovp_W   ovp_AVG   ovp_OBP  ovp_FACED  ovp_SO_PCT  ovp_W_PCT  ovp_H_PCT\n",
       "0  schic002  benea001   9  0   9  R    1   4   0  0  schic002_benea001  0.000000  0.000000    146    22    150      14     57     30     4  0.150685  0.173333        14       0.38  0.026667  0.146667    3046    827    3425       46     609    1713    379  0.271504  0.352117        136    0.177810   0.110657   0.241460\n",
       "1  schic002  browk001  11  1  11  R    0   6   1  0  schic002_browk001  0.090909  0.090909    146    22    150      14     57     30     4  0.150685  0.173333        14       0.38  0.026667  0.146667    4582   1159    4989       47     892    1974    407  0.252946  0.313891        222    0.178793   0.081579   0.232311\n",
       "2  schic002  fassj001  11  2  11  L    1   5   4  0  schic002_fassj001  0.181818  0.181818    146    22    150      14     57     30     4  0.150685  0.173333        14       0.38  0.026667  0.146667    3006    847    3357       40     582    1587    351  0.281770  0.356866        185    0.173369   0.104558   0.252309\n",
       "3  schic002  glavt001  14  3  14  L    1   3   5  0  schic002_glavt001  0.214286  0.214286    146    22    150      14     57     30     4  0.150685  0.173333        14       0.38  0.026667  0.146667    7561   2115    8413      102     985    3852    852  0.279725  0.352668        280    0.117081   0.101272   0.251397\n",
       "4  schic002  hampm001  16  2  16  L    1   6   2  0  schic002_hampm001  0.125000  0.125000    146    22    150      14     57     30     4  0.150685  0.173333        14       0.38  0.026667  0.146667    4782   1361    5339       53     666    2355    557  0.284609  0.359243        232    0.124742   0.104327   0.254917"
      ]
     },
     "execution_count": 25,
     "metadata": {},
     "output_type": "execute_result"
    }
   ],
   "source": [
    "smalldf.head()"
   ]
  },
  {
   "cell_type": "code",
   "execution_count": 26,
   "metadata": {
    "collapsed": false
   },
   "outputs": [
    {
     "data": {
      "text/html": [
       "<div>\n",
       "<table border=\"1\" class=\"dataframe\">\n",
       "  <thead>\n",
       "    <tr style=\"text-align: right;\">\n",
       "      <th></th>\n",
       "      <th>playerID</th>\n",
       "      <th>yearID</th>\n",
       "      <th>stint</th>\n",
       "      <th>teamID</th>\n",
       "      <th>lgID</th>\n",
       "      <th>W</th>\n",
       "      <th>L</th>\n",
       "      <th>G</th>\n",
       "      <th>GS</th>\n",
       "      <th>CG</th>\n",
       "      <th>SHO</th>\n",
       "      <th>SV</th>\n",
       "      <th>IPouts</th>\n",
       "      <th>H</th>\n",
       "      <th>ER</th>\n",
       "      <th>HR</th>\n",
       "      <th>BB</th>\n",
       "      <th>SO</th>\n",
       "      <th>BAOpp</th>\n",
       "      <th>ERA</th>\n",
       "      <th>IBB</th>\n",
       "      <th>WP</th>\n",
       "      <th>HBP</th>\n",
       "      <th>BK</th>\n",
       "      <th>BFP</th>\n",
       "      <th>GF</th>\n",
       "      <th>R</th>\n",
       "      <th>SH</th>\n",
       "      <th>SF</th>\n",
       "      <th>GIDP</th>\n",
       "    </tr>\n",
       "  </thead>\n",
       "  <tbody>\n",
       "    <tr>\n",
       "      <th>0</th>\n",
       "      <td>bechtge01</td>\n",
       "      <td>1871</td>\n",
       "      <td>1</td>\n",
       "      <td>PH1</td>\n",
       "      <td>NaN</td>\n",
       "      <td>1</td>\n",
       "      <td>2</td>\n",
       "      <td>3</td>\n",
       "      <td>3</td>\n",
       "      <td>2</td>\n",
       "      <td>0</td>\n",
       "      <td>0</td>\n",
       "      <td>78</td>\n",
       "      <td>43</td>\n",
       "      <td>23</td>\n",
       "      <td>0</td>\n",
       "      <td>11</td>\n",
       "      <td>1</td>\n",
       "      <td>NaN</td>\n",
       "      <td>7.96</td>\n",
       "      <td>NaN</td>\n",
       "      <td>NaN</td>\n",
       "      <td>NaN</td>\n",
       "      <td>0</td>\n",
       "      <td>NaN</td>\n",
       "      <td>NaN</td>\n",
       "      <td>42</td>\n",
       "      <td>NaN</td>\n",
       "      <td>NaN</td>\n",
       "      <td>NaN</td>\n",
       "    </tr>\n",
       "    <tr>\n",
       "      <th>1</th>\n",
       "      <td>brainas01</td>\n",
       "      <td>1871</td>\n",
       "      <td>1</td>\n",
       "      <td>WS3</td>\n",
       "      <td>NaN</td>\n",
       "      <td>12</td>\n",
       "      <td>15</td>\n",
       "      <td>30</td>\n",
       "      <td>30</td>\n",
       "      <td>30</td>\n",
       "      <td>0</td>\n",
       "      <td>0</td>\n",
       "      <td>792</td>\n",
       "      <td>361</td>\n",
       "      <td>132</td>\n",
       "      <td>4</td>\n",
       "      <td>37</td>\n",
       "      <td>13</td>\n",
       "      <td>NaN</td>\n",
       "      <td>4.50</td>\n",
       "      <td>NaN</td>\n",
       "      <td>NaN</td>\n",
       "      <td>NaN</td>\n",
       "      <td>0</td>\n",
       "      <td>NaN</td>\n",
       "      <td>NaN</td>\n",
       "      <td>292</td>\n",
       "      <td>NaN</td>\n",
       "      <td>NaN</td>\n",
       "      <td>NaN</td>\n",
       "    </tr>\n",
       "    <tr>\n",
       "      <th>2</th>\n",
       "      <td>fergubo01</td>\n",
       "      <td>1871</td>\n",
       "      <td>1</td>\n",
       "      <td>NY2</td>\n",
       "      <td>NaN</td>\n",
       "      <td>0</td>\n",
       "      <td>0</td>\n",
       "      <td>1</td>\n",
       "      <td>0</td>\n",
       "      <td>0</td>\n",
       "      <td>0</td>\n",
       "      <td>0</td>\n",
       "      <td>3</td>\n",
       "      <td>8</td>\n",
       "      <td>3</td>\n",
       "      <td>0</td>\n",
       "      <td>0</td>\n",
       "      <td>0</td>\n",
       "      <td>NaN</td>\n",
       "      <td>27.00</td>\n",
       "      <td>NaN</td>\n",
       "      <td>NaN</td>\n",
       "      <td>NaN</td>\n",
       "      <td>0</td>\n",
       "      <td>NaN</td>\n",
       "      <td>NaN</td>\n",
       "      <td>9</td>\n",
       "      <td>NaN</td>\n",
       "      <td>NaN</td>\n",
       "      <td>NaN</td>\n",
       "    </tr>\n",
       "    <tr>\n",
       "      <th>3</th>\n",
       "      <td>fishech01</td>\n",
       "      <td>1871</td>\n",
       "      <td>1</td>\n",
       "      <td>RC1</td>\n",
       "      <td>NaN</td>\n",
       "      <td>4</td>\n",
       "      <td>16</td>\n",
       "      <td>24</td>\n",
       "      <td>24</td>\n",
       "      <td>22</td>\n",
       "      <td>1</td>\n",
       "      <td>0</td>\n",
       "      <td>639</td>\n",
       "      <td>295</td>\n",
       "      <td>103</td>\n",
       "      <td>3</td>\n",
       "      <td>31</td>\n",
       "      <td>15</td>\n",
       "      <td>NaN</td>\n",
       "      <td>4.35</td>\n",
       "      <td>NaN</td>\n",
       "      <td>NaN</td>\n",
       "      <td>NaN</td>\n",
       "      <td>0</td>\n",
       "      <td>NaN</td>\n",
       "      <td>NaN</td>\n",
       "      <td>257</td>\n",
       "      <td>NaN</td>\n",
       "      <td>NaN</td>\n",
       "      <td>NaN</td>\n",
       "    </tr>\n",
       "    <tr>\n",
       "      <th>4</th>\n",
       "      <td>fleetfr01</td>\n",
       "      <td>1871</td>\n",
       "      <td>1</td>\n",
       "      <td>NY2</td>\n",
       "      <td>NaN</td>\n",
       "      <td>0</td>\n",
       "      <td>1</td>\n",
       "      <td>1</td>\n",
       "      <td>1</td>\n",
       "      <td>1</td>\n",
       "      <td>0</td>\n",
       "      <td>0</td>\n",
       "      <td>27</td>\n",
       "      <td>20</td>\n",
       "      <td>10</td>\n",
       "      <td>0</td>\n",
       "      <td>3</td>\n",
       "      <td>0</td>\n",
       "      <td>NaN</td>\n",
       "      <td>10.00</td>\n",
       "      <td>NaN</td>\n",
       "      <td>NaN</td>\n",
       "      <td>NaN</td>\n",
       "      <td>0</td>\n",
       "      <td>NaN</td>\n",
       "      <td>NaN</td>\n",
       "      <td>21</td>\n",
       "      <td>NaN</td>\n",
       "      <td>NaN</td>\n",
       "      <td>NaN</td>\n",
       "    </tr>\n",
       "  </tbody>\n",
       "</table>\n",
       "</div>"
      ],
      "text/plain": [
       "    playerID  yearID  stint teamID lgID   W   L   G  GS  CG  SHO  SV  IPouts    H   ER  HR  BB  SO  BAOpp    ERA  IBB  WP  HBP  BK  BFP  GF    R  SH  SF  GIDP\n",
       "0  bechtge01    1871      1    PH1  NaN   1   2   3   3   2    0   0      78   43   23   0  11   1    NaN   7.96  NaN NaN  NaN   0  NaN NaN   42 NaN NaN   NaN\n",
       "1  brainas01    1871      1    WS3  NaN  12  15  30  30  30    0   0     792  361  132   4  37  13    NaN   4.50  NaN NaN  NaN   0  NaN NaN  292 NaN NaN   NaN\n",
       "2  fergubo01    1871      1    NY2  NaN   0   0   1   0   0    0   0       3    8    3   0   0   0    NaN  27.00  NaN NaN  NaN   0  NaN NaN    9 NaN NaN   NaN\n",
       "3  fishech01    1871      1    RC1  NaN   4  16  24  24  22    1   0     639  295  103   3  31  15    NaN   4.35  NaN NaN  NaN   0  NaN NaN  257 NaN NaN   NaN\n",
       "4  fleetfr01    1871      1    NY2  NaN   0   1   1   1   1    0   0      27   20   10   0   3   0    NaN  10.00  NaN NaN  NaN   0  NaN NaN   21 NaN NaN   NaN"
      ]
     },
     "execution_count": 26,
     "metadata": {},
     "output_type": "execute_result"
    }
   ],
   "source": [
    "pitching.head()"
   ]
  },
  {
   "cell_type": "markdown",
   "metadata": {},
   "source": [
    "#Pitchers Similarity Formula\n",
    "\n",
    "Start with a thousand and then subtract the following:\n",
    "\n",
    "One point for each difference of 1 win.\n",
    "\n",
    "One point for each difference of 2 losses.\n",
    "\n",
    "One point for each difference of .002 in winning percentage (max 100 points).\n",
    "\n",
    "One point for each difference of .02 in ERA (max 100 points).\n",
    "\n",
    "One point for each difference of 10 games pitched.\n",
    "\n",
    "One point for each difference of 20 starts.\n",
    "\n",
    "One point for each difference of 20 complete games.\n",
    "\n",
    "One point for each difference of 50 innings pitched.\n",
    "\n",
    "One point for each difference of 50 hits allowed.\n",
    "\n",
    "One point for each difference of 30 strikeouts.\n",
    "\n",
    "One point for each difference of 10 walks.\n",
    "\n",
    "One point for each difference of 5 shutouts.\n",
    "\n",
    "One point for each difference of 3 saves.\n",
    "\n",
    "If they throw with a different hand and are starters subtract 10, relievers 25. For relievers you halve the winning percentage penalty. For all pitchers, the winning percentage penalty can be no larger than 1.5 times the wins and losses penalty. Relievers are defined as more relief appearances than starts and less than 4.00 innings per appearance.\n",
    "\n",
    "We plugged all this in to create the lists you see on the player pages. Note that a player must have 100 innings pitched or 500 at bats before being considered, and to be truly accurate you need to look at whole careers, but it is fun to speculate all the same."
   ]
  },
  {
   "cell_type": "code",
   "execution_count": 27,
   "metadata": {
    "collapsed": false
   },
   "outputs": [],
   "source": [
    "##input is the smalldf rows corresponding to the 2 pitcher ids\n",
    "def pitcher_sim(p1_matchups, p2_matchups, n_common=0):\n",
    "    p1name=list(p1_matchups['pID'][:1])[0]  #getting the IDs for both pitchers\n",
    "    p2name=list(p2_matchups['pID'][:1])[0]\n",
    "    dfhands=pd.DataFrame({'RL':[list(p1_matchups['RL'][:1])[0],list(p2_matchups['RL'][:1])[0]]}) #retrieving handedness from  smalldf\n",
    "    listed= [p1name,p2name]\n",
    "    two_pitcherIDs= [retro_to_lah[name] for name in listed] #getting the lahman ids for the 2 pitcher ids to use in Pitching Dataframe\n",
    "\n",
    "    grouped2 =  pitching.groupby('playerID').sum().reset_index() #getting the summed data for each unique playerID\n",
    "    mask2 = np.in1d(grouped2.playerID, two_pitcherIDs) #creating a mask for the 2 pitcher IDs needed\n",
    "    pitchers=grouped2[mask2].reset_index() #resetting the index to 0,1 to make concatenating dataframes easier\n",
    "    pitchers.ERA = 9.*(pitchers.ER)/(pitchers.IPouts / 3.) #generating ERA \n",
    "    pitchers.BAOpp = (pitchers.H + pitchers.BB + pitchers.IBB + pitchers.HBP) / pitchers.BFP #batting average against\n",
    "    pitchers['WiP'] = pitchers.W/pitchers.G #win percentage\n",
    "    pitchers['IP'] = pitchers.IPouts/3. #innings pitched\n",
    "    \n",
    "    #determining whether a pitcher is a relief pitcher based on whether more games started than not \n",
    "    #and less than 4 innings pitched per game\n",
    "    pitchers['Games']=pitchers['GS']-pitchers['G']/2. #if positive, more games started than games in relief\n",
    "    pitchers['inningsper']=pitchers['IP']/pitchers['G'] #innings per game \n",
    "    relief=[]\n",
    "    for i in pitchers.iterrows():\n",
    "        if i[1]['Games']<0. and i[1]['inningsper']<4.:\n",
    "            relief.append(1.)\n",
    "        else:\n",
    "            relief.append(0.)\n",
    "    dfrel=pd.DataFrame({'REL':relief})\n",
    "    \n",
    "    #adding handedness and whether a pitcher is a relief pitcher to the dataframe \n",
    "    final=pitchers.join([dfhands,dfrel], how='outer')\n",
    "    \n",
    "    #getting the 2 rows from the final dataframe to perform calculations \n",
    "    p1=final[final.playerID==two_pitcherIDs[0]]\n",
    "    p2=final[final.playerID==two_pitcherIDs[1]]\n",
    "    \n",
    "    \n",
    "    #Wins and Losses Penalties\n",
    "    win_diff=np.abs(int(p1['W'])-int(p2['W'])) #1 pt for each win\n",
    "    loss_diff=np.abs(int(p1['L'])-int(p2['L']))/2. #1 pt each 2 losses\n",
    "    \n",
    "    #Winning Percentage Penalty\n",
    "    if int(p1['REL'])==1:     #winning percentage is halved for relief pitchers\n",
    "        p1['WiP']=p1['WiP']/2.\n",
    "    if int(p2['REL'])==1:\n",
    "        p2['WiP']=p2['WiP']/2.\n",
    "    wip_diff=np.abs(float(p1['WiP'])-float(p2['WiP']))/.002 #1 pt diff of winning percentage of 0.002 \n",
    "    if wip_diff > 1.5*(win_diff+loss_diff): #winning percentage cannot be more than 1.5 times the penalties for win/loss differences \n",
    "        wip_diff= 1.5*(win_diff+loss_diff)\n",
    "    if wip_diff >100: #penalty for winning percentage has a max= 100\n",
    "        wip_diff=100   \n",
    "    era_diff=np.abs(float(p1['ERA'])-float(p2['ERA']))/0.02 #1 pt diff of ERA of 0.02\n",
    "    if era_diff >100:\n",
    "        era_diff=100 #max =100\n",
    "    \n",
    "    #Handedness Penalties conditional on both pitchers being relief pitchers or not \n",
    "    if list(p1['RL'])[0]!=list(p2['RL'])[0] and int(p1['REL'])==0 and int(p2['REL'])==0: #handedness is different, relief pitchers\n",
    "        hand_diff=10. \n",
    "    elif list(p1['RL'])[0]!=list(p2['RL'])[0] and int(p1['REL'])==1 and int(p2['REL'])==1.: #handedness is different, starters\n",
    "        hand_diff=25.  \n",
    "    else:\n",
    "        hand_diff=0.\n",
    "    \n",
    "    #Additional Penalties\n",
    "    gp_diff=np.abs(int(p1['G'])-int(p2['G']))/10. #1 pt for diff of 10 games played\n",
    "    st_diff=np.abs(int(p1['GS'])-int(p2['GS']))/20. #1 pt for diff of 20 games started\n",
    "    cg_diff=np.abs(int(p1['CG'])-int(p2['CG']))/20. #1 pt for diff of 20 games completed\n",
    "    ip_diff=np.abs(float(p1['IP'])-float(p2['IP']))/50. #1 pt for diff of 50 innings pitched\n",
    "    h_diff=np.abs(int(p1['H'])-int(p2['H']))/50. #1 pt for diff of 50 hits allowed\n",
    "    sp_diff=np.abs(int(p1['SO'])-int(p2['SO']))/30. #1 pt for diff of 30 strikeouts\n",
    "    bb_diff=np.abs(int(p1['BB'])-int(p2['BB']))/50. #1 pt for diff of 10 walks\n",
    "    sho_diff=np.abs(int(p1['SHO'])-int(p2['SHO']))/5. #1 pt for diff of 5 shutouts\n",
    "    sv_diff=np.abs(int(p1['SV'])-int(p2['SV']))/3. #1 pt for diff of 3 saves\n",
    "    \n",
    "\n",
    "    score=1000 #generating starting score and subtracting penalties\n",
    "    final_score=score-(win_diff+loss_diff+wip_diff+era_diff+gp_diff+st_diff+cg_diff+\n",
    "                       ip_diff+h_diff+sp_diff+bb_diff+sho_diff+sv_diff+hand_diff)\n",
    "    #print final_score\n",
    "\n",
    "    return final_score"
   ]
  },
  {
   "cell_type": "code",
   "execution_count": 28,
   "metadata": {
    "collapsed": false
   },
   "outputs": [
    {
     "data": {
      "text/plain": [
       "822.14444153666204"
      ]
     },
     "execution_count": 28,
     "metadata": {},
     "output_type": "execute_result"
    }
   ],
   "source": [
    "#Testing on 2 pIDs from smalldf\n",
    "pitcher_sim(smalldf[smalldf.pID=='benea001'],smalldf[smalldf.pID=='browk001'])"
   ]
  },
  {
   "cell_type": "markdown",
   "metadata": {},
   "source": [
    "#Using Mapreduce to see if this works"
   ]
  },
  {
   "cell_type": "code",
   "execution_count": 9,
   "metadata": {
    "collapsed": true
   },
   "outputs": [],
   "source": [
    "def get_restaurant_reviews(pID, df, set_of_batters):\n",
    "    \"\"\"\n",
    "    given a pitcher id and a set of batters, return the sub-dataframe of their\n",
    "    averages.\n",
    "    \"\"\"\n",
    "    mask = (df.bID.isin(set_of_batters)) & (df.pID==pID)\n",
    "    avgs = df[mask]\n",
    "    avgs = avgs[avgs.bID.duplicated()==False]\n",
    "    return avgs"
   ]
  },
  {
   "cell_type": "code",
   "execution_count": null,
   "metadata": {
    "collapsed": true
   },
   "outputs": [],
   "source": []
  },
  {
   "cell_type": "code",
   "execution_count": null,
   "metadata": {
    "collapsed": true
   },
   "outputs": [],
   "source": []
  },
  {
   "cell_type": "code",
   "execution_count": null,
   "metadata": {
    "collapsed": true
   },
   "outputs": [],
   "source": []
  },
  {
   "cell_type": "code",
   "execution_count": null,
   "metadata": {
    "collapsed": true
   },
   "outputs": [],
   "source": []
  },
  {
   "cell_type": "code",
   "execution_count": 10,
   "metadata": {
    "collapsed": false,
    "scrolled": false
   },
   "outputs": [
    {
     "name": "stdout",
     "output_type": "stream",
     "text": [
      "(109688, 39)"
     ]
    },
    {
     "data": {
      "text/plain": [
       "(88234, 39)"
      ]
     },
     "execution_count": 10,
     "metadata": {},
     "output_type": "execute_result"
    },
    {
     "name": "stdout",
     "output_type": "stream",
     "text": [
      "\n"
     ]
    }
   ],
   "source": [
    "print smalldf.shape,\n",
    "smalldf[smalldf.ov_FACED > 100].shape"
   ]
  },
  {
   "cell_type": "code",
   "execution_count": 14,
   "metadata": {
    "collapsed": false
   },
   "outputs": [
    {
     "name": "stdout",
     "output_type": "stream",
     "text": [
      "(101036, 39) (4944, 39) (3708, 39)\n"
     ]
    }
   ],
   "source": [
    "trainlist=np.array([])\n",
    "testlist=np.array([])\n",
    "validatelist=np.array([])\n",
    "take=21 #21 matchups between validation and test set\n",
    "for k, v in smalldf.groupby('bID'):\n",
    "    if len(v) > 100: #batter has faced at least 150 pitchers\n",
    "        train_rows, test_valid_rows = train_test_split(v.matchID.values, test_size=take)\n",
    "        trainlist = np.append(trainlist,train_rows)\n",
    "        valid_rows, test_rows = train_test_split(test_valid_rows, test_size=0.4)\n",
    "        validatelist =np.append(validatelist,valid_rows) \n",
    "        testlist = np.append(testlist,test_rows) \n",
    "    else:\n",
    "        trainlist = np.append(trainlist,v.matchID.values)\n",
    "mask = np.in1d(smalldf.matchID.values, trainlist)\n",
    "traindf=smalldf[mask]\n",
    "mask = np.in1d(smalldf.matchID.values, validatelist)\n",
    "validatedf=smalldf[mask]\n",
    "mask = np.in1d(smalldf.matchID.values, testlist)\n",
    "testdf=smalldf[mask]\n",
    "print traindf.shape, validatedf.shape, testdf.shape"
   ]
  },
  {
   "cell_type": "code",
   "execution_count": 15,
   "metadata": {
    "collapsed": false
   },
   "outputs": [
    {
     "data": {
      "text/plain": [
       "101036"
      ]
     },
     "execution_count": 15,
     "metadata": {},
     "output_type": "execute_result"
    }
   ],
   "source": [
    "len(traindf)"
   ]
  },
  {
   "cell_type": "code",
   "execution_count": 16,
   "metadata": {
    "collapsed": false
   },
   "outputs": [
    {
     "data": {
      "text/plain": [
       "array(['aberb001_bellr003', 'aberb001_buehm001', 'aberb001_burkj001',\n",
       "       'aberb001_castf001', 'aberb001_clemr001'], dtype=object)"
      ]
     },
     "execution_count": 16,
     "metadata": {},
     "output_type": "execute_result"
    }
   ],
   "source": [
    "trainlist[:5]"
   ]
  },
  {
   "cell_type": "code",
   "execution_count": 17,
   "metadata": {
    "collapsed": false
   },
   "outputs": [
    {
     "data": {
      "text/plain": [
       "array([False, False, False, ...,  True, False, False], dtype=bool)"
      ]
     },
     "execution_count": 17,
     "metadata": {},
     "output_type": "execute_result"
    }
   ],
   "source": [
    "mask"
   ]
  },
  {
   "cell_type": "code",
   "execution_count": 18,
   "metadata": {
    "collapsed": false
   },
   "outputs": [
    {
     "name": "stdout",
     "output_type": "stream",
     "text": [
      "0 0\n"
     ]
    }
   ],
   "source": [
    "#Make sure each pitcher ID was encountered in training set\n",
    "maskval= np.in1d(validatedf.pID, traindf.pID) \n",
    "masktest = np.in1d(testdf.pID, traindf.pID)\n",
    "print np.sum(~maskval), np.sum(~masktest)"
   ]
  },
  {
   "cell_type": "code",
   "execution_count": 19,
   "metadata": {
    "collapsed": true
   },
   "outputs": [],
   "source": [
    "def recompute_frame(ldf):\n",
    "    \"\"\"\n",
    "    takes a dataframe ldf, makes a copy of it, and returns the copy\n",
    "    with all conglomerations recomputed\n",
    "    this is used when a frame is subsetted.\n",
    "    \"\"\"\n",
    "    ldfb=ldf.groupby('bID')\n",
    "    ldfp=ldf.groupby('pID')\n",
    "    nldf=ldf.copy()\n",
    "    \n",
    "    #Conglomerate pitcher stats\n",
    "    nldf.set_index(['pID'], inplace=True)\n",
    "    for col in ['AB', 'PA', 'H', 'TB', 'SAC', 'SO', 'W']:\n",
    "        nldf['ovp_'+col] = ldfp[col].sum()\n",
    "    nldf['ovp_AVG'] = nldf['ovp_H']/nldf['ovp_AB']\n",
    "    nldf['ovp_FACED']= ldfp.AB.count()\n",
    "    nldf['ovp_OBP'] = (nldf['ovp_H'] + nldf['ovp_W'])/nldf['ovp_PA']\n",
    "    for col in ['SO', 'W', 'H']:\n",
    "        nldf['ovp_' + col + '_PCT'] = nldf['ovp_' + col] / nldf['ovp_PA']\n",
    "    nldf.reset_index(inplace=True)\n",
    "    \n",
    "    #Conglomerate batter stats\n",
    "    nldf.set_index(['bID'], inplace=True)\n",
    "    for col in ['AB', 'PA', 'H', 'TB', 'SAC', 'SO', 'W']:\n",
    "        nldf['ov_'+col] = ldfb[col].sum()\n",
    "    nldf['ov_AVG'] = nldf['ov_H']/nldf['ov_AB']\n",
    "    nldf['ov_FACED']= ldfb.AB.count()\n",
    "    nldf['ov_OBP'] = (nldf['ov_H'] + nldf['ov_W'])/nldf['ov_PA']\n",
    "    for col in ['SO', 'W', 'H']:\n",
    "        nldf['ov_' + col + '_PCT'] = nldf['ov_' + col] / nldf['ov_PA']\n",
    "    nldf.reset_index(inplace=True)\n",
    "    return nldf"
   ]
  },
  {
   "cell_type": "code",
   "execution_count": 20,
   "metadata": {
    "collapsed": false
   },
   "outputs": [
    {
     "data": {
      "text/html": [
       "<div>\n",
       "<table border=\"1\" class=\"dataframe\">\n",
       "  <thead>\n",
       "    <tr style=\"text-align: right;\">\n",
       "      <th></th>\n",
       "      <th>bID</th>\n",
       "      <th>pID</th>\n",
       "      <th>AB</th>\n",
       "      <th>H</th>\n",
       "      <th>PA</th>\n",
       "      <th>RL</th>\n",
       "      <th>SAC</th>\n",
       "      <th>SO</th>\n",
       "      <th>TB</th>\n",
       "      <th>W</th>\n",
       "      <th>matchID</th>\n",
       "      <th>AVG</th>\n",
       "      <th>OBP</th>\n",
       "      <th>ov_AB</th>\n",
       "      <th>ov_H</th>\n",
       "      <th>ov_PA</th>\n",
       "      <th>ov_SAC</th>\n",
       "      <th>ov_SO</th>\n",
       "      <th>ov_TB</th>\n",
       "      <th>ov_W</th>\n",
       "      <th>ov_AVG</th>\n",
       "      <th>ov_OBP</th>\n",
       "      <th>ov_FACED</th>\n",
       "      <th>ov_SO_PCT</th>\n",
       "      <th>ov_W_PCT</th>\n",
       "      <th>ov_H_PCT</th>\n",
       "      <th>ovp_AB</th>\n",
       "      <th>ovp_H</th>\n",
       "      <th>ovp_PA</th>\n",
       "      <th>ovp_SAC</th>\n",
       "      <th>ovp_SO</th>\n",
       "      <th>ovp_TB</th>\n",
       "      <th>ovp_W</th>\n",
       "      <th>ovp_AVG</th>\n",
       "      <th>ovp_OBP</th>\n",
       "      <th>ovp_FACED</th>\n",
       "      <th>ovp_SO_PCT</th>\n",
       "      <th>ovp_W_PCT</th>\n",
       "      <th>ovp_H_PCT</th>\n",
       "    </tr>\n",
       "  </thead>\n",
       "  <tbody>\n",
       "    <tr>\n",
       "      <th>0</th>\n",
       "      <td>schic002</td>\n",
       "      <td>benea001</td>\n",
       "      <td>9</td>\n",
       "      <td>0</td>\n",
       "      <td>9</td>\n",
       "      <td>R</td>\n",
       "      <td>1</td>\n",
       "      <td>4</td>\n",
       "      <td>0</td>\n",
       "      <td>0</td>\n",
       "      <td>schic002_benea001</td>\n",
       "      <td>0.000000</td>\n",
       "      <td>0.000000</td>\n",
       "      <td>146</td>\n",
       "      <td>22</td>\n",
       "      <td>150</td>\n",
       "      <td>14</td>\n",
       "      <td>57</td>\n",
       "      <td>30</td>\n",
       "      <td>4</td>\n",
       "      <td>0.150685</td>\n",
       "      <td>0.173333</td>\n",
       "      <td>14</td>\n",
       "      <td>0.38</td>\n",
       "      <td>0.026667</td>\n",
       "      <td>0.146667</td>\n",
       "      <td>2778</td>\n",
       "      <td>751</td>\n",
       "      <td>3139</td>\n",
       "      <td>44</td>\n",
       "      <td>566</td>\n",
       "      <td>1551</td>\n",
       "      <td>361</td>\n",
       "      <td>0.270338</td>\n",
       "      <td>0.354253</td>\n",
       "      <td>125</td>\n",
       "      <td>0.180312</td>\n",
       "      <td>0.115005</td>\n",
       "      <td>0.239248</td>\n",
       "    </tr>\n",
       "    <tr>\n",
       "      <th>1</th>\n",
       "      <td>schic002</td>\n",
       "      <td>browk001</td>\n",
       "      <td>11</td>\n",
       "      <td>1</td>\n",
       "      <td>11</td>\n",
       "      <td>R</td>\n",
       "      <td>0</td>\n",
       "      <td>6</td>\n",
       "      <td>1</td>\n",
       "      <td>0</td>\n",
       "      <td>schic002_browk001</td>\n",
       "      <td>0.090909</td>\n",
       "      <td>0.090909</td>\n",
       "      <td>146</td>\n",
       "      <td>22</td>\n",
       "      <td>150</td>\n",
       "      <td>14</td>\n",
       "      <td>57</td>\n",
       "      <td>30</td>\n",
       "      <td>4</td>\n",
       "      <td>0.150685</td>\n",
       "      <td>0.173333</td>\n",
       "      <td>14</td>\n",
       "      <td>0.38</td>\n",
       "      <td>0.026667</td>\n",
       "      <td>0.146667</td>\n",
       "      <td>4354</td>\n",
       "      <td>1119</td>\n",
       "      <td>4745</td>\n",
       "      <td>40</td>\n",
       "      <td>848</td>\n",
       "      <td>1918</td>\n",
       "      <td>391</td>\n",
       "      <td>0.257005</td>\n",
       "      <td>0.318230</td>\n",
       "      <td>209</td>\n",
       "      <td>0.178714</td>\n",
       "      <td>0.082403</td>\n",
       "      <td>0.235827</td>\n",
       "    </tr>\n",
       "    <tr>\n",
       "      <th>2</th>\n",
       "      <td>schic002</td>\n",
       "      <td>fassj001</td>\n",
       "      <td>11</td>\n",
       "      <td>2</td>\n",
       "      <td>11</td>\n",
       "      <td>L</td>\n",
       "      <td>1</td>\n",
       "      <td>5</td>\n",
       "      <td>4</td>\n",
       "      <td>0</td>\n",
       "      <td>schic002_fassj001</td>\n",
       "      <td>0.181818</td>\n",
       "      <td>0.181818</td>\n",
       "      <td>146</td>\n",
       "      <td>22</td>\n",
       "      <td>150</td>\n",
       "      <td>14</td>\n",
       "      <td>57</td>\n",
       "      <td>30</td>\n",
       "      <td>4</td>\n",
       "      <td>0.150685</td>\n",
       "      <td>0.173333</td>\n",
       "      <td>14</td>\n",
       "      <td>0.38</td>\n",
       "      <td>0.026667</td>\n",
       "      <td>0.146667</td>\n",
       "      <td>2760</td>\n",
       "      <td>789</td>\n",
       "      <td>3091</td>\n",
       "      <td>39</td>\n",
       "      <td>536</td>\n",
       "      <td>1484</td>\n",
       "      <td>331</td>\n",
       "      <td>0.285870</td>\n",
       "      <td>0.362342</td>\n",
       "      <td>170</td>\n",
       "      <td>0.173407</td>\n",
       "      <td>0.107085</td>\n",
       "      <td>0.255257</td>\n",
       "    </tr>\n",
       "    <tr>\n",
       "      <th>3</th>\n",
       "      <td>schic002</td>\n",
       "      <td>glavt001</td>\n",
       "      <td>14</td>\n",
       "      <td>3</td>\n",
       "      <td>14</td>\n",
       "      <td>L</td>\n",
       "      <td>1</td>\n",
       "      <td>3</td>\n",
       "      <td>5</td>\n",
       "      <td>0</td>\n",
       "      <td>schic002_glavt001</td>\n",
       "      <td>0.214286</td>\n",
       "      <td>0.214286</td>\n",
       "      <td>146</td>\n",
       "      <td>22</td>\n",
       "      <td>150</td>\n",
       "      <td>14</td>\n",
       "      <td>57</td>\n",
       "      <td>30</td>\n",
       "      <td>4</td>\n",
       "      <td>0.150685</td>\n",
       "      <td>0.173333</td>\n",
       "      <td>14</td>\n",
       "      <td>0.38</td>\n",
       "      <td>0.026667</td>\n",
       "      <td>0.146667</td>\n",
       "      <td>7139</td>\n",
       "      <td>2001</td>\n",
       "      <td>7953</td>\n",
       "      <td>95</td>\n",
       "      <td>937</td>\n",
       "      <td>3623</td>\n",
       "      <td>814</td>\n",
       "      <td>0.280291</td>\n",
       "      <td>0.353954</td>\n",
       "      <td>263</td>\n",
       "      <td>0.117817</td>\n",
       "      <td>0.102351</td>\n",
       "      <td>0.251603</td>\n",
       "    </tr>\n",
       "    <tr>\n",
       "      <th>4</th>\n",
       "      <td>schic002</td>\n",
       "      <td>hampm001</td>\n",
       "      <td>16</td>\n",
       "      <td>2</td>\n",
       "      <td>16</td>\n",
       "      <td>L</td>\n",
       "      <td>1</td>\n",
       "      <td>6</td>\n",
       "      <td>2</td>\n",
       "      <td>0</td>\n",
       "      <td>schic002_hampm001</td>\n",
       "      <td>0.125000</td>\n",
       "      <td>0.125000</td>\n",
       "      <td>146</td>\n",
       "      <td>22</td>\n",
       "      <td>150</td>\n",
       "      <td>14</td>\n",
       "      <td>57</td>\n",
       "      <td>30</td>\n",
       "      <td>4</td>\n",
       "      <td>0.150685</td>\n",
       "      <td>0.173333</td>\n",
       "      <td>14</td>\n",
       "      <td>0.38</td>\n",
       "      <td>0.026667</td>\n",
       "      <td>0.146667</td>\n",
       "      <td>4541</td>\n",
       "      <td>1297</td>\n",
       "      <td>5064</td>\n",
       "      <td>50</td>\n",
       "      <td>628</td>\n",
       "      <td>2242</td>\n",
       "      <td>523</td>\n",
       "      <td>0.285620</td>\n",
       "      <td>0.359400</td>\n",
       "      <td>217</td>\n",
       "      <td>0.124013</td>\n",
       "      <td>0.103278</td>\n",
       "      <td>0.256122</td>\n",
       "    </tr>\n",
       "  </tbody>\n",
       "</table>\n",
       "</div>"
      ],
      "text/plain": [
       "        bID       pID  AB  H  PA RL  SAC  SO  TB  W            matchID       AVG       OBP  ov_AB  ov_H  ov_PA  ov_SAC  ov_SO  ov_TB  ov_W    ov_AVG    ov_OBP  ov_FACED  ov_SO_PCT  ov_W_PCT  ov_H_PCT  ovp_AB  ovp_H  ovp_PA  ovp_SAC  ovp_SO  ovp_TB  ovp_W   ovp_AVG   ovp_OBP  ovp_FACED  ovp_SO_PCT  ovp_W_PCT  ovp_H_PCT\n",
       "0  schic002  benea001   9  0   9  R    1   4   0  0  schic002_benea001  0.000000  0.000000    146    22    150      14     57     30     4  0.150685  0.173333        14       0.38  0.026667  0.146667    2778    751    3139       44     566    1551    361  0.270338  0.354253        125    0.180312   0.115005   0.239248\n",
       "1  schic002  browk001  11  1  11  R    0   6   1  0  schic002_browk001  0.090909  0.090909    146    22    150      14     57     30     4  0.150685  0.173333        14       0.38  0.026667  0.146667    4354   1119    4745       40     848    1918    391  0.257005  0.318230        209    0.178714   0.082403   0.235827\n",
       "2  schic002  fassj001  11  2  11  L    1   5   4  0  schic002_fassj001  0.181818  0.181818    146    22    150      14     57     30     4  0.150685  0.173333        14       0.38  0.026667  0.146667    2760    789    3091       39     536    1484    331  0.285870  0.362342        170    0.173407   0.107085   0.255257\n",
       "3  schic002  glavt001  14  3  14  L    1   3   5  0  schic002_glavt001  0.214286  0.214286    146    22    150      14     57     30     4  0.150685  0.173333        14       0.38  0.026667  0.146667    7139   2001    7953       95     937    3623    814  0.280291  0.353954        263    0.117817   0.102351   0.251603\n",
       "4  schic002  hampm001  16  2  16  L    1   6   2  0  schic002_hampm001  0.125000  0.125000    146    22    150      14     57     30     4  0.150685  0.173333        14       0.38  0.026667  0.146667    4541   1297    5064       50     628    2242    523  0.285620  0.359400        217    0.124013   0.103278   0.256122"
      ]
     },
     "execution_count": 20,
     "metadata": {},
     "output_type": "execute_result"
    }
   ],
   "source": [
    "traindf=recompute_frame(traindf)\n",
    "validatedf=recompute_frame(validatedf)\n",
    "testdf=recompute_frame(testdf)\n",
    "validatedf=validatedf[['bID', 'pID','AVG']]\n",
    "testdf=testdf[['bID', 'pID', 'AVG']]\n",
    "traindf.head()"
   ]
  },
  {
   "cell_type": "code",
   "execution_count": 14,
   "metadata": {
    "collapsed": true
   },
   "outputs": [],
   "source": [
    "def compute_supports(df):\n",
    "    ubids=df.bID.unique()\n",
    "    pitch = df.groupby('pID').bID.unique()\n",
    "    bdict={}\n",
    "    for e,v in zip(pitch.index.values, pitch.values):\n",
    "        bdict[e] = np.array([item in v for item in ubids])\n",
    "    pitchers=bdict.keys()\n",
    "    supports=[]\n",
    "    for i,p1 in enumerate(pitchers):\n",
    "        for j,p2 in enumerate(pitchers):\n",
    "            if  i < j:\n",
    "                supmask = (bdict[p1] & bdict[p2])\n",
    "                common_batters = np.sum(supmask)\n",
    "                supports.append(common_batters)\n",
    "    print \"mean support\",np.mean(supports), \"median support\", np.median(supports)\n",
    "    return supports, bdict"
   ]
  },
  {
   "cell_type": "code",
   "execution_count": 15,
   "metadata": {
    "collapsed": false
   },
   "outputs": [
    {
     "name": "stdout",
     "output_type": "stream",
     "text": [
      "['aberb001' 'abreb001' 'abrej003' 'ackld001' 'adamm002' 'adamr002'\n",
      " 'alexm001' 'alfoe001' 'allec001' 'alomr001' 'aloms001' 'alony001'\n",
      " 'aloum001' 'altuj001' 'alvap001' 'amara001' 'ameza001' 'andeb003'\n",
      " 'andeg001' 'andem003' 'andir001' 'andre001' 'ankir001' 'aokin001'\n",
      " 'arcio001' 'arenj001' 'arenn001' 'ariaj001' 'aschc001' 'ashba002'\n",
      " 'atkig001' 'aurir001' 'ausmb001' 'avila001' 'avilm001' 'aybae001'\n",
      " 'aybaw001' 'baerc001' 'bagwj001' 'bakej001' 'bakej002' 'bakop001'\n",
      " 'baldr001' 'barar001' 'bardj001' 'barfj003' 'barmc001' 'barnb002'\n",
      " 'barnd001' 'barrm003' 'bartd001' 'bartj001' 'batit001' 'bautd001'\n",
      " 'bautj002' 'bay-j001' 'beckg001' 'belld002' 'bellm002' 'bellr002'\n",
      " 'belta001' 'beltb001' 'beltc001' 'benng001' 'bergd002' 'bergp001'\n",
      " 'berkl001' 'bernr001' 'berra001' 'betay001' 'betew001' 'bigbl001'\n",
      " 'biggc001' 'blacc001' 'blakc001' 'blalh001' 'blang001' 'blanh001'\n",
      " 'blank002' 'bloow001' 'blumg001' 'boesb001' 'bogax001' 'bogub001'\n",
      " 'bondb001' 'bonie001' 'boona001' 'boonb002' 'borbj001' 'borcj001'\n",
      " 'bordp001' 'bourj001' 'bourm001' 'bourp001' 'bowkj001' 'bradm001'\n",
      " 'bragd001' 'branm003' 'branr001' 'braur002' 'brigr001' 'broub001'\n",
      " 'browa001' 'browd002' 'browd004' 'browe001' 'brucj001' 'buchb002'\n",
      " 'buckj001' 'buckt001' 'burkc001' 'burke001' 'burnj001' 'burre001'\n",
      " 'burrp001' 'burrs001' 'bushh001' 'buted001' 'butlb003' 'byrdm001'\n",
      " 'byrne001' 'cabra002' 'cabre001' 'cabrj002' 'cabrm001' 'cabrm002'\n",
      " 'cabro001' 'cainl001' 'cairm001' 'calhk001' 'calla001' 'camem001'\n",
      " 'canor001' 'cantj001' 'carpm001' 'carpm002' 'carrj001' 'cartc002'\n",
      " 'casar001' 'cases001' 'casia001' 'casta001' 'castj004' 'castj005'\n",
      " 'castj006' 'castl001' 'castn001' 'castr002' 'casts001' 'castv001'\n",
      " 'castw002' 'cataf001' 'ceder001' 'ceder002' 'cervf001' 'cespy001'\n",
      " 'chave001' 'chave002' 'chisl001' 'choih001' 'choos001' 'churr001'\n",
      " 'cinta001' 'cirij001' 'clarb003' 'clart002' 'clayr001' 'coghc001'\n",
      " 'colbg001' 'colll001' 'colvt001' 'congh001' 'conij001' 'coraa001'\n",
      " 'cordw001' 'costc001' 'counc001' 'cowgc001' 'cozaz001' 'craia001'\n",
      " 'crawb001' 'crawc002' 'credj001' 'crisc001' 'crosb002' 'crowt001'\n",
      " 'cruzd001' 'cruzj004' 'cruzl001' 'cruzn002' 'cuddm001' 'cummm001'\n",
      " 'custj001' 'damoj001' 'darnt001' 'daubb001' 'davaj001' 'davib003'\n",
      " 'davic003' 'davii001' 'davik003' 'davir003' 'deaza001' 'dejed001'\n",
      " 'delgc001' 'delld001' 'denoc001' 'derom001' 'descd001' 'desmi001'\n",
      " 'dewib001' 'diaze002' 'diazm003' 'diazv001' 'dickc001' 'dickc002'\n",
      " 'difem001' 'dirka001' 'dobbg001' 'domim001' 'donaj001' 'donaj002'\n",
      " 'doumr001' 'dozib001' 'drewj001' 'drews001' 'dudal001' 'duffc001'\n",
      " 'dukee001' 'duncc002' 'duncs001' 'dunna001' 'durae001' 'durhr001'\n",
      " 'dye-j001' 'dysoj001' 'easld001' 'eatoa002' 'ecksd001' 'edmoj001'\n",
      " 'ellia001' 'ellim001' 'ellsj001' 'encae001' 'encaj001' 'ensbm001'\n",
      " 'erstd001' 'escoa003' 'escoe001' 'escoy001' 'espid001' 'estab001'\n",
      " 'estrj001' 'ethia001' 'evera001' 'everc001' 'fasas001' 'felip001'\n",
      " 'fickr001' 'fielj001' 'fielp001' 'figgc001' 'finls001' 'flahj001'\n",
      " 'flahr001' 'florj002' 'florp001' 'flowt001' 'floyc001' 'fontm001'\n",
      " 'fordb001' 'fordl001' 'forsl001' 'fowld001' 'fox-a001' 'franb001'\n",
      " 'franj002' 'franj004' 'franj005' 'frank001' 'frazt001' 'freed001'\n",
      " 'freef001' 'freer001' 'fukuk001' 'fulds001' 'fullb001' 'furcr001'\n",
      " 'galaa001' 'garca003' 'garck002' 'garcn001' 'gardb001' 'garkr001'\n",
      " 'gathj001' 'gatte001' 'genns001' 'gentc001' 'germe001' 'geruj001'\n",
      " 'getzc001' 'giamj001' 'gibbj002' 'gil-g001' 'gileb002' 'gilem001'\n",
      " 'gillc001' 'gintk001' 'gland001' 'glaut001' 'glavt001' 'gloar001'\n",
      " 'goldp001' 'gomec001' 'gomec002' 'gomej001' 'gomey001' 'gonza001'\n",
      " 'gonza002' 'gonza003' 'gonza005' 'gonzc001' 'gonze003' 'gonzj002'\n",
      " 'gonzl001' 'gonzl004' 'gonzm002' 'gonzw001' 'goodt001' 'gorda001'\n",
      " 'gordd002' 'gosea001' 'gotar001' 'graft001' 'granc001' 'grany001'\n",
      " 'greek002' 'green001' 'grees001' 'greet003' 'greet004' 'gregd001'\n",
      " 'grieb001' 'grifk002' 'grism001' 'grosg002' 'grosr001' 'grudm001'\n",
      " 'guerv001' 'guerw001' 'guiea001' 'guilc001' 'guilj001' 'gutif001'\n",
      " 'gutir001' 'guzmc001' 'guzmj005' 'gwynt002' 'gyorj001' 'hafnt001'\n",
      " 'hairj002' 'hairs001' 'hallb001' 'hallt001' 'halts001' 'hamib001'\n",
      " 'hamij003' 'hammj001' 'hampm001' 'hanir001' 'hannj001' 'hansd001'\n",
      " 'hardj003' 'harpb003' 'harrb001' 'harrj002' 'harrl001' 'harrw001'\n",
      " 'hartc001' 'harvk001' 'hatts001' 'hawpb001' 'headc001' 'hecha001'\n",
      " 'heisc001' 'helmw001' 'heltt001' 'hermc001' 'hermj001' 'herna003'\n",
      " 'hernj001' 'hernl003' 'hernr002' 'herrj002' 'heywj001' 'hidar001'\n",
      " 'higgb001' 'hilla001' 'hillk002' 'hills002' 'hinca001' 'hinse001'\n",
      " 'hockd001' 'holld002' 'hollm001' 'hollt001' 'hosme001' 'howar001'\n",
      " 'hudso001' 'huffa001' 'hundn001' 'huntt001' 'iannc001' 'ibanr001'\n",
      " 'iguct001' 'infao001' 'ingeb001' 'inglj001' 'ishit001' 'iwama001'\n",
      " 'iztuc001' 'iztum001' 'jacka001' 'jackc002' 'jackd003' 'jacom001'\n",
      " 'janip001' 'jasoj001' 'jay-j001' 'jenkg001' 'jennd002' 'jeted001'\n",
      " 'jimed001' 'johjk001' 'johnc002' 'johnc003' 'johnd004' 'johnk003'\n",
      " 'johnm003' 'johnn001' 'johnr005' 'johnr006' 'johnr008' 'johnr009'\n",
      " 'jonea002' 'jonea003' 'jonec004' 'joneg002' 'jonej003' 'jordb001'\n",
      " 'joycm001' 'kaaik001' 'kaplg001' 'karre001' 'katam001' 'kawam001'\n",
      " 'keara001' 'kelld001' 'kempm001' 'kendh001' 'kendj001' 'kenna001'\n",
      " 'kentj001' 'keppj001' 'kielb001' 'kinsi001' 'kipnj001' 'klesr001'\n",
      " 'konep001' 'koskc001' 'kotcc001' 'kotsm001' 'kottg001' 'kouzk001'\n",
      " 'kubej002' 'lagaj001' 'lairg001' 'lambm001' 'lanej001' 'langr002'\n",
      " 'lankr001' 'lapom001' 'larkb001' 'laroa001' 'laroa002' 'laruj001'\n",
      " 'lawrb002' 'lawtm002' 'lecrm001' 'leder001' 'lee-c001' 'lee-d002'\n",
      " 'lee-t002' 'leita001' 'lemad001' 'lewif001' 'liebm001' 'liefj001'\n",
      " 'lillb001' 'linda001' 'lobaj001' 'lodup001' 'loftk001' 'logan001'\n",
      " 'lombs002' 'lonej001' 'longe001' 'longt002' 'lopef001' 'lopej001'\n",
      " 'lopej003' 'lopel002' 'lorem001' 'lowem001' 'lowrj001' 'lucae001'\n",
      " 'lucrj001' 'ludwr001' 'lugoj001' 'lunah001' 'mabrj001' 'machm001'\n",
      " 'macij001' 'mackr001' 'maddg002' 'maiem001' 'markn001' 'marqj001'\n",
      " 'marre001' 'marsl001' 'marta004' 'marte001' 'martj006' 'martl004'\n",
      " 'martr003' 'martr004' 'marts002' 'martt002' 'martv001' 'mater001'\n",
      " 'mathj001' 'mathm001' 'matol001' 'matsh001' 'matsk001' 'mattg002'\n",
      " 'mauej001' 'maxwj002' 'maybc001' 'maybj001' 'maynb001' 'mccab002'\n",
      " 'mccad001' 'mccrq001' 'mccua001' 'mcdod002' 'mcdoj003' 'mcewj001'\n",
      " 'mcgec001' 'mcgrf001' 'mckem001' 'mclem001' 'mclon001' 'melha001'\n",
      " 'menck001' 'menef001' 'mercj002' 'merll001' 'mesod001' 'michj001'\n",
      " 'middw001' 'miend001' 'milea001' 'millb002' 'milld002' 'millk005'\n",
      " 'milll002' 'mirad001' 'moelc001' 'mohrd001' 'molib001' 'molij001'\n",
      " 'moliy001' 'mondr002' 'monrc001' 'montj003' 'montm001' 'morak001'\n",
      " 'moram002' 'mordm001' 'moreb001' 'morem001' 'morgn001' 'mornj001'\n",
      " 'morrl001' 'morsm001' 'mossb001' 'mousm001' 'muelb001' 'munse001'\n",
      " 'murpd004' 'murpd005' 'murpd006' 'murrc001' 'murtm001' 'myerg001'\n",
      " 'myerw001' 'nadyx001' 'napom001' 'navad001' 'navad002' 'nelsc001'\n",
      " 'nevip001' 'newhd001' 'nievw001' 'nix-j001' 'nix-l001' 'nixot001'\n",
      " 'norrd001' 'nortg001' 'nunea001' 'nunee002' 'offej001' 'ojeda001'\n",
      " 'olerj001' 'olivm001' 'ordom001' 'ordor001' 'orr-p001' 'ortid001'\n",
      " 'osikk001' 'oswar001' 'overl001' 'ozunm001' 'ozunp001' 'pachj001'\n",
      " 'pagaa001' 'palmo001' 'palmr001' 'parmc001' 'parrg001' 'pattc001'\n",
      " 'paulj001' 'paulr001' 'paulx001' 'paytj001' 'pears001' 'pedrd001'\n",
      " 'penab002' 'penac001' 'penat002' 'penaw001' 'pench001' 'pennc001'\n",
      " 'peraj001' 'peree001' 'peree002' 'peren001' 'peres002' 'peret003'\n",
      " 'peret004' 'perrh001' 'peteb001' 'phelj001' 'philb001' 'philj003'\n",
      " 'piazm001' 'pie-f001' 'piera001' 'pierj002' 'plout001' 'podss001'\n",
      " 'polap001' 'polla001' 'posaj001' 'poseb001' 'pradm001' 'pratt001'\n",
      " 'presa001' 'pridc001' 'puigy001' 'pujoa001' 'puntn001' 'quenc001'\n",
      " 'quinh001' 'quino001' 'quinr002' 'rabur001' 'ramia001' 'ramia003'\n",
      " 'ramih003' 'ramim002' 'ramow001' 'randj002' 'ransc001' 'rasmc001'\n",
      " 'reddj001' 'redmm001' 'redmt001' 'reedj004' 'reesp001' 'reimn001'\n",
      " 'relad001' 'renda001' 'rente001' 'repkj001' 'reveb001' 'reyej001'\n",
      " 'reynm001' 'richc001' 'riosa002' 'rival001' 'rivej001' 'rizza001'\n",
      " 'robeb003' 'robed001' 'rober002' 'robik002' 'rodra001' 'rodri001'\n",
      " 'rodrl002' 'rodrs002' 'roles001' 'rolld001' 'rollj001' 'rosaa001'\n",
      " 'rosaw001' 'rossc001' 'rossd001' 'rowaa001' 'ruetk001' 'ruggj001'\n",
      " 'ruizc001' 'rutlj001' 'ryanb002' 'sadld001' 'saeno001' 'salmt001'\n",
      " 'saltj001' 'sanca003' 'sanca005' 'sancf001' 'sancg001' 'sancr001'\n",
      " 'sandp001' 'sandr002' 'santb001' 'santc002' 'santd001' 'santr002'\n",
      " 'saunm001' 'schaj002' 'schic002' 'schin001' 'schmj001' 'schnb001'\n",
      " 'schus001' 'scotl001' 'scutm001' 'seagk001' 'segud001' 'seguj002'\n",
      " 'sexsr001' 'shefg001' 'shelc001' 'shopk001' 'shucj001' 'sierr001'\n",
      " 'simma001' 'simor001' 'singc001' 'sizeg001' 'sizes001' 'sledt001'\n",
      " 'smits002' 'smoaj001' 'smolj001' 'snidt001' 'snowj001' 'snydc002'\n",
      " 'sogae001' 'solad001' 'soria001' 'sosas001' 'sotog001' 'spand001'\n",
      " 'spens001' 'spies001' 'spilr001' 'spivj001' 'staim001' 'stanm004'\n",
      " 'stewc001' 'stewi001' 'stews002' 'stink001' 'stubd001' 'stync001'\n",
      " 'sullc001' 'surhb001' 'suttl001' 'suzui001' 'suzuk001' 'sweem001'\n",
      " 'sweem002' 'sweer001' 'swisn001' 'tabaj002' 'tagus001' 'tatif001'\n",
      " 'tavew001' 'teahm001' 'teixm001' 'tejam001' 'tejar001' 'terrl001'\n",
      " 'thame001' 'thamm001' 'therr001' 'tholj001' 'thomc002' 'thomf001'\n",
      " 'thomj002' 'tolbm001' 'torra001' 'torry001' 'tracc001' 'tracs001'\n",
      " 'tream001' 'troum001' 'trumm001' 'tuckm001' 'tuiam001' 'tulot001'\n",
      " 'turnj001' 'tynej001' 'uggld001' 'uptob001' 'uptoj001' 'uribj002'\n",
      " 'utlec001' 'valbl001' 'valdw001' 'valed001' 'valej003' 'valej004'\n",
      " 'vandj001' 'varij001' 'vazqr001' 'velee001' 'venaw001' 'ventr001'\n",
      " 'vicid001' 'victs001' 'vidrj001' 'vinaf001' 'vizcj001' 'vizqo001'\n",
      " 'vottj001' 'waina001' 'walkl001' 'walkn001' 'walkt002' 'wallb001'\n",
      " 'wardd002' 'weekj001' 'weekr001' 'wellc001' 'wellv001' 'wertj001'\n",
      " 'whitr001' 'widgc001' 'wietm001' 'wiggt001' 'wilkb002' 'willb002'\n",
      " 'willg001' 'willj004' 'willr004' 'wilsc003' 'wilsd001' 'wilse001'\n",
      " 'wilsj002' 'wilsj003' 'wilsp002' 'wilst003' 'wilsv001' 'winnr001'\n",
      " 'wised001' 'wolfr001' 'womat001' 'wongk001' 'woodc001' 'woots001'\n",
      " 'wrigd002' 'yelic001' 'youkk001' 'younc004' 'yound001' 'yound003'\n",
      " 'yound004' 'youne001' 'youne002' 'youne003' 'younm003' 'zambc001'\n",
      " 'zaung001' 'zeilt001' 'zimmr001' 'zobrb001'] ['bellr003' 'buehm001' 'burkj001' ..., 'cox-d001' 'smitb004' 'farrj001'] 1297 910\n"
     ]
    }
   ],
   "source": [
    "ubids=traindf.bID.unique()#unique-user-ids\n",
    "upids=traindf.pID.unique()#unique-item-ids\n",
    "print ubids,upids,len(upids),len(ubids)\n",
    "ubidmap={v:k for k,v in enumerate(ubids)}#of length U\n",
    "upidmap={v:k for k,v in enumerate(upids)}#of length M"
   ]
  },
  {
   "cell_type": "code",
   "execution_count": null,
   "metadata": {
    "collapsed": true
   },
   "outputs": [],
   "source": [
    "\n",
    " "
   ]
  },
  {
   "cell_type": "code",
   "execution_count": 16,
   "metadata": {
    "collapsed": false
   },
   "outputs": [
    {
     "name": "stdout",
     "output_type": "stream",
     "text": [
      "Number of Matchups 109688\n",
      "Number of Batters 910\n",
      "Number of Pitchers 1297\n",
      "mean support 13.6844248836 median support 5.0\n"
     ]
    }
   ],
   "source": [
    "print \"Number of Matchups\",smalldf.shape[0]\n",
    "print \"Number of Batters\", smalldf.bID.unique().shape[0]\n",
    "print \"Number of Pitchers\", smalldf.pID.unique().shape[0]\n",
    "s,d=compute_supports(smalldf)"
   ]
  },
  {
   "cell_type": "code",
   "execution_count": 17,
   "metadata": {
    "collapsed": true
   },
   "outputs": [],
   "source": [
    "class Database:\n",
    "    \"A class representing a database of similarities and common supports\"\n",
    "    \n",
    "    def __init__(self, rindexmap, supports):\n",
    "        \"the constructor, takes a map of restaurant id's to integers\"\n",
    "        database={}\n",
    "        self.rindexmap=rindexmap\n",
    "        self.supports=supports\n",
    "        l_keys=len(self.rindexmap.keys())\n",
    "        self.database_sim=np.zeros([l_keys,l_keys])\n",
    "        self.database_sup=np.zeros([l_keys, l_keys], dtype=np.int)\n",
    "\n",
    "    def set_supports(self, supports):\n",
    "        self.supports=supports\n",
    "        \n",
    "    def get(self, b1, b2):\n",
    "        \"returns a tuple of similarity,common_support given two business ids\"\n",
    "        sim=self.database_sim[self.rindexmap[b1]][self.rindexmap[b2]]\n",
    "        nsup=self.database_sup[self.rindexmap[b1]][self.rindexmap[b2]]\n",
    "        return (sim, nsup)"
   ]
  },
  {
   "cell_type": "code",
   "execution_count": 18,
   "metadata": {
    "collapsed": false
   },
   "outputs": [],
   "source": [
    "db=Database(upidmap, s)"
   ]
  },
  {
   "cell_type": "code",
   "execution_count": 19,
   "metadata": {
    "collapsed": true
   },
   "outputs": [],
   "source": [
    "def mapper1(row):\n",
    "    return row[1], (row[2], row[12], row[34])"
   ]
  },
  {
   "cell_type": "code",
   "execution_count": 20,
   "metadata": {
    "collapsed": true
   },
   "outputs": [],
   "source": [
    "def combiner(items):\n",
    "    indict={}\n",
    "    for key, value in items:\n",
    "        if not indict.has_key(key):\n",
    "            indict[key]=[]\n",
    "        indict[key].append(value)\n",
    "    return indict.items()"
   ]
  },
  {
   "cell_type": "code",
   "execution_count": 21,
   "metadata": {
    "collapsed": true
   },
   "outputs": [],
   "source": [
    "def reducer1(the_input):\n",
    "    bID, values = the_input\n",
    "    avgs=[]\n",
    "    for pID,AVG,ov_AVG in values:\n",
    "        avgs.append((pID,(AVG, ov_AVG)))\n",
    "    return bID, avgs"
   ]
  },
  {
   "cell_type": "code",
   "execution_count": 22,
   "metadata": {
    "collapsed": true
   },
   "outputs": [],
   "source": [
    "from itertools import combinations_with_replacement\n",
    "def mapper2(list_input):\n",
    "    nlist = []\n",
    "    comb = list(combinations_with_replacement(list_input[1], 2))\n",
    "    for item in comb:\n",
    "        if item[0][0] > item[1][0]:\n",
    "            biz_pair = item[1][0], item[0][0]\n",
    "            star_pair = item[1][1], item[0][1]\n",
    "        else:\n",
    "            biz_pair = item[0][0], item[1][0]\n",
    "            star_pair = item[0][1], item[1][1]\n",
    "        tup = (biz_pair, star_pair)\n",
    "        nlist.append(tup)\n",
    "    return nlist"
   ]
  },
  {
   "cell_type": "code",
   "execution_count": 23,
   "metadata": {
    "collapsed": true
   },
   "outputs": [],
   "source": [
    "def combiner_list(itemslist):\n",
    "    indict={}\n",
    "    for items in itemslist:\n",
    "        for key, value in items:\n",
    "            if not indict.has_key(key):\n",
    "                indict[key]=[]\n",
    "            indict[key].append(value)\n",
    "    return indict.items()"
   ]
  },
  {
   "cell_type": "code",
   "execution_count": 24,
   "metadata": {
    "collapsed": true
   },
   "outputs": [],
   "source": [
    "def reducer2(item_dict):\n",
    "    p1_id = item_dict[0][0]\n",
    "    p2_id = item_dict[0][1]\n",
    "    AVG_1 = [x[0][0] for x in item_dict[1]]\n",
    "    AVG_2 = [x[1][0] for x in item_dict[1]]\n",
    "    ov_AVG_1 = [x[0][1] for x in item_dict[1]]\n",
    "    ov_AVG_2 = [x[1][1] for x in item_dict[1]]\n",
    "    n_common = len(item_dict[1])\n",
    "    p1 = smalldf[smalldf.pID==p1_id]#{'ov_AVG': ov_AVG_1, 'AVG': AVG_1}\n",
    "    p2 = smalldf[smalldf.pID==p1_id]#{'ov_AVG': ov_AVG_2, 'AVG': AVG_2}\n",
    "    rho = pitcher_sim(p1, p2, n_common)\n",
    "    return (p1_id, p2_id),(rho, n_common)"
   ]
  },
  {
   "cell_type": "code",
   "execution_count": 25,
   "metadata": {
    "collapsed": true
   },
   "outputs": [],
   "source": [
    "def map_reduce(tuples):\n",
    "    mapped1=map(mapper1, tuples)\n",
    "    combine1=combiner(mapped1)\n",
    "    reduced1=reduce(lambda x,y: x + [reducer1(y)], combine1, [])\n",
    "    mapped2=map(mapper2,reduced1)\n",
    "    combine2=combiner_list(mapped2)\n",
    "    output=reduce(lambda x,y: x + [reducer2(y)], combine2, [])\n",
    "    return output"
   ]
  },
  {
   "cell_type": "code",
   "execution_count": null,
   "metadata": {
    "collapsed": true
   },
   "outputs": [],
   "source": [
    "%%time\n",
    "tuples=traindf.itertuples()\n",
    "sims2=map_reduce(tuples)"
   ]
  },
  {
   "cell_type": "code",
   "execution_count": null,
   "metadata": {
    "collapsed": true
   },
   "outputs": [],
   "source": [
    "import cPickle as pickle\n",
    "pickle.dump(sims2,open('sims2.p','wb'))\n",
    "#sims2 = pickle.load(open('sims2.p','rb'))"
   ]
  },
  {
   "cell_type": "code",
   "execution_count": null,
   "metadata": {
    "collapsed": true
   },
   "outputs": [],
   "source": [
    "def populate_from_mr(db, df, mapredlist):\n",
    "    for tpair,vpair in mapredlist:\n",
    "        i1=db.rindexmap[tpair[0]]\n",
    "        i2=db.rindexmap[tpair[1]]\n",
    "        db.database_sim[i1][i2]=vpair[0]\n",
    "        db.database_sup[i1][i2]=vpair[1]\n",
    "        db.database_sim[i2][i1]=vpair[0]\n",
    "        db.database_sup[i2][i1]=vpair[1]\n",
    " "
   ]
  },
  {
   "cell_type": "code",
   "execution_count": 52,
   "metadata": {
    "collapsed": true
   },
   "outputs": [],
   "source": [
    "       \n",
    "populate_from_mr(db, traindf, sims)"
   ]
  },
  {
   "cell_type": "code",
   "execution_count": 53,
   "metadata": {
    "collapsed": true
   },
   "outputs": [],
   "source": [
    "db2=Database(upidmap, s)"
   ]
  },
  {
   "cell_type": "code",
   "execution_count": 54,
   "metadata": {
    "collapsed": true
   },
   "outputs": [],
   "source": [
    "def calculate_similarity(db, df, p1, p2, similarity_func):\n",
    "    # find common reviewers\n",
    "    common_reviewers = db.supports[db.rindexmap[p1]][db.rindexmap[p2]]\n",
    "    n_common=len(common_reviewers)\n",
    "    if p1==p2:\n",
    "        return 1., n_common\n",
    "    #get reviews\n",
    "    p1_ov_AVG = get_restaurant_reviews(p1, df, common_reviewers)\n",
    "    p2_ov_AVG = get_restaurant_reviews(p2, df, common_reviewers)\n",
    "    sim=similarity_func(p1_ov_AVG, p2_ov_AVG, n_common)\n",
    "    return sim, n_common"
   ]
  },
  {
   "cell_type": "code",
   "execution_count": 55,
   "metadata": {
    "collapsed": true
   },
   "outputs": [],
   "source": [
    "def populate_by_calculating(db, df, similarity_func):\n",
    "    \"\"\"\n",
    "    a populator for every pair of businesses in df. takes similarity_func like\n",
    "    pearson_sim as argument\n",
    "    \"\"\"\n",
    "    items=db.rindexmap.items()\n",
    "    for b1, i1 in items:\n",
    "        for b2, i2 in items:\n",
    "            if i1 <= i2:\n",
    "                sim, nsup=calculate_similarity(db, df, b1, b2, similarity_func)\n",
    "                db.database_sim[i1][i2]=sim\n",
    "                db.database_sim[i2][i1]=sim\n",
    "                db.database_sup[i1][i2]=nsup\n",
    "                db.database_sup[i2][i1]=nsup"
   ]
  },
  {
   "cell_type": "code",
   "execution_count": null,
   "metadata": {
    "collapsed": true
   },
   "outputs": [],
   "source": [
    "%%time\n",
    "populate_by_calculating(db2, traindf, pearson_sim)                "
   ]
  },
  {
   "cell_type": "code",
   "execution_count": 30,
   "metadata": {
    "collapsed": false
   },
   "outputs": [
    {
     "ename": "AttributeError",
     "evalue": "'module' object has no attribute 'Database_pitch'",
     "output_type": "error",
     "traceback": [
      "\u001b[0;31m---------------------------------------------------------------------------\u001b[0m",
      "\u001b[0;31mAttributeError\u001b[0m                            Traceback (most recent call last)",
      "\u001b[0;32m<ipython-input-30-31a7b39bc861>\u001b[0m in \u001b[0;36m<module>\u001b[0;34m()\u001b[0m\n\u001b[1;32m      1\u001b[0m \u001b[0;32mimport\u001b[0m \u001b[0mcPickle\u001b[0m \u001b[0;32mas\u001b[0m \u001b[0mpickle\u001b[0m\u001b[0;34m\u001b[0m\u001b[0m\n\u001b[1;32m      2\u001b[0m \u001b[0;31m#pickle.dump(db2,open('db2.p','wb'))\u001b[0m\u001b[0;34m\u001b[0m\u001b[0;34m\u001b[0m\u001b[0m\n\u001b[0;32m----> 3\u001b[0;31m \u001b[0mdb\u001b[0m \u001b[0;34m=\u001b[0m \u001b[0mpickle\u001b[0m\u001b[0;34m.\u001b[0m\u001b[0mload\u001b[0m\u001b[0;34m(\u001b[0m\u001b[0mopen\u001b[0m\u001b[0;34m(\u001b[0m\u001b[0;34m'pitching_db.p'\u001b[0m\u001b[0;34m,\u001b[0m\u001b[0;34m'rb'\u001b[0m\u001b[0;34m)\u001b[0m\u001b[0;34m)\u001b[0m\u001b[0;34m\u001b[0m\u001b[0m\n\u001b[0m",
      "\u001b[0;31mAttributeError\u001b[0m: 'module' object has no attribute 'Database_pitch'"
     ]
    }
   ],
   "source": [
    "import cPickle as pickle\n",
    "#pickle.dump(db2,open('db2.p','wb'))\n",
    "db = pickle.load(open('pitching_db.p','rb'))"
   ]
  },
  {
   "cell_type": "code",
   "execution_count": 57,
   "metadata": {
    "collapsed": false
   },
   "outputs": [
    {
     "data": {
      "text/plain": [
       "array(['dotsr001', 'bannf001', 'forsb001', ..., 'hernl003', 'hudst001',\n",
       "       'buehm001'], dtype=object)"
      ]
     },
     "execution_count": 57,
     "metadata": {},
     "output_type": "execute_result"
    }
   ],
   "source": [
    "smalldf.sort('ovp_FACED').pID.unique()"
   ]
  },
  {
   "cell_type": "code",
   "execution_count": 58,
   "metadata": {
    "collapsed": false
   },
   "outputs": [
    {
     "name": "stdout",
     "output_type": "stream",
     "text": [
      "(0.020463161725546037, 209)\n"
     ]
    }
   ],
   "source": [
    "tpair=('buehm001', 'hudst001') # Mark Buehrle vs. Tim Hudson\n",
    "print db.get(tpair[0],tpair[1])"
   ]
  },
  {
   "cell_type": "code",
   "execution_count": null,
   "metadata": {
    "collapsed": true
   },
   "outputs": [],
   "source": [
    "fig, axis = plt.subplots(figsize=(8,5))\n",
    "sims = db.database_sim.flatten()\n",
    "axis.hist(sims[sims>=0], bins=20, normed=True)\n",
    "axis.set_xlabel('Similarities')"
   ]
  },
  {
   "cell_type": "code",
   "execution_count": null,
   "metadata": {
    "collapsed": true
   },
   "outputs": [],
   "source": [
    "def shrunk_sim(sim, n_common, reg=3.):\n",
    "    \"takes a similarity and shrinks it down by using the regularizer\"\n",
    "    ssim=(n_common*sim)/(n_common+reg)\n",
    "    return ssim"
   ]
  },
  {
   "cell_type": "code",
   "execution_count": null,
   "metadata": {
    "collapsed": true
   },
   "outputs": [],
   "source": [
    "\"\"\"\n",
    "Function\n",
    "--------\n",
    "knearest\n",
    "\n",
    "Parameters\n",
    "----------\n",
    "restaurant_id : string\n",
    "    The id of the restaurant whose nearest neighbors we want\n",
    "set_of_restaurants : array\n",
    "    The set of restaurants from which we want to find the nearest neighbors\n",
    "dbase : instance of Database class.\n",
    "    A database of similarities, on which the get method can be used to get the similarity\n",
    "  of two businesses. e.g. dbase.get(rid1,rid2)\n",
    "k : int\n",
    "    the number of nearest neighbors desired, default 7\n",
    "reg: float\n",
    "    the regularization.\n",
    "    \n",
    "  \n",
    "Returns\n",
    "--------\n",
    "A sorted list\n",
    "    of the top k similar restaurants. The list is a list of tuples\n",
    "    (business_id, shrunken similarity, common support).\n",
    "\"\"\"\n",
    "from operator import itemgetter\n",
    "def knearest(restaurant_id, set_of_restaurants, dbase, k=7, reg=3.):\n",
    "    \"\"\"\n",
    "    Given a restaurant_id, dataframe, and database, get a sorted list of the\n",
    "    k most similar restaurants from the set of restaurants.\n",
    "    \"\"\"\n",
    "    similars=[]\n",
    "    for other_rest_id in set_of_restaurants:\n",
    "        if other_rest_id!=restaurant_id:\n",
    "            sim, nc=dbase.get(restaurant_id, other_rest_id)\n",
    "            ssim=shrunk_sim(sim, nc, reg=reg)\n",
    "            simdist=(1. - ssim)/2.\n",
    "            similars.append((other_rest_id, simdist, nc ))\n",
    "    similars=sorted(similars, key=itemgetter(1))\n",
    "    return similars[0:k]"
   ]
  },
  {
   "cell_type": "code",
   "execution_count": null,
   "metadata": {
    "collapsed": true
   },
   "outputs": [],
   "source": [
    "def get_users_restaurants(df, b_id):\n",
    "    dfbatter=df[df.bID==b_id]\n",
    "    dfbatterdedup=dfbatter.drop_duplicates('pID')\n",
    "    return dict(zip(dfbatterdedup.pID.values, dfbatterdedup.AVG.values))"
   ]
  },
  {
   "cell_type": "code",
   "execution_count": null,
   "metadata": {
    "collapsed": true
   },
   "outputs": [],
   "source": [
    "\"\"\"\n",
    "Function\n",
    "--------\n",
    "rating\n",
    "\n",
    "Parameters\n",
    "----------\n",
    "set_of_restaurants: Dictionary\n",
    "    The dictionary of restaurant: star-rating pairs you want to make the prediction from.\n",
    "    This would be the output of a function like get_users_restaurants\n",
    "train_map: Dictionary\n",
    "    A dictionary with keys mean, users and items which have estimates of\n",
    "    overall average or intercept, user coefficients(averages), and\n",
    "    item coefficients(averages) respectively\n",
    "dbase : instance of Database class.\n",
    "    A database of similarities, on which the get method can be used to get the similarity\n",
    "  of two businessed. e.g. dbase.get(rid1,rid2)\n",
    "restaurant_id : string\n",
    "    The id of the restaurant whose nearest neighbors we want\n",
    "user_id : string\n",
    "    The id of the user, in whose reviewed restaurants we want to find the neighbors\n",
    "k : int\n",
    "    the number of nearest neighbors desired, default 7\n",
    "reg: float\n",
    "    the regularization.\n",
    "    \n",
    "  \n",
    "Returns\n",
    "--------\n",
    "A float\n",
    "    which is the imputed rating that we predict that user_id will make for restaurant_id\n",
    "    \n",
    "Notes\n",
    "--------\n",
    "If the sum of scores is 0, return the baseline estimate of the ranking.\n",
    "\"\"\"\n",
    "#your code here\n",
    "# Note: this function was inspired in part by the solutions to the 2013 hw4\n",
    "def rating(set_of_restaurants, train_map, dbase, restaurant_id, user_id, k=7, reg=3.):\n",
    "    mu=train_map['mean']\n",
    "    user_bias = train_map['batters'][user_id]\n",
    "    nsum=0.\n",
    "    scoresum=0.\n",
    "    nears=knearest(restaurant_id, set_of_restaurants, dbase, k=k, reg=reg)\n",
    "    restaurant_bias=train_map['pitchers'][restaurant_id]\n",
    "    scores=[]\n",
    "    for r,s,nc in nears:\n",
    "        ssim = 1-s\n",
    "        scoresum=scoresum+ssim\n",
    "        scores.append(ssim)\n",
    "        r_biases = train_map['pitchers'][r]\n",
    "        r_stars = set_of_restaurants[r]\n",
    "        rminusb=(r_stars - (r_biases + user_bias + mu))\n",
    "        nsum=nsum+ssim*rminusb\n",
    "    baseline=(user_bias +restaurant_bias + mu)\n",
    "    if scoresum > 0.:\n",
    "        val =  nsum/scoresum + baseline\n",
    "    else:\n",
    "        val=baseline\n",
    "    return val"
   ]
  },
  {
   "cell_type": "code",
   "execution_count": null,
   "metadata": {
    "collapsed": true
   },
   "outputs": [],
   "source": [
    "trainuser=traindf.loc[100].bID\n",
    "try:\n",
    "    testrest=testdf[testdf.bID==trainuser].pID.values[0]\n",
    "except:\n",
    "    testrest=testdf[testdf.bID==trainuser].pID\n",
    "print trainuser, testrest"
   ]
  },
  {
   "cell_type": "code",
   "execution_count": null,
   "metadata": {
    "collapsed": true
   },
   "outputs": [],
   "source": [
    "testdf[testdf.bID=='abreb001'].pID.values"
   ]
  },
  {
   "cell_type": "code",
   "execution_count": null,
   "metadata": {
    "collapsed": true
   },
   "outputs": [],
   "source": [
    "traindf.head()"
   ]
  },
  {
   "cell_type": "code",
   "execution_count": null,
   "metadata": {
    "collapsed": true
   },
   "outputs": [],
   "source": [
    "def get_actual(df, userid, bizid):\n",
    "    return df[(df.bID==userid) & (df.pID==bizid)]['AVG'].values[0]"
   ]
  },
  {
   "cell_type": "code",
   "execution_count": null,
   "metadata": {
    "collapsed": true
   },
   "outputs": [],
   "source": [
    "print \"Actual\", get_actual(testdf, trainuser, testrest)\n",
    "print \"Predicted\",rating(get_users_restaurants(traindf, trainuser), train_avgs, db, testrest, trainuser, k=2, reg=3.)"
   ]
  },
  {
   "cell_type": "code",
   "execution_count": null,
   "metadata": {
    "collapsed": true
   },
   "outputs": [],
   "source": [
    "def get_ratings_user_nbd(indf, traindf, train_map, db, k=2, reg=3.):\n",
    "    zips=zip(indf.pID, indf.bID, indf.AVG)\n",
    "    preds=[]\n",
    "    actuals=[]\n",
    "    for (r,u,actual) in zips:\n",
    "        pred=rating(get_users_restaurants(traindf, u),train_map, db, r,u, k, reg)\n",
    "        preds.append(pred)\n",
    "        actuals.append(actual)\n",
    "    return np.array(preds), np.array(actuals)"
   ]
  },
  {
   "cell_type": "code",
   "execution_count": null,
   "metadata": {
    "collapsed": true
   },
   "outputs": [],
   "source": [
    "%%time\n",
    "pt, at = get_ratings_user_nbd(traindf, traindf, train_avgs, db, k=6, reg=4.)\n",
    "compare_results(at,pt, model=\"knn(user) on training k=6, reg=4\", predicteds=True)"
   ]
  },
  {
   "cell_type": "code",
   "execution_count": null,
   "metadata": {
    "collapsed": true
   },
   "outputs": [],
   "source": [
    "%%time\n",
    "k = range(40,100,10)\n",
    "reg = range(1,12,2)\n",
    "rmsedict = {}\n",
    "for kval in k:\n",
    "    for regval in reg:\n",
    "        pt, at = get_ratings_user_nbd(validatedf, traindf, train_avgs, db, k=kval, reg=regval)\n",
    "        rmse = get_rmse(at, pt)\n",
    "        key = (kval, regval)\n",
    "        rmsedict[key] = rmse\n",
    "   "
   ]
  },
  {
   "cell_type": "code",
   "execution_count": null,
   "metadata": {
    "collapsed": true
   },
   "outputs": [],
   "source": [
    "     \n",
    "mintup=min(rmsedict, key=rmsedict.get)\n",
    "mintup"
   ]
  },
  {
   "cell_type": "code",
   "execution_count": null,
   "metadata": {
    "collapsed": true
   },
   "outputs": [],
   "source": [
    "bestk, bestreg = mintup\n",
    "predictions[\"knn\"], atknn = get_ratings_user_nbd(testdf, traindf,train_avgs, db, k=bestk, reg=bestreg)\n",
    "predictions_valid[\"knn\"], atvalid = get_ratings_user_nbd(traindf, traindf, train_avgs, db, k=bestk, reg=bestreg)"
   ]
  },
  {
   "cell_type": "code",
   "execution_count": null,
   "metadata": {
    "collapsed": true
   },
   "outputs": [],
   "source": [
    "ax, rmse_knn = compare_results(testdf.AVG, predictions['knn'], model=(\"knn(user) on test k=\" + str(bestk) + \", reg=\" + str(bestreg)), predicteds=True)\n",
    "# compare_results(testdf.stars,predictions['baseline'], model=\"baseline\", predicteds=True, onsame=ax)"
   ]
  }
 ],
 "metadata": {
  "kernelspec": {
   "display_name": "Python 2",
   "language": "python",
   "name": "python2"
  },
  "language_info": {
   "codemirror_mode": {
    "name": "ipython",
    "version": 2
   },
   "file_extension": ".py",
   "mimetype": "text/x-python",
   "name": "python",
   "nbconvert_exporter": "python",
   "pygments_lexer": "ipython2",
   "version": "2.7.11"
  }
 },
 "nbformat": 4,
 "nbformat_minor": 0
}
