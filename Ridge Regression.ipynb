{
 "cells": [
  {
   "cell_type": "code",
   "execution_count": 33,
   "metadata": {
    "collapsed": false
   },
   "outputs": [],
   "source": [
    "%matplotlib inline\n",
    "import numpy as np\n",
    "import scipy as sp\n",
    "import matplotlib as mpl\n",
    "import matplotlib.cm as cm\n",
    "import matplotlib.pyplot as plt\n",
    "import pandas as pd\n",
    "pd.set_option('display.width', 500)\n",
    "pd.set_option('display.max_columns', 100)\n",
    "pd.set_option('display.notebook_repr_html', True)\n",
    "import seaborn as sns\n",
    "sns.set_style(\"whitegrid\")\n",
    "sns.set_context(\"poster\")\n",
    "from sklearn.cross_validation import *\n",
    "from scipy import stats"
   ]
  },
  {
   "cell_type": "markdown",
   "metadata": {},
   "source": [
    "#New Small DF"
   ]
  },
  {
   "cell_type": "code",
   "execution_count": 34,
   "metadata": {
    "collapsed": false
   },
   "outputs": [],
   "source": [
    "matchup_df = pd.read_csv(\"temp_matchupdf.csv\")"
   ]
  },
  {
   "cell_type": "code",
   "execution_count": 35,
   "metadata": {
    "collapsed": false
   },
   "outputs": [],
   "source": [
    "dftouse=matchup_df.copy()"
   ]
  },
  {
   "cell_type": "code",
   "execution_count": 36,
   "metadata": {
    "collapsed": false
   },
   "outputs": [
    {
     "data": {
      "text/plain": [
       "AB              int64\n",
       "H               int64\n",
       "PA              int64\n",
       "RL             object\n",
       "SAC             int64\n",
       "SO              int64\n",
       "TB              int64\n",
       "W               int64\n",
       "bID            object\n",
       "matchID        object\n",
       "pID            object\n",
       "AVG           float64\n",
       "OBP           float64\n",
       "ov_AB           int64\n",
       "ov_H            int64\n",
       "ov_PA           int64\n",
       "ov_SAC          int64\n",
       "ov_SO           int64\n",
       "ov_TB           int64\n",
       "ov_W            int64\n",
       "ov_FACED        int64\n",
       "ov_AVG        float64\n",
       "ov_OBP        float64\n",
       "ov_SO_PCT     float64\n",
       "ov_W_PCT      float64\n",
       "ov_H_PCT      float64\n",
       "ovp_AB          int64\n",
       "ovp_H           int64\n",
       "ovp_PA          int64\n",
       "ovp_SAC         int64\n",
       "ovp_SO          int64\n",
       "ovp_TB          int64\n",
       "ovp_W           int64\n",
       "ovp_FACED       int64\n",
       "ovp_SO_PCT    float64\n",
       "ovp_W_PCT     float64\n",
       "ovp_H_PCT     float64\n",
       "ovp_AVG       float64\n",
       "ovp_OBP       float64\n",
       "dtype: object"
      ]
     },
     "execution_count": 36,
     "metadata": {},
     "output_type": "execute_result"
    }
   ],
   "source": [
    "dftouse.dtypes"
   ]
  },
  {
   "cell_type": "code",
   "execution_count": 37,
   "metadata": {
    "collapsed": true
   },
   "outputs": [],
   "source": [
    "def compute_supports(df):\n",
    "    ubids=df.bID.unique()\n",
    "    pitch = df.groupby('pID').bID.unique()\n",
    "    bdict={}\n",
    "    for e,v in zip(pitch.index.values, pitch.values):\n",
    "        bdict[e] = np.array([item in v for item in ubids])\n",
    "    pitchers=bdict.keys()\n",
    "    supports=[]\n",
    "    for i,p1 in enumerate(pitchers):\n",
    "        for j,p2 in enumerate(pitchers):\n",
    "            if  i < j:\n",
    "                supmask = (bdict[p1] & bdict[p2])\n",
    "                common_batters = np.sum(supmask)\n",
    "                supports.append(common_batters)\n",
    "    print \"mean support\",np.mean(supports), \"median support\", np.median(supports)\n",
    "    return supports, bdict"
   ]
  },
  {
   "cell_type": "code",
   "execution_count": 38,
   "metadata": {
    "collapsed": true
   },
   "outputs": [],
   "source": [
    "def recompute_frame(ldf):\n",
    "    \"\"\"\n",
    "    takes a dataframe ldf, makes a copy of it, and returns the copy\n",
    "    with all conglomerations recomputed\n",
    "    this is used when a frame is subsetted.\n",
    "    \"\"\"\n",
    "    ldfb=ldf.groupby('bID')\n",
    "    ldfp=ldf.groupby('pID')\n",
    "    nldf=ldf.copy()\n",
    "    \n",
    "    #Conglomerate pitcher stats\n",
    "    nldf.set_index(['pID'], inplace=True)\n",
    "    for col in ['AB', 'PA', 'H', 'TB', 'SAC', 'SO', 'W']:\n",
    "        nldf['ovp_'+col] = ldfp[col].sum()\n",
    "    nldf['ovp_AVG'] = nldf['ovp_H']/nldf['ovp_AB']\n",
    "    nldf['ovp_FACED']= ldfp.AB.count()\n",
    "    nldf['ovp_OBP'] = (nldf['ovp_H'] + nldf['ovp_W'])/nldf['ovp_PA']\n",
    "    for col in ['SO', 'W', 'H']:\n",
    "        nldf['ovp_' + col + '_PCT'] = nldf['ovp_' + col] / nldf['ovp_PA']\n",
    "    nldf.reset_index(inplace=True)\n",
    "    \n",
    "    #Conglomerate batter stats\n",
    "    nldf.set_index(['bID'], inplace=True)\n",
    "    for col in ['AB', 'PA', 'H', 'TB', 'SAC', 'SO', 'W']:\n",
    "        nldf['ov_'+col] = ldfb[col].sum()\n",
    "    nldf['ov_AVG'] = nldf['ov_H']/nldf['ov_AB']\n",
    "    nldf['ov_FACED']= ldfb.AB.count()\n",
    "    nldf['ov_OBP'] = (nldf['ov_H'] + nldf['ov_W'])/nldf['ov_PA']\n",
    "    for col in ['SO', 'W', 'H']:\n",
    "        nldf['ov_' + col + '_PCT'] = nldf['ov_' + col] / nldf['ov_PA']\n",
    "    nldf.reset_index(inplace=True)\n",
    "    return nldf"
   ]
  },
  {
   "cell_type": "code",
   "execution_count": 39,
   "metadata": {
    "collapsed": true
   },
   "outputs": [],
   "source": [
    "def make_smaller(df, pacountp, pacountb):\n",
    "    smallidf1=df[(df.ovp_PA > pacountp) & (df.ov_PA > pacountb)]\n",
    "    smalldf=recompute_frame(smallidf1)\n",
    "    return smalldf"
   ]
  },
  {
   "cell_type": "code",
   "execution_count": 40,
   "metadata": {
    "collapsed": true
   },
   "outputs": [],
   "source": [
    "def make_smaller_gen(df, col, limit, greater=True):\n",
    "    if greater:\n",
    "        smallidf = df[(df[col] > limit)]\n",
    "    else:\n",
    "        smallidf = df[(df[col] < limit)]\n",
    "    return recompute_frame(smallidf)"
   ]
  },
  {
   "cell_type": "code",
   "execution_count": 93,
   "metadata": {
    "collapsed": true
   },
   "outputs": [],
   "source": [
    "#Set minimum number of times batter/pitcher faced each other\n",
    "smalldf = make_smaller_gen(dftouse, 'PA', 25)\n",
    "\n",
    "#Set minimum number of total plate appearances for batter and pitcher\n",
    "smalldf = make_smaller(smalldf, 100, 100)"
   ]
  },
  {
   "cell_type": "code",
   "execution_count": 110,
   "metadata": {
    "collapsed": true
   },
   "outputs": [],
   "source": [
    "smalldf.to_csv('small_reduced.csv', index=False)"
   ]
  },
  {
   "cell_type": "code",
   "execution_count": 94,
   "metadata": {
    "collapsed": false
   },
   "outputs": [
    {
     "data": {
      "text/plain": [
       "(13179, 39)"
      ]
     },
     "execution_count": 94,
     "metadata": {},
     "output_type": "execute_result"
    }
   ],
   "source": [
    "smalldf.shape"
   ]
  },
  {
   "cell_type": "code",
   "execution_count": 95,
   "metadata": {
    "collapsed": true
   },
   "outputs": [],
   "source": [
    "smalldf['AVG'] = smalldf['H']/smalldf['AB']\n",
    "smalldf['OBP'] = (smalldf['H'] + smalldf['W'])/smalldf['PA']"
   ]
  },
  {
   "cell_type": "code",
   "execution_count": 96,
   "metadata": {
    "collapsed": false
   },
   "outputs": [
    {
     "name": "stdout",
     "output_type": "stream",
     "text": [
      "(13095, 39) (48, 39) (36, 39)\n"
     ]
    }
   ],
   "source": [
    "#Copied and pasted over from Baseline model\n",
    "\n",
    "trainlist=[]\n",
    "testlist=[]\n",
    "validatelist=[]\n",
    "take=21 #21 matchups between validation and test set\n",
    "for k, v in smalldf.groupby('bID'):\n",
    "    if len(v) > 100: #batter has faced at least 100 pitchers\n",
    "        train_rows, test_valid_rows = train_test_split(v, test_size=take)\n",
    "        trainlist.append(train_rows)\n",
    "        valid_rows, test_rows = train_test_split(test_valid_rows, test_size=0.4)\n",
    "        validatelist.append(valid_rows) \n",
    "        testlist.append(test_rows) \n",
    "    else:\n",
    "        trainlist.append(v)\n",
    "traindf=pd.concat(trainlist)\n",
    "validatedf=pd.concat(validatelist)\n",
    "testdf=pd.concat(testlist)\n",
    "print traindf.shape, validatedf.shape, testdf.shape"
   ]
  },
  {
   "cell_type": "markdown",
   "metadata": {},
   "source": [
    "#Make the uuids and uiids from the traindf for each batter and pitcher"
   ]
  },
  {
   "cell_type": "code",
   "execution_count": 97,
   "metadata": {
    "collapsed": true
   },
   "outputs": [],
   "source": [
    "ubids=traindf.bID.unique()#unique-user-ids\n",
    "upids=traindf.pID.unique()#unique-item-ids"
   ]
  },
  {
   "cell_type": "code",
   "execution_count": 98,
   "metadata": {
    "collapsed": false
   },
   "outputs": [
    {
     "data": {
      "text/plain": [
       "(961L,)"
      ]
     },
     "execution_count": 98,
     "metadata": {},
     "output_type": "execute_result"
    }
   ],
   "source": [
    "from sklearn.linear_model import Ridge\n",
    "features=np.concatenate([ubids,upids])\n",
    "features.shape"
   ]
  },
  {
   "cell_type": "code",
   "execution_count": 99,
   "metadata": {
    "collapsed": false
   },
   "outputs": [
    {
     "data": {
      "text/html": [
       "<div>\n",
       "<table border=\"1\" class=\"dataframe\">\n",
       "  <thead>\n",
       "    <tr style=\"text-align: right;\">\n",
       "      <th></th>\n",
       "      <th>bID</th>\n",
       "      <th>pID</th>\n",
       "      <th>AB</th>\n",
       "      <th>H</th>\n",
       "      <th>PA</th>\n",
       "      <th>RL</th>\n",
       "      <th>SAC</th>\n",
       "      <th>SO</th>\n",
       "      <th>TB</th>\n",
       "      <th>W</th>\n",
       "      <th>matchID</th>\n",
       "      <th>AVG</th>\n",
       "      <th>OBP</th>\n",
       "      <th>ov_AB</th>\n",
       "      <th>ov_H</th>\n",
       "      <th>ov_PA</th>\n",
       "      <th>ov_SAC</th>\n",
       "      <th>ov_SO</th>\n",
       "      <th>ov_TB</th>\n",
       "      <th>ov_W</th>\n",
       "      <th>ov_FACED</th>\n",
       "      <th>ov_AVG</th>\n",
       "      <th>ov_OBP</th>\n",
       "      <th>ov_SO_PCT</th>\n",
       "      <th>ov_W_PCT</th>\n",
       "      <th>ov_H_PCT</th>\n",
       "      <th>ovp_AB</th>\n",
       "      <th>ovp_H</th>\n",
       "      <th>ovp_PA</th>\n",
       "      <th>ovp_SAC</th>\n",
       "      <th>ovp_SO</th>\n",
       "      <th>ovp_TB</th>\n",
       "      <th>ovp_W</th>\n",
       "      <th>ovp_FACED</th>\n",
       "      <th>ovp_SO_PCT</th>\n",
       "      <th>ovp_W_PCT</th>\n",
       "      <th>ovp_H_PCT</th>\n",
       "      <th>ovp_AVG</th>\n",
       "      <th>ovp_OBP</th>\n",
       "    </tr>\n",
       "  </thead>\n",
       "  <tbody>\n",
       "    <tr>\n",
       "      <th>819</th>\n",
       "      <td>abreb001</td>\n",
       "      <td>armat002</td>\n",
       "      <td>31</td>\n",
       "      <td>10</td>\n",
       "      <td>38</td>\n",
       "      <td>R</td>\n",
       "      <td>0</td>\n",
       "      <td>9</td>\n",
       "      <td>26</td>\n",
       "      <td>7</td>\n",
       "      <td>abreb001_armat002</td>\n",
       "      <td>0.322581</td>\n",
       "      <td>0.447368</td>\n",
       "      <td>2439</td>\n",
       "      <td>669</td>\n",
       "      <td>2845</td>\n",
       "      <td>23</td>\n",
       "      <td>502</td>\n",
       "      <td>1338</td>\n",
       "      <td>406</td>\n",
       "      <td>69</td>\n",
       "      <td>0.274293</td>\n",
       "      <td>0.377856</td>\n",
       "      <td>0.17645</td>\n",
       "      <td>0.142707</td>\n",
       "      <td>0.235149</td>\n",
       "      <td>480</td>\n",
       "      <td>140</td>\n",
       "      <td>564</td>\n",
       "      <td>6</td>\n",
       "      <td>83</td>\n",
       "      <td>294</td>\n",
       "      <td>84</td>\n",
       "      <td>15</td>\n",
       "      <td>0.147163</td>\n",
       "      <td>0.148936</td>\n",
       "      <td>0.248227</td>\n",
       "      <td>0.291667</td>\n",
       "      <td>0.397163</td>\n",
       "    </tr>\n",
       "    <tr>\n",
       "      <th>820</th>\n",
       "      <td>abreb001</td>\n",
       "      <td>astap001</td>\n",
       "      <td>31</td>\n",
       "      <td>10</td>\n",
       "      <td>41</td>\n",
       "      <td>R</td>\n",
       "      <td>0</td>\n",
       "      <td>6</td>\n",
       "      <td>23</td>\n",
       "      <td>10</td>\n",
       "      <td>abreb001_astap001</td>\n",
       "      <td>0.322581</td>\n",
       "      <td>0.487805</td>\n",
       "      <td>2439</td>\n",
       "      <td>669</td>\n",
       "      <td>2845</td>\n",
       "      <td>23</td>\n",
       "      <td>502</td>\n",
       "      <td>1338</td>\n",
       "      <td>406</td>\n",
       "      <td>69</td>\n",
       "      <td>0.274293</td>\n",
       "      <td>0.377856</td>\n",
       "      <td>0.17645</td>\n",
       "      <td>0.142707</td>\n",
       "      <td>0.235149</td>\n",
       "      <td>2304</td>\n",
       "      <td>699</td>\n",
       "      <td>2595</td>\n",
       "      <td>27</td>\n",
       "      <td>400</td>\n",
       "      <td>1427</td>\n",
       "      <td>291</td>\n",
       "      <td>62</td>\n",
       "      <td>0.154143</td>\n",
       "      <td>0.112139</td>\n",
       "      <td>0.269364</td>\n",
       "      <td>0.303385</td>\n",
       "      <td>0.381503</td>\n",
       "    </tr>\n",
       "    <tr>\n",
       "      <th>821</th>\n",
       "      <td>abreb001</td>\n",
       "      <td>batim001</td>\n",
       "      <td>33</td>\n",
       "      <td>12</td>\n",
       "      <td>38</td>\n",
       "      <td>R</td>\n",
       "      <td>1</td>\n",
       "      <td>2</td>\n",
       "      <td>23</td>\n",
       "      <td>5</td>\n",
       "      <td>abreb001_batim001</td>\n",
       "      <td>0.363636</td>\n",
       "      <td>0.447368</td>\n",
       "      <td>2439</td>\n",
       "      <td>669</td>\n",
       "      <td>2845</td>\n",
       "      <td>23</td>\n",
       "      <td>502</td>\n",
       "      <td>1338</td>\n",
       "      <td>406</td>\n",
       "      <td>69</td>\n",
       "      <td>0.274293</td>\n",
       "      <td>0.377856</td>\n",
       "      <td>0.17645</td>\n",
       "      <td>0.142707</td>\n",
       "      <td>0.235149</td>\n",
       "      <td>1684</td>\n",
       "      <td>497</td>\n",
       "      <td>1930</td>\n",
       "      <td>33</td>\n",
       "      <td>184</td>\n",
       "      <td>944</td>\n",
       "      <td>246</td>\n",
       "      <td>58</td>\n",
       "      <td>0.095337</td>\n",
       "      <td>0.127461</td>\n",
       "      <td>0.257513</td>\n",
       "      <td>0.295131</td>\n",
       "      <td>0.384974</td>\n",
       "    </tr>\n",
       "    <tr>\n",
       "      <th>822</th>\n",
       "      <td>abreb001</td>\n",
       "      <td>beckj002</td>\n",
       "      <td>79</td>\n",
       "      <td>14</td>\n",
       "      <td>100</td>\n",
       "      <td>R</td>\n",
       "      <td>0</td>\n",
       "      <td>25</td>\n",
       "      <td>28</td>\n",
       "      <td>21</td>\n",
       "      <td>abreb001_beckj002</td>\n",
       "      <td>0.177215</td>\n",
       "      <td>0.350000</td>\n",
       "      <td>2439</td>\n",
       "      <td>669</td>\n",
       "      <td>2845</td>\n",
       "      <td>23</td>\n",
       "      <td>502</td>\n",
       "      <td>1338</td>\n",
       "      <td>406</td>\n",
       "      <td>69</td>\n",
       "      <td>0.274293</td>\n",
       "      <td>0.377856</td>\n",
       "      <td>0.17645</td>\n",
       "      <td>0.142707</td>\n",
       "      <td>0.235149</td>\n",
       "      <td>2502</td>\n",
       "      <td>637</td>\n",
       "      <td>2769</td>\n",
       "      <td>27</td>\n",
       "      <td>606</td>\n",
       "      <td>1259</td>\n",
       "      <td>267</td>\n",
       "      <td>67</td>\n",
       "      <td>0.218852</td>\n",
       "      <td>0.096425</td>\n",
       "      <td>0.230047</td>\n",
       "      <td>0.254596</td>\n",
       "      <td>0.326472</td>\n",
       "    </tr>\n",
       "    <tr>\n",
       "      <th>823</th>\n",
       "      <td>abreb001</td>\n",
       "      <td>bedae001</td>\n",
       "      <td>29</td>\n",
       "      <td>5</td>\n",
       "      <td>33</td>\n",
       "      <td>L</td>\n",
       "      <td>1</td>\n",
       "      <td>7</td>\n",
       "      <td>5</td>\n",
       "      <td>4</td>\n",
       "      <td>abreb001_bedae001</td>\n",
       "      <td>0.172414</td>\n",
       "      <td>0.272727</td>\n",
       "      <td>2439</td>\n",
       "      <td>669</td>\n",
       "      <td>2845</td>\n",
       "      <td>23</td>\n",
       "      <td>502</td>\n",
       "      <td>1338</td>\n",
       "      <td>406</td>\n",
       "      <td>69</td>\n",
       "      <td>0.274293</td>\n",
       "      <td>0.377856</td>\n",
       "      <td>0.17645</td>\n",
       "      <td>0.142707</td>\n",
       "      <td>0.235149</td>\n",
       "      <td>1067</td>\n",
       "      <td>283</td>\n",
       "      <td>1181</td>\n",
       "      <td>8</td>\n",
       "      <td>249</td>\n",
       "      <td>505</td>\n",
       "      <td>114</td>\n",
       "      <td>36</td>\n",
       "      <td>0.210838</td>\n",
       "      <td>0.096528</td>\n",
       "      <td>0.239627</td>\n",
       "      <td>0.265230</td>\n",
       "      <td>0.336156</td>\n",
       "    </tr>\n",
       "    <tr>\n",
       "      <th>824</th>\n",
       "      <td>abreb001</td>\n",
       "      <td>benea001</td>\n",
       "      <td>23</td>\n",
       "      <td>8</td>\n",
       "      <td>27</td>\n",
       "      <td>R</td>\n",
       "      <td>1</td>\n",
       "      <td>2</td>\n",
       "      <td>18</td>\n",
       "      <td>4</td>\n",
       "      <td>abreb001_benea001</td>\n",
       "      <td>0.347826</td>\n",
       "      <td>0.444444</td>\n",
       "      <td>2439</td>\n",
       "      <td>669</td>\n",
       "      <td>2845</td>\n",
       "      <td>23</td>\n",
       "      <td>502</td>\n",
       "      <td>1338</td>\n",
       "      <td>406</td>\n",
       "      <td>69</td>\n",
       "      <td>0.274293</td>\n",
       "      <td>0.377856</td>\n",
       "      <td>0.17645</td>\n",
       "      <td>0.142707</td>\n",
       "      <td>0.235149</td>\n",
       "      <td>1892</td>\n",
       "      <td>525</td>\n",
       "      <td>2118</td>\n",
       "      <td>25</td>\n",
       "      <td>374</td>\n",
       "      <td>1107</td>\n",
       "      <td>226</td>\n",
       "      <td>48</td>\n",
       "      <td>0.176582</td>\n",
       "      <td>0.106704</td>\n",
       "      <td>0.247875</td>\n",
       "      <td>0.277484</td>\n",
       "      <td>0.354580</td>\n",
       "    </tr>\n",
       "    <tr>\n",
       "      <th>825</th>\n",
       "      <td>abreb001</td>\n",
       "      <td>bensk001</td>\n",
       "      <td>28</td>\n",
       "      <td>6</td>\n",
       "      <td>31</td>\n",
       "      <td>R</td>\n",
       "      <td>0</td>\n",
       "      <td>4</td>\n",
       "      <td>12</td>\n",
       "      <td>3</td>\n",
       "      <td>abreb001_bensk001</td>\n",
       "      <td>0.214286</td>\n",
       "      <td>0.290323</td>\n",
       "      <td>2439</td>\n",
       "      <td>669</td>\n",
       "      <td>2845</td>\n",
       "      <td>23</td>\n",
       "      <td>502</td>\n",
       "      <td>1338</td>\n",
       "      <td>406</td>\n",
       "      <td>69</td>\n",
       "      <td>0.274293</td>\n",
       "      <td>0.377856</td>\n",
       "      <td>0.17645</td>\n",
       "      <td>0.142707</td>\n",
       "      <td>0.235149</td>\n",
       "      <td>747</td>\n",
       "      <td>216</td>\n",
       "      <td>857</td>\n",
       "      <td>11</td>\n",
       "      <td>109</td>\n",
       "      <td>437</td>\n",
       "      <td>110</td>\n",
       "      <td>27</td>\n",
       "      <td>0.127188</td>\n",
       "      <td>0.128355</td>\n",
       "      <td>0.252042</td>\n",
       "      <td>0.289157</td>\n",
       "      <td>0.380397</td>\n",
       "    </tr>\n",
       "    <tr>\n",
       "      <th>826</th>\n",
       "      <td>abreb001</td>\n",
       "      <td>bondj001</td>\n",
       "      <td>22</td>\n",
       "      <td>10</td>\n",
       "      <td>28</td>\n",
       "      <td>R</td>\n",
       "      <td>0</td>\n",
       "      <td>4</td>\n",
       "      <td>20</td>\n",
       "      <td>6</td>\n",
       "      <td>abreb001_bondj001</td>\n",
       "      <td>0.454545</td>\n",
       "      <td>0.571429</td>\n",
       "      <td>2439</td>\n",
       "      <td>669</td>\n",
       "      <td>2845</td>\n",
       "      <td>23</td>\n",
       "      <td>502</td>\n",
       "      <td>1338</td>\n",
       "      <td>406</td>\n",
       "      <td>69</td>\n",
       "      <td>0.274293</td>\n",
       "      <td>0.377856</td>\n",
       "      <td>0.17645</td>\n",
       "      <td>0.142707</td>\n",
       "      <td>0.235149</td>\n",
       "      <td>1353</td>\n",
       "      <td>393</td>\n",
       "      <td>1510</td>\n",
       "      <td>16</td>\n",
       "      <td>262</td>\n",
       "      <td>799</td>\n",
       "      <td>157</td>\n",
       "      <td>42</td>\n",
       "      <td>0.173510</td>\n",
       "      <td>0.103974</td>\n",
       "      <td>0.260265</td>\n",
       "      <td>0.290466</td>\n",
       "      <td>0.364238</td>\n",
       "    </tr>\n",
       "    <tr>\n",
       "      <th>827</th>\n",
       "      <td>abreb001</td>\n",
       "      <td>browk001</td>\n",
       "      <td>36</td>\n",
       "      <td>11</td>\n",
       "      <td>39</td>\n",
       "      <td>R</td>\n",
       "      <td>0</td>\n",
       "      <td>5</td>\n",
       "      <td>19</td>\n",
       "      <td>3</td>\n",
       "      <td>abreb001_browk001</td>\n",
       "      <td>0.305556</td>\n",
       "      <td>0.358974</td>\n",
       "      <td>2439</td>\n",
       "      <td>669</td>\n",
       "      <td>2845</td>\n",
       "      <td>23</td>\n",
       "      <td>502</td>\n",
       "      <td>1338</td>\n",
       "      <td>406</td>\n",
       "      <td>69</td>\n",
       "      <td>0.274293</td>\n",
       "      <td>0.377856</td>\n",
       "      <td>0.17645</td>\n",
       "      <td>0.142707</td>\n",
       "      <td>0.235149</td>\n",
       "      <td>2555</td>\n",
       "      <td>665</td>\n",
       "      <td>2805</td>\n",
       "      <td>23</td>\n",
       "      <td>461</td>\n",
       "      <td>1129</td>\n",
       "      <td>250</td>\n",
       "      <td>71</td>\n",
       "      <td>0.164349</td>\n",
       "      <td>0.089127</td>\n",
       "      <td>0.237077</td>\n",
       "      <td>0.260274</td>\n",
       "      <td>0.326203</td>\n",
       "    </tr>\n",
       "    <tr>\n",
       "      <th>828</th>\n",
       "      <td>abreb001</td>\n",
       "      <td>buehm001</td>\n",
       "      <td>22</td>\n",
       "      <td>10</td>\n",
       "      <td>26</td>\n",
       "      <td>L</td>\n",
       "      <td>1</td>\n",
       "      <td>5</td>\n",
       "      <td>18</td>\n",
       "      <td>4</td>\n",
       "      <td>abreb001_buehm001</td>\n",
       "      <td>0.454545</td>\n",
       "      <td>0.538462</td>\n",
       "      <td>2439</td>\n",
       "      <td>669</td>\n",
       "      <td>2845</td>\n",
       "      <td>23</td>\n",
       "      <td>502</td>\n",
       "      <td>1338</td>\n",
       "      <td>406</td>\n",
       "      <td>69</td>\n",
       "      <td>0.274293</td>\n",
       "      <td>0.377856</td>\n",
       "      <td>0.17645</td>\n",
       "      <td>0.142707</td>\n",
       "      <td>0.235149</td>\n",
       "      <td>5728</td>\n",
       "      <td>1669</td>\n",
       "      <td>6147</td>\n",
       "      <td>70</td>\n",
       "      <td>763</td>\n",
       "      <td>3102</td>\n",
       "      <td>419</td>\n",
       "      <td>142</td>\n",
       "      <td>0.124126</td>\n",
       "      <td>0.068163</td>\n",
       "      <td>0.271515</td>\n",
       "      <td>0.291376</td>\n",
       "      <td>0.339678</td>\n",
       "    </tr>\n",
       "  </tbody>\n",
       "</table>\n",
       "</div>"
      ],
      "text/plain": [
       "          bID       pID  AB   H   PA RL  SAC  SO  TB   W            matchID       AVG       OBP  ov_AB  ov_H  ov_PA  ov_SAC  ov_SO  ov_TB  ov_W  ov_FACED    ov_AVG    ov_OBP  ov_SO_PCT  ov_W_PCT  ov_H_PCT  ovp_AB  ovp_H  ovp_PA  ovp_SAC  ovp_SO  ovp_TB  ovp_W  ovp_FACED  ovp_SO_PCT  ovp_W_PCT  ovp_H_PCT   ovp_AVG   ovp_OBP\n",
       "819  abreb001  armat002  31  10   38  R    0   9  26   7  abreb001_armat002  0.322581  0.447368   2439   669   2845      23    502   1338   406        69  0.274293  0.377856    0.17645  0.142707  0.235149     480    140     564        6      83     294     84         15    0.147163   0.148936   0.248227  0.291667  0.397163\n",
       "820  abreb001  astap001  31  10   41  R    0   6  23  10  abreb001_astap001  0.322581  0.487805   2439   669   2845      23    502   1338   406        69  0.274293  0.377856    0.17645  0.142707  0.235149    2304    699    2595       27     400    1427    291         62    0.154143   0.112139   0.269364  0.303385  0.381503\n",
       "821  abreb001  batim001  33  12   38  R    1   2  23   5  abreb001_batim001  0.363636  0.447368   2439   669   2845      23    502   1338   406        69  0.274293  0.377856    0.17645  0.142707  0.235149    1684    497    1930       33     184     944    246         58    0.095337   0.127461   0.257513  0.295131  0.384974\n",
       "822  abreb001  beckj002  79  14  100  R    0  25  28  21  abreb001_beckj002  0.177215  0.350000   2439   669   2845      23    502   1338   406        69  0.274293  0.377856    0.17645  0.142707  0.235149    2502    637    2769       27     606    1259    267         67    0.218852   0.096425   0.230047  0.254596  0.326472\n",
       "823  abreb001  bedae001  29   5   33  L    1   7   5   4  abreb001_bedae001  0.172414  0.272727   2439   669   2845      23    502   1338   406        69  0.274293  0.377856    0.17645  0.142707  0.235149    1067    283    1181        8     249     505    114         36    0.210838   0.096528   0.239627  0.265230  0.336156\n",
       "824  abreb001  benea001  23   8   27  R    1   2  18   4  abreb001_benea001  0.347826  0.444444   2439   669   2845      23    502   1338   406        69  0.274293  0.377856    0.17645  0.142707  0.235149    1892    525    2118       25     374    1107    226         48    0.176582   0.106704   0.247875  0.277484  0.354580\n",
       "825  abreb001  bensk001  28   6   31  R    0   4  12   3  abreb001_bensk001  0.214286  0.290323   2439   669   2845      23    502   1338   406        69  0.274293  0.377856    0.17645  0.142707  0.235149     747    216     857       11     109     437    110         27    0.127188   0.128355   0.252042  0.289157  0.380397\n",
       "826  abreb001  bondj001  22  10   28  R    0   4  20   6  abreb001_bondj001  0.454545  0.571429   2439   669   2845      23    502   1338   406        69  0.274293  0.377856    0.17645  0.142707  0.235149    1353    393    1510       16     262     799    157         42    0.173510   0.103974   0.260265  0.290466  0.364238\n",
       "827  abreb001  browk001  36  11   39  R    0   5  19   3  abreb001_browk001  0.305556  0.358974   2439   669   2845      23    502   1338   406        69  0.274293  0.377856    0.17645  0.142707  0.235149    2555    665    2805       23     461    1129    250         71    0.164349   0.089127   0.237077  0.260274  0.326203\n",
       "828  abreb001  buehm001  22  10   26  L    1   5  18   4  abreb001_buehm001  0.454545  0.538462   2439   669   2845      23    502   1338   406        69  0.274293  0.377856    0.17645  0.142707  0.235149    5728   1669    6147       70     763    3102    419        142    0.124126   0.068163   0.271515  0.291376  0.339678"
      ]
     },
     "execution_count": 99,
     "metadata": {},
     "output_type": "execute_result"
    }
   ],
   "source": [
    "traindf.head(10)"
   ]
  },
  {
   "cell_type": "code",
   "execution_count": 100,
   "metadata": {
    "collapsed": true
   },
   "outputs": [],
   "source": [
    "#function to produce the design matrix\n",
    "def getmats(indf):\n",
    "    \n",
    "    results_avg = indf['AVG']\n",
    "    results_obp = indf['OBP']\n",
    "    \n",
    "    n_cols = len(features)\n",
    "    n_rows = len(indf)\n",
    "    \n",
    "    #fill matrix with zeros\n",
    "    mats = np.zeros((n_rows, n_cols))\n",
    "\n",
    "    #for each element in features, check for match in every row, whether business or user, and switch to one\n",
    "    for i in range(0, len(ubids)):\n",
    "        for j in range(0, n_rows):\n",
    "            if features[i] == indf['bID'].values[j]:\n",
    "                mats[j, i] = 1\n",
    "    for i in range(len(ubids), n_cols):\n",
    "        for j in range(0, n_rows):\n",
    "            if features[i] == indf['pID'].values[j]:\n",
    "                mats[j, i] = 1\n",
    "    return mats, results_avg, results_obp"
   ]
  },
  {
   "cell_type": "code",
   "execution_count": 101,
   "metadata": {
    "collapsed": false
   },
   "outputs": [
    {
     "name": "stdout",
     "output_type": "stream",
     "text": [
      "Wall time: 1min 1s\n"
     ]
    }
   ],
   "source": [
    "%%time\n",
    "designm, avg, obp = getmats(traindf)\n",
    "validatedm, validate_avg, validate_obp = getmats(validatedf)"
   ]
  },
  {
   "cell_type": "code",
   "execution_count": 102,
   "metadata": {
    "collapsed": true
   },
   "outputs": [],
   "source": [
    "def get_rmse(s, s_predict):\n",
    "    diff = s - s_predict\n",
    "    return np.sqrt(np.dot(diff,diff)/diff.shape[0])"
   ]
  },
  {
   "cell_type": "code",
   "execution_count": 103,
   "metadata": {
    "collapsed": false
   },
   "outputs": [
    {
     "name": "stdout",
     "output_type": "stream",
     "text": [
      "Wall time: 3.96 s\n"
     ]
    }
   ],
   "source": [
    "%%time\n",
    "\n",
    "#regressing averages\n",
    "from sklearn.linear_model import Ridge\n",
    "alphas = [0.01, 0.1, 10, 100, 1000]\n",
    "vdict={}\n",
    "rdict={}\n",
    "for a in alphas:\n",
    "    #perform regression for each alpha and store in rdict, keyed by the alpha\n",
    "    ridge_reg = Ridge(alpha=a)\n",
    "    \n",
    "    #we'll do the average for now\n",
    "    ridge_reg = ridge_reg.fit(designm, avg)\n",
    "    rdict[a]=ridge_reg\n",
    "    \n",
    "    #calculate the RMSE for each alpha, store in vdict\n",
    "    pred = ridge_reg.predict(validatedm)\n",
    "    rmse = get_rmse(pred, validate_avg)\n",
    "    vdict[a]=rmse"
   ]
  },
  {
   "cell_type": "code",
   "execution_count": 104,
   "metadata": {
    "collapsed": false
   },
   "outputs": [
    {
     "data": {
      "text/plain": [
       "{0.01: 0.089990892259923988,\n",
       " 0.1: 0.089941138332694334,\n",
       " 10: 0.089342172492914318,\n",
       " 100: 0.090642472804778509,\n",
       " 1000: 0.092723990671586654}"
      ]
     },
     "execution_count": 104,
     "metadata": {},
     "output_type": "execute_result"
    }
   ],
   "source": [
    "vdict"
   ]
  },
  {
   "cell_type": "code",
   "execution_count": 105,
   "metadata": {
    "collapsed": false
   },
   "outputs": [
    {
     "name": "stdout",
     "output_type": "stream",
     "text": [
      "10\n"
     ]
    }
   ],
   "source": [
    "minerroralpha=min(vdict, key=vdict.get)\n",
    "print minerroralpha\n",
    "regr=rdict[minerroralpha] "
   ]
  },
  {
   "cell_type": "code",
   "execution_count": 106,
   "metadata": {
    "collapsed": false
   },
   "outputs": [
    {
     "data": {
      "text/plain": [
       "0.28034180680573334"
      ]
     },
     "execution_count": 106,
     "metadata": {},
     "output_type": "execute_result"
    }
   ],
   "source": [
    "regr.intercept_"
   ]
  },
  {
   "cell_type": "markdown",
   "metadata": {},
   "source": [
    "The RMSE is a lot smaller here than before. "
   ]
  },
  {
   "cell_type": "markdown",
   "metadata": {},
   "source": [
    "#Prediction"
   ]
  },
  {
   "cell_type": "code",
   "execution_count": 107,
   "metadata": {
    "collapsed": true
   },
   "outputs": [],
   "source": [
    "testdm, test_avg, test_obp = getmats(testdf)"
   ]
  },
  {
   "cell_type": "code",
   "execution_count": 108,
   "metadata": {
    "collapsed": true
   },
   "outputs": [],
   "source": [
    "def compare_results(avg_actual, avg_predicted, ylow=0, yhigh=1, model=\"\", predicteds=False, onsame=False, axis=False):\n",
    "    \"\"\"\n",
    "    plot predicted results against actual results. Takes 2 arguments: a\n",
    "    numpy array of actual ratings and a numpy array of predicted ratings\n",
    "    scatterplots the predictions, a unit slope line, line segments joining the mean,\n",
    "    and a filled in area of the standard deviations.\"\n",
    "    \"\"\"\n",
    "    if onsame:\n",
    "        ax=onsame\n",
    "    elif axis:\n",
    "        ax=axis\n",
    "    else:\n",
    "        fig=plt.figure()\n",
    "        ax=plt.gca()\n",
    "    df=pd.DataFrame(dict(actual=np.round(avg_actual, decimals=2), predicted=avg_predicted))\n",
    "    xp=[]\n",
    "    yp=[]\n",
    "    for k,v in df.groupby('actual'):\n",
    "        xp.append(k)\n",
    "        yp.append(v.predicted.mean())        \n",
    "    \n",
    "    cl, = ax.plot(xp,yp, 'o-', label=\"means for %s\" % model)\n",
    "    c=cl.get_color()\n",
    "    sig=df.groupby('actual').predicted.std().values\n",
    "    ax.fill_between(xp, yp - sig, yp + sig, \n",
    "                 color=c, alpha=0.2)\n",
    "    if predicteds:\n",
    "        ax.plot(df.actual, df.predicted, '.', color=c, alpha=0.1,label=\"predicted for %s\" % model)\n",
    "\n",
    "    if not onsame:\n",
    "        ax.plot([0,1],[0,1], 'k', label=\"slope 1\")\n",
    "        ax.set_xlabel(\"actual\")\n",
    "        ax.set_ylabel(\"predicted\")\n",
    "        ax.set_ylim([ylow,yhigh])\n",
    "        #ax.set_xlim([0.9, 5.1])\n",
    "    ax.legend(frameon=False, loc=\"upper left\",prop={'size':23})\n",
    "    rmse=get_rmse(avg_actual, avg_predicted)\n",
    "    print \"RMSE for %s\" % model, rmse\n",
    "    rmse=3\n",
    "    return ax,rmse"
   ]
  },
  {
   "cell_type": "code",
   "execution_count": 109,
   "metadata": {
    "collapsed": false
   },
   "outputs": [
    {
     "name": "stdout",
     "output_type": "stream",
     "text": [
      "RMSE for baseline_r 0.0824765971834\n"
     ]
    },
    {
     "data": {
      "image/png": "[encoded data removed]",
      "text/plain": [
       "<matplotlib.figure.Figure at 0x22c711d0>"
      ]
     },
     "metadata": {},
     "output_type": "display_data"
    }
   ],
   "source": [
    "#Comment these out obviously\n",
    "predictions={}\n",
    "predictions_valid={}\n",
    "\n",
    "from sklearn.linear_model import Ridge\n",
    "\n",
    "pred_test = regr.predict(testdm)\n",
    "predictions['baseline_r'] = pred_test\n",
    "\n",
    "pred_valid = regr.predict(validatedm)\n",
    "predictions_valid['baseline_r'] = pred_valid\n",
    "\n",
    "compare_results(test_avg,predictions['baseline_r'], model=\"baseline_r\", predicteds=True);"
   ]
  },
  {
   "cell_type": "code",
   "execution_count": null,
   "metadata": {
    "collapsed": true
   },
   "outputs": [],
   "source": [
    "#ax=plt.gca()\n",
    "#compare_results(test_avg,predictions['baseline_r'], model=\"baseline_r\", predicteds=True, axis=ax);\n",
    "#compare_results(testdf.AVG,predictions['baseline'], model=\"baseline\", predicteds=True, onsame=ax);"
   ]
  }
 ],
 "metadata": {
  "kernelspec": {
   "display_name": "Python 2",
   "language": "python",
   "name": "python2"
  },
  "language_info": {
   "codemirror_mode": {
    "name": "ipython",
    "version": 2
   },
   "file_extension": ".py",
   "mimetype": "text/x-python",
   "name": "python",
   "nbconvert_exporter": "python",
   "pygments_lexer": "ipython2",
   "version": "2.7.10"
  }
 },
 "nbformat": 4,
 "nbformat_minor": 0
}
