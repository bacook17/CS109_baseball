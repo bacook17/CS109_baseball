{
 "cells": [
  {
   "cell_type": "code",
   "execution_count": 3,
   "metadata": {
    "collapsed": true
   },
   "outputs": [],
   "source": [
    "import numpy as np, matplotlib.pyplot as plt\n",
    "import pandas as pd\n",
    "import requests\n",
    "from bs4 import BeautifulSoup\n",
    "import time\n",
    "import json\n",
    "import sys\n",
    "from scipy import stats\n",
    "from sklearn.cross_validation import *\n",
    "\n",
    "%matplotlib inline"
   ]
  },
  {
   "cell_type": "code",
   "execution_count": null,
   "metadata": {
    "collapsed": true
   },
   "outputs": [],
   "source": [
    "def sim_batters(bID, pID, df):\n",
    "    batter_row = df.loc[df['bID'] == bID]\n",
    "    AVG = batter_row['AVG']\n",
    "    OBP = batter_row['OBP']\n",
    "    if batter_row['RL'] == 'R'\n",
    "        hand = 0\n",
    "    else\n",
    "        hand = 1\n",
    "    SAC = batter_row['SAC']\n",
    "    # continue for other statistics\n",
    "    \n",
    "    # find list of bIDs who have faced given pID\n",
    "    p_batters = df.loc[df['pID'] == pID]\n",
    "    \n",
    "    similarity = {}\n",
    "    # for each batter, calculate similarity\n",
    "    for b in p_batters:\n",
    "        comp_b_row = df.loc[df['bID'] == b]\n",
    "        comp_AVG = batter_row['AVG']\n",
    "        comp_OBP = batter_row['OBP']\n",
    "        if batter_row['RL'] == 'R'\n",
    "            comp_hand = 0\n",
    "        else\n",
    "            comp_hand = 1\n",
    "        comp_SAC = batter_row['SAC']\n",
    "        # continue for other statistics\n",
    "        \n",
    "        #calculate similarity\n",
    "        AVG_score = AVG_weight*(AVG - comp_AVG)/AVG\n",
    "        OBP_score = OBP_weight*(OBP - comp_OPB)/OBP\n",
    "        hand_score = hand_weight*hand*comp_hand\n",
    "        SAC_score = SAC_weight*(SAC - comp_SAC)/SAC\n",
    "        total_score = AVG_score + OBP_score + hand_score + SAC_score\n",
    "        similarity[b] = total_score\n",
    "    # return top x bIDs with highest similarities\n",
    "    sorted_sim = sorted(similarity.items(), key=operator.itemgetter(1))\n",
    "    sim_batters = sorted_sim.keys\n",
    "    return sim_batters[:10]\n",
    "    "
   ]
  }
 ],
 "metadata": {
  "kernelspec": {
   "display_name": "Python 2",
   "language": "python",
   "name": "python2"
  },
  "language_info": {
   "codemirror_mode": {
    "name": "ipython",
    "version": 2
   },
   "file_extension": ".py",
   "mimetype": "text/x-python",
   "name": "python",
   "nbconvert_exporter": "python",
   "pygments_lexer": "ipython2",
   "version": "2.7.10"
  }
 },
 "nbformat": 4,
 "nbformat_minor": 0
}
