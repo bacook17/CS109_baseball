{
 "cells": [
  {
   "cell_type": "markdown",
   "metadata": {},
   "source": [
    "#Predicting Batter/Pitcher Matchups in Major League Baseball\n",
    "##An Exploration of Collaborative Filtering Models and their Applications to Sports Statistics\n",
    "\n",
    "\n",
    "###By: Chris Allen, Ben Cook, Ali Forelli, and Tori Machado (Harvard University)\n",
    "###Harvard CS 109 - Fall 2015"
   ]
  },
  {
   "cell_type": "markdown",
   "metadata": {},
   "source": [
    "#0. Introduction\n",
    "##What problem are we trying to solve?"
   ]
  },
  {
   "cell_type": "code",
   "execution_count": null,
   "metadata": {
    "collapsed": true
   },
   "outputs": [],
   "source": []
  },
  {
   "cell_type": "markdown",
   "metadata": {},
   "source": []
  },
  {
   "cell_type": "markdown",
   "metadata": {},
   "source": []
  },
  {
   "cell_type": "markdown",
   "metadata": {},
   "source": [
    "#1. Data Collection"
   ]
  },
  {
   "cell_type": "markdown",
   "metadata": {},
   "source": [
    "##Lahman Database"
   ]
  },
  {
   "cell_type": "markdown",
   "metadata": {},
   "source": [
    "The [Lahman Database](http://www.seanlahman.com/baseball-archive/statistics/) is a project run by journalist/author Sean Lahman. It includes complete statistics on Major League Baseball pitchers and batters from the late 1800s until the present day, as well as on managers, teams, salaries, and awards. All data is freely available in a variety of forms.\n",
    "\n",
    "We downloaded the comma-delimited version of the database which includes statistics through the end of the 2014 professional season. *Data for 2015 was not available at the time of the project.*\n",
    "\n",
    "We relied on two datasets in the Lahman Database: **Master.csv** and **Batting.csv**:\n",
    "\n",
    "**Batting.csv**: Contains year-by-year batting statistics on every MLB player since 1871. A selection is shown below. We used this dataset to compile a list of all batters who had plate appearances in the time period 2004 - 2014.\n",
    "\n",
    "![Batting.csv](Images/Batting.png)\n",
    "\n",
    "**Master.csv**: Contains summary information on MLB players, including their names, dates of birth, and IDs in other major databases. We used this dataset to gather the Retrosheet IDs (see below) for the batter chosen from the Batting.csv file.\n",
    "\n",
    "![Master.csv](Images/Master.png)\n",
    "\n"
   ]
  },
  {
   "cell_type": "code",
   "execution_count": 8,
   "metadata": {
    "collapsed": true
   },
   "outputs": [],
   "source": [
    "import numpy as np, matplotlib.pyplot as plt\n",
    "import pandas as pd\n",
    "import requests\n",
    "import time\n",
    "import json\n",
    "from bs4 import BeautifulSoup\n",
    "import sys\n",
    "from scipy import stats\n",
    "\n",
    "%matplotlib inline"
   ]
  },
  {
   "cell_type": "markdown",
   "metadata": {},
   "source": [
    "Load the Lahman database files"
   ]
  },
  {
   "cell_type": "code",
   "execution_count": 2,
   "metadata": {
    "collapsed": true
   },
   "outputs": [],
   "source": [
    "master = pd.read_csv('data/lahman/Master.csv')\n",
    "all_batting = pd.read_csv('data/lahman/Batting.csv')"
   ]
  },
  {
   "cell_type": "markdown",
   "metadata": {},
   "source": [
    "Develop a dataset of \"Modern\" batters, defined as those who had plate appearances from 2004 onwards"
   ]
  },
  {
   "cell_type": "code",
   "execution_count": 7,
   "metadata": {
    "collapsed": true
   },
   "outputs": [],
   "source": [
    "lah_to_retro = dict(zip(master['playerID'], master['retroID'])) #key=lahmanID, value=retroID\n",
    "retro_to_lah = dict(zip(master['retroID'], master['playerID'])) #reverse of above\n",
    "\n",
    "retro_ids = [lah_to_retro[name] for name in all_batting['playerID']] \n",
    "all_batting['retroID'] = retro_ids\n",
    "\n",
    "is_modern_batter = (all_batting['yearID'] >= 2004)\n",
    "batter_ids = np.unique(all_batting['retroID'][is_modern_batter]) #array of unique Retrosheet IDs\n",
    "\n",
    "modern_mask = np.array([name in batter_ids for name in all_batting['retroID']])\n",
    "batting = all_batting[modern_mask] #data frame with batting stats of \"modern\" batters"
   ]
  },
  {
   "cell_type": "markdown",
   "metadata": {},
   "source": [
    "How many unique batters appeared between 2004 and 2014?"
   ]
  },
  {
   "cell_type": "code",
   "execution_count": 4,
   "metadata": {
    "collapsed": false
   },
   "outputs": [
    {
     "data": {
      "text/plain": [
       "3561"
      ]
     },
     "execution_count": 4,
     "metadata": {},
     "output_type": "execute_result"
    }
   ],
   "source": [
    "len(batter_ids)"
   ]
  },
  {
   "cell_type": "markdown",
   "metadata": {},
   "source": [
    "##Retrosheet Databases\n",
    "\n",
    "The [Retrosheet](http://www.retrosheet.org/site.htm) \"Encyclopedia\" is a fantastic complement to the Lahman Database. It contains a huge assortment of statistics and other data which are difficult to find other places, such as individual game play-by-play records, records of player trades and signings, and even ejections. Players are identified with a unique ID, formatted as 5 lower-case letters and 3 numbers: \"abcde123\". The first four letters are the beginning of the player's *last name*, the fifth is the first letter of the player's *first name*, and the final 3 digits are used to separate repeat names. For example, [Sammy Sosa](https://en.wikipedia.org/wiki/Sammy_Sosa)'s ID is: \"sosas001\".\n",
    "\n",
    "###Batter-Pitcher Matchups\n",
    "\n",
    "Of most interest to us is the Retrosheet collection of batter-pitcher matchups. For all batters from 1940 onwards, Retrosheet has recorded their statistics (hits, plate appearances, strike-outs, etc.) against each pitcher they faced. This data will be at the heart of our analysis that follows. \n",
    "\n",
    "####Important Distinction:\n",
    "**The Retrosheet pages only include matchups where a batter had at last *4* plate appearances against a pitcher. So, totaling a player's statistics from the Retrosheet matchups will *NOT* equal their career totals as given by the Lahman Database.**\n",
    "\n",
    "Unfortunately, this data is not available in an easily-downloadable format. Instead, each batter has a unique HTML webpage with the statistics listed. The URLs for each player's webpage follows a standard format:\n",
    "\n",
    "http:<span></span>//www.retrosheet.org/boxesetc/**L**/MU0_**ID**.htm .\n",
    "\n",
    "Here, **L** is the player's Last Initial (capitalized), and **ID** is the player's Retrosheet ID. Pitchers also have matchup pages, which lists the statistics of all batters who faced them. These pages have an identical format, except for replacing \"MU0\" with \"MU1\". \n",
    "\n",
    "Here is a sample from the matchup page for Sammy Sosa (\"sosas001\", mentioned above): http://www.retrosheet.org/boxesetc/S/MU0_sosas001.htm\n",
    "\n",
    "![Sammy Sosa Matchup Page](Images/Sosa_Matchup.png)\n",
    "\n",
    "As shown in the source snippet, the actual data is organized in a fairly unstructured way, simply separated into many lines."
   ]
  },
  {
   "cell_type": "markdown",
   "metadata": {},
   "source": [
    "###Scraping the Retrosheet Pages\n",
    "\n",
    "From the Lahman Database, we have a list of Retrosheet IDs for all \"Modern\" batters. Using Python's [requests](http://docs.python-requests.org/en/latest/) package, we scrape the Retrosheet Matchup pages for all \"Modern\" batters, and use [BeautifulSoup](http://www.crummy.com/software/BeautifulSoup/bs4/doc/) to parse the webpages into useable data."
   ]
  },
  {
   "cell_type": "code",
   "execution_count": 9,
   "metadata": {
    "collapsed": true
   },
   "outputs": [],
   "source": [
    "def retro_url(retroID):\n",
    "    \"\"\"\n",
    "    Given a retroID (Retrosheet ID for a batter), return the formatted URL for that batter's matchup page.\n",
    "    \"\"\"\n",
    "    return 'http://www.retrosheet.org/boxesetc/%s/MU0_%s.htm'%(retroID[0].upper(), retroID)"
   ]
  },
  {
   "cell_type": "markdown",
   "metadata": {},
   "source": [
    "Using the list of \"Modern\" batters, scrape all the available Retrosheet matchup pages, and store the resulting text. For ~3000 batters, the process below takes around 10-15 minutes. **Note:** as discussed below, many of the \"Modern\" batters do not have Retrosheet matchup pages, so the request module returns a 404 error, which we account for."
   ]
  },
  {
   "cell_type": "code",
   "execution_count": 10,
   "metadata": {
    "collapsed": true
   },
   "outputs": [],
   "source": [
    "def scrape_pages(batter_ids, cache=True):\n",
    "    \"\"\"\n",
    "    Given a list of batter_ids, find all the retrosheet pitcher matchup pages for each batter.\n",
    "    Copy the text from each page, and store in dictionary keyed by batterID. Some batters may not be found,\n",
    "    so this also records those that are/aren't found.\n",
    "    \n",
    "    This process takes a long time, so it caches the results to disk throughout. Prints out the progress.\n",
    "        \n",
    "    input\n",
    "    --------\n",
    "    batter_ids: iterable list or array of retrosheet player IDs\n",
    "    \n",
    "    output\n",
    "    --------\n",
    "    batter_pages: dictionary of text for all matchup pages found, keyed by batterID\n",
    "    found: list of batterIDs for which matchup pages were found\n",
    "    not_found: list of batterIDs for which no matchup pages could be found\n",
    "    \"\"\"\n",
    "    \n",
    "    batter_pages = {} #key: retroID, value: text of matchup page\n",
    "    found = []\n",
    "    not_found = []\n",
    "    \n",
    "    for i, batter in enumerate(batter_ids):\n",
    "        time.sleep(.2) #Don't overload the Retrosheet servers\n",
    "        url = retro_url(batter)\n",
    "        if (i%100==0):\n",
    "            print('%d of %d'%(i, len(batter_ids)))\n",
    "            if cache:\n",
    "                f = open('data/batter_pages.json', 'w') #cache the results to disk as we go, in case this fails\n",
    "                json.dump(batter_pages, f)\n",
    "                f.close()\n",
    "        req=requests.get(url)\n",
    "        if req.status_code==200:\n",
    "            batter_pages[batter] = req.text\n",
    "            found.append(batter)\n",
    "        else: #Some batters with very few at bats will not have pages.\n",
    "            not_found.append(batter)\n",
    "    return batter_pages, found, not_found"
   ]
  },
  {
   "cell_type": "code",
   "execution_count": null,
   "metadata": {
    "collapsed": true
   },
   "outputs": [],
   "source": [
    "#%%time\n",
    "# batter_pages, found, not_found = scrape_pages(batter_ids)"
   ]
  },
  {
   "cell_type": "code",
   "execution_count": null,
   "metadata": {
    "collapsed": true
   },
   "outputs": [],
   "source": [
    "# #Store the results to disk\n",
    "# f = open('data/batter_pages.json', 'w')\n",
    "# json.dump(batter_pages, f)\n",
    "# f.close()\n",
    "\n",
    "# f = open('data/found.json', 'w')\n",
    "# json.dump(found, f)\n",
    "# f.close()\n",
    "\n",
    "# f = open('data/not_found.json', 'w')\n",
    "# json.dump(not_found, f)\n",
    "# f.close()"
   ]
  },
  {
   "cell_type": "markdown",
   "metadata": {},
   "source": [
    "We have stored the results to disk, so it can be easily reloaded without having to repeat the scraping process, which takes a long time"
   ]
  },
  {
   "cell_type": "code",
   "execution_count": 11,
   "metadata": {
    "collapsed": true
   },
   "outputs": [],
   "source": [
    "#Restore the results from disk\n",
    "with open(\"data/batter_pages.json\", \"r\") as f:\n",
    "    batter_pages = json.load(f)\n",
    "with open(\"data/found.json\", 'r') as f:\n",
    "    found = json.load(f)\n",
    "with open(\"data/not_found.json\", 'r') as f:\n",
    "    not_found = json.load(f)"
   ]
  },
  {
   "cell_type": "markdown",
   "metadata": {},
   "source": [
    "How many batters did we find matchup pages for? (All 3 values should be equal)"
   ]
  },
  {
   "cell_type": "code",
   "execution_count": 12,
   "metadata": {
    "collapsed": false
   },
   "outputs": [
    {
     "name": "stdout",
     "output_type": "stream",
     "text": [
      "1864 1864 1864\n"
     ]
    }
   ],
   "source": [
    "print len(batter_pages), len(found), len(batter_ids) - len(not_found)"
   ]
  },
  {
   "cell_type": "markdown",
   "metadata": {},
   "source": [
    "We found over 3500 players from the Lahman Database, but only around 1800 of them had pages on Retrosheet. Why did we miss so many players? Turns out that players with $N<100$ ABs may often not have a matchup page. Using the players' career totals from the Lahman Database:"
   ]
  },
  {
   "cell_type": "code",
   "execution_count": 33,
   "metadata": {
    "collapsed": true
   },
   "outputs": [],
   "source": [
    "ABs = batting.groupby('retroID')['AB'].sum() #Total statistics from the Lahman Database, for each \"Modern\" player\n",
    "AB_missed = np.array([ABs[name] for name in not_found])\n",
    "AB_found = np.array([ABs[name] for name in found])"
   ]
  },
  {
   "cell_type": "code",
   "execution_count": 34,
   "metadata": {
    "collapsed": false,
    "scrolled": true
   },
   "outputs": [
    {
     "data": {
      "text/plain": [
       "<matplotlib.legend.Legend at 0x119a28410>"
      ]
     },
     "execution_count": 34,
     "metadata": {},
     "output_type": "execute_result"
    },
    {
     "data": {
      "image/png": "[encoded data removed]",
      "text/plain": [
       "<matplotlib.figure.Figure at 0x10c6aa510>"
      ]
     },
     "metadata": {},
     "output_type": "display_data"
    }
   ],
   "source": [
    "#kde_ABs = stats.gaussian_kde(np.log10(ABs+1)) #make a KDE of density of log AB (+1 because many players with zero AB)\n",
    "kde_missed = stats.gaussian_kde(np.log10(AB_missed + 1))\n",
    "kde_found = stats.gaussian_kde(np.log10(AB_found+1))\n",
    "\n",
    "fig, axis = plt.subplots(figsize=(8,5))\n",
    "x = np.linspace(0, 5, 1000)\n",
    "#axis.plot(10**x, kde_found(x)+kde_missed(x), 'k-', label='All \\\"Modern\\\" Batters')\n",
    "axis.plot(10**x, kde_found(x), 'g-', label='Matchups Found')\n",
    "axis.plot(10**x, kde_missed(x), 'b-', label='Matchups Not Found')\n",
    "axis.set_xscale('log')\n",
    "axis.set_xlabel('Career At Bats', fontsize='x-large'), axis.set_ylabel('Relative Number of Players', fontsize='x-large')\n",
    "axis.set_title('MLB Batters Active 2004 and Later', fontsize='xx-large')\n",
    "axis.legend(loc=0)"
   ]
  },
  {
   "cell_type": "markdown",
   "metadata": {},
   "source": [
    "Ok. While there is a large population of players with missing matchup data, our sample is essentially 100% complete for batters who had at least 100 At Bats, who are the batters with enough statistics for us to concern ourselves with, anyways."
   ]
  },
  {
   "cell_type": "markdown",
   "metadata": {},
   "source": [
    "###Parse the Retrosheet HTML pages into a Matchup Dataframe"
   ]
  },
  {
   "cell_type": "markdown",
   "metadata": {},
   "source": [
    "The pipeline below will take the dictionary of HTML text from each webpage, and convert it into a list of matchup statistics. Each element of the list is a dictionary holding the statistics for one batter-pitcher matchup."
   ]
  },
  {
   "cell_type": "code",
   "execution_count": 38,
   "metadata": {
    "collapsed": true
   },
   "outputs": [],
   "source": [
    "def stats_parse(line):\n",
    "    \"\"\"\n",
    "    Takes a line, which is a length-15 list of statistics for each matchup:\n",
    "    R/L, AB, H, 2B, 3B, HR, BB, IBB, SO, HBP, SH, SF, AVG, OBP, SLG\n",
    "    \n",
    "    Returns a list with quantities: [AB, PA, H, TB, W, SO, SAC, RL]\n",
    "    AB: At Bats\n",
    "    PA: Plate Appearances (AB + W)\n",
    "    H: Hits\n",
    "    TB: Total Bases (H + 2*2B + 3*3B + 4*HR)\n",
    "    W: Walks (BB + IBB + HBP)\n",
    "    SO: Strike Outs\n",
    "    SAC: Sacrifices (SH + SF)\n",
    "    RL: Righty/Lefty pitcher\n",
    "    \"\"\"\n",
    "    RL = line[0] #R/L handed pitcher\n",
    "    AB = int(line[1]) #At Bats\n",
    "    H = int(line[2]) #Hits\n",
    "    TB = int(line[2]) + 2*int(line[3]) + 3*int(line[4]) + 4*int(line[5]) #Total Bases\n",
    "    W = int(line[6]) + int(line[7]) + int(line[9]) #Walks (BB + IBB + HBP)\n",
    "    PA = AB + W #Plate Appearances\n",
    "    SO = int(line[8]) #Strikeouts \n",
    "    SAC = int(line[10]) + int(line[11]) #Sacrifices\n",
    "    return [AB, PA, H, TB, W, SO, SAC, RL]\n",
    "\n",
    "def parse_pages(pages, batterIDs=None):\n",
    "    \"\"\"\n",
    "    Takes a dictionary pages with retroIDs of batters as keys,\n",
    "    and the text of that batter's Retrosheet matchup sheet as values.\n",
    "    Takes an optional array of retroIDs for batters.\n",
    "    \n",
    "    Returns a list of one dictionary for each batter-pitcher matchup, with fields:\n",
    "    pID: pitcher ID\n",
    "    bID: batter ID\n",
    "    matchID: matchup ID, formatted as bID_pID\n",
    "    AB: number of At Bats\n",
    "    PA: number of Plate Appearances\n",
    "    H: number of Hits\n",
    "    SLUG: slugging value (H + 2*2B + 3*3B + 4*HR)\n",
    "    W: number of Walks\n",
    "    SO: number of Strike Outs\n",
    "    SAC: number of Sac Flies and Sac Bunts\n",
    "    \"\"\"\n",
    "    matchup_list = []\n",
    "    \n",
    "    if batterIDs is None:\n",
    "        batterIDs = pages.keys()\n",
    "    \n",
    "    for batterID in batterIDs:\n",
    "        text = pages[batterID]\n",
    "        if text=='':\n",
    "            continue\n",
    "        soup = BeautifulSoup(pages[batterID], 'html.parser')\n",
    "        data = soup.find_all('pre')[2]\n",
    "        for i in np.arange(1, len(data.contents), 2):\n",
    "            pitcherID = data.contents[i].get('href').split('/')[-1].split('.')[0].lstrip('P') #8-char retroID\n",
    "            assert(len(pitcherID)==8)\n",
    "            stats = data.contents[i+1].split('\\n')[0].split() #list of stats values\n",
    "            assert(len(stats) == 15)\n",
    "            stats = stats_parse(stats)\n",
    "            fields = ['AB', 'PA', 'H', 'TB', 'W', 'SO', 'SAC', 'RL']\n",
    "            matchup = dict(zip(fields, stats))\n",
    "            matchup['pID'] = pitcherID\n",
    "            matchup['bID'] = batterID\n",
    "            matchup['matchID'] = '%s_%s'%(batterID, pitcherID)\n",
    "\n",
    "            matchup_list.append(matchup)\n",
    "    return matchup_list"
   ]
  },
  {
   "cell_type": "code",
   "execution_count": 40,
   "metadata": {
    "collapsed": false
   },
   "outputs": [
    {
     "name": "stdout",
     "output_type": "stream",
     "text": [
      "CPU times: user 27.7 s, sys: 430 ms, total: 28.1 s\n",
      "Wall time: 28.3 s\n"
     ]
    }
   ],
   "source": [
    "# %%time\n",
    "# matchup_list = parse_pages(batter_pages)"
   ]
  },
  {
   "cell_type": "markdown",
   "metadata": {},
   "source": [
    "How many total matchups found?"
   ]
  },
  {
   "cell_type": "code",
   "execution_count": 41,
   "metadata": {
    "collapsed": false,
    "scrolled": true
   },
   "outputs": [
    {
     "data": {
      "text/plain": [
       "248420"
      ]
     },
     "execution_count": 41,
     "metadata": {},
     "output_type": "execute_result"
    }
   ],
   "source": [
    "len(matchup_list)"
   ]
  },
  {
   "cell_type": "markdown",
   "metadata": {},
   "source": [
    "Store and reload the results for later use."
   ]
  },
  {
   "cell_type": "code",
   "execution_count": 42,
   "metadata": {
    "collapsed": true
   },
   "outputs": [],
   "source": [
    "f = open('data/matchups_2004.json', 'w')\n",
    "json.dump(matchup_list, f)\n",
    "f.close()"
   ]
  },
  {
   "cell_type": "markdown",
   "metadata": {},
   "source": [
    "This step processes the list of matchups into a Pandas Dataframe."
   ]
  },
  {
   "cell_type": "code",
   "execution_count": 57,
   "metadata": {
    "collapsed": false,
    "scrolled": true
   },
   "outputs": [],
   "source": [
    "matchup_df = pd.read_json(\"data/matchups_2004.json\")"
   ]
  },
  {
   "cell_type": "markdown",
   "metadata": {},
   "source": [
    "##Calculate more matchup-specific and player-total statistics"
   ]
  },
  {
   "cell_type": "code",
   "execution_count": 58,
   "metadata": {
    "collapsed": false,
    "scrolled": true
   },
   "outputs": [
    {
     "data": {
      "text/html": [
       "<div>\n",
       "<table border=\"1\" class=\"dataframe\">\n",
       "  <thead>\n",
       "    <tr style=\"text-align: right;\">\n",
       "      <th></th>\n",
       "      <th>AB</th>\n",
       "      <th>H</th>\n",
       "      <th>PA</th>\n",
       "      <th>RL</th>\n",
       "      <th>SAC</th>\n",
       "      <th>SO</th>\n",
       "      <th>TB</th>\n",
       "      <th>W</th>\n",
       "      <th>bID</th>\n",
       "      <th>matchID</th>\n",
       "      <th>pID</th>\n",
       "      <th>AVG</th>\n",
       "      <th>OBP</th>\n",
       "    </tr>\n",
       "  </thead>\n",
       "  <tbody>\n",
       "    <tr>\n",
       "      <th>0</th>\n",
       "      <td>5</td>\n",
       "      <td>1</td>\n",
       "      <td>5</td>\n",
       "      <td>R</td>\n",
       "      <td>0</td>\n",
       "      <td>2</td>\n",
       "      <td>1</td>\n",
       "      <td>0</td>\n",
       "      <td>torrc001</td>\n",
       "      <td>torrc001_medlk001</td>\n",
       "      <td>medlk001</td>\n",
       "      <td>0.200000</td>\n",
       "      <td>0.200000</td>\n",
       "    </tr>\n",
       "    <tr>\n",
       "      <th>1</th>\n",
       "      <td>3</td>\n",
       "      <td>0</td>\n",
       "      <td>3</td>\n",
       "      <td>L</td>\n",
       "      <td>1</td>\n",
       "      <td>2</td>\n",
       "      <td>0</td>\n",
       "      <td>0</td>\n",
       "      <td>kinnm002</td>\n",
       "      <td>kinnm002_leita001</td>\n",
       "      <td>leita001</td>\n",
       "      <td>0.000000</td>\n",
       "      <td>0.000000</td>\n",
       "    </tr>\n",
       "    <tr>\n",
       "      <th>2</th>\n",
       "      <td>6</td>\n",
       "      <td>0</td>\n",
       "      <td>6</td>\n",
       "      <td>R</td>\n",
       "      <td>0</td>\n",
       "      <td>0</td>\n",
       "      <td>0</td>\n",
       "      <td>0</td>\n",
       "      <td>telit001</td>\n",
       "      <td>telit001_felds001</td>\n",
       "      <td>felds001</td>\n",
       "      <td>0.000000</td>\n",
       "      <td>0.000000</td>\n",
       "    </tr>\n",
       "    <tr>\n",
       "      <th>3</th>\n",
       "      <td>6</td>\n",
       "      <td>2</td>\n",
       "      <td>6</td>\n",
       "      <td>R</td>\n",
       "      <td>0</td>\n",
       "      <td>2</td>\n",
       "      <td>4</td>\n",
       "      <td>0</td>\n",
       "      <td>telit001</td>\n",
       "      <td>telit001_grays001</td>\n",
       "      <td>grays001</td>\n",
       "      <td>0.333333</td>\n",
       "      <td>0.333333</td>\n",
       "    </tr>\n",
       "    <tr>\n",
       "      <th>4</th>\n",
       "      <td>3</td>\n",
       "      <td>0</td>\n",
       "      <td>4</td>\n",
       "      <td>R</td>\n",
       "      <td>2</td>\n",
       "      <td>3</td>\n",
       "      <td>0</td>\n",
       "      <td>1</td>\n",
       "      <td>schic002</td>\n",
       "      <td>schic002_adamt001</td>\n",
       "      <td>adamt001</td>\n",
       "      <td>0.000000</td>\n",
       "      <td>0.250000</td>\n",
       "    </tr>\n",
       "  </tbody>\n",
       "</table>\n",
       "</div>"
      ],
      "text/plain": [
       "   AB  H  PA RL  SAC  SO  TB  W       bID            matchID       pID  \\\n",
       "0   5  1   5  R    0   2   1  0  torrc001  torrc001_medlk001  medlk001   \n",
       "1   3  0   3  L    1   2   0  0  kinnm002  kinnm002_leita001  leita001   \n",
       "2   6  0   6  R    0   0   0  0  telit001  telit001_felds001  felds001   \n",
       "3   6  2   6  R    0   2   4  0  telit001  telit001_grays001  grays001   \n",
       "4   3  0   4  R    2   3   0  1  schic002  schic002_adamt001  adamt001   \n",
       "\n",
       "        AVG       OBP  \n",
       "0  0.200000  0.200000  \n",
       "1  0.000000  0.000000  \n",
       "2  0.000000  0.000000  \n",
       "3  0.333333  0.333333  \n",
       "4  0.000000  0.250000  "
      ]
     },
     "execution_count": 58,
     "metadata": {},
     "output_type": "execute_result"
    }
   ],
   "source": [
    "#Matchup-specific totals\n",
    "matchup_df['AVG'] = matchup_df['H']/matchup_df['AB']\n",
    "matchup_df['OBP'] = (matchup_df['H'] + matchup_df['W'])/matchup_df['PA']\n",
    "matchup_df.head()"
   ]
  },
  {
   "cell_type": "markdown",
   "metadata": {},
   "source": [
    "Overall averages are totalled by batter (\"ov\\_\") and by pitcher (\"ovp\\_\")"
   ]
  },
  {
   "cell_type": "code",
   "execution_count": 60,
   "metadata": {
    "collapsed": false
   },
   "outputs": [
    {
     "data": {
      "text/html": [
       "<div>\n",
       "<table border=\"1\" class=\"dataframe\">\n",
       "  <thead>\n",
       "    <tr style=\"text-align: right;\">\n",
       "      <th></th>\n",
       "      <th>bID</th>\n",
       "      <th>ov_AB</th>\n",
       "      <th>ov_H</th>\n",
       "      <th>ov_PA</th>\n",
       "      <th>ov_SAC</th>\n",
       "      <th>ov_SO</th>\n",
       "      <th>ov_TB</th>\n",
       "      <th>ov_W</th>\n",
       "      <th>ov_AVG</th>\n",
       "      <th>ov_OBP</th>\n",
       "      <th>ov_FACED</th>\n",
       "      <th>ov_SO_PCT</th>\n",
       "      <th>ov_W_PCT</th>\n",
       "      <th>ov_H_PCT</th>\n",
       "    </tr>\n",
       "  </thead>\n",
       "  <tbody>\n",
       "    <tr>\n",
       "      <th>0</th>\n",
       "      <td>abada001</td>\n",
       "      <td>7</td>\n",
       "      <td>1</td>\n",
       "      <td>8</td>\n",
       "      <td>0</td>\n",
       "      <td>1</td>\n",
       "      <td>1</td>\n",
       "      <td>1</td>\n",
       "      <td>0.142857</td>\n",
       "      <td>0.250000</td>\n",
       "      <td>2</td>\n",
       "      <td>0.125000</td>\n",
       "      <td>0.125000</td>\n",
       "      <td>0.125000</td>\n",
       "    </tr>\n",
       "    <tr>\n",
       "      <th>1</th>\n",
       "      <td>abbop001</td>\n",
       "      <td>4</td>\n",
       "      <td>0</td>\n",
       "      <td>4</td>\n",
       "      <td>0</td>\n",
       "      <td>1</td>\n",
       "      <td>0</td>\n",
       "      <td>0</td>\n",
       "      <td>0.000000</td>\n",
       "      <td>0.000000</td>\n",
       "      <td>1</td>\n",
       "      <td>0.250000</td>\n",
       "      <td>0.000000</td>\n",
       "      <td>0.000000</td>\n",
       "    </tr>\n",
       "    <tr>\n",
       "      <th>2</th>\n",
       "      <td>aberb001</td>\n",
       "      <td>621</td>\n",
       "      <td>148</td>\n",
       "      <td>664</td>\n",
       "      <td>9</td>\n",
       "      <td>70</td>\n",
       "      <td>231</td>\n",
       "      <td>43</td>\n",
       "      <td>0.238325</td>\n",
       "      <td>0.287651</td>\n",
       "      <td>85</td>\n",
       "      <td>0.105422</td>\n",
       "      <td>0.064759</td>\n",
       "      <td>0.222892</td>\n",
       "    </tr>\n",
       "    <tr>\n",
       "      <th>3</th>\n",
       "      <td>aberr001</td>\n",
       "      <td>145</td>\n",
       "      <td>45</td>\n",
       "      <td>153</td>\n",
       "      <td>1</td>\n",
       "      <td>30</td>\n",
       "      <td>84</td>\n",
       "      <td>8</td>\n",
       "      <td>0.310345</td>\n",
       "      <td>0.346405</td>\n",
       "      <td>29</td>\n",
       "      <td>0.196078</td>\n",
       "      <td>0.052288</td>\n",
       "      <td>0.294118</td>\n",
       "    </tr>\n",
       "    <tr>\n",
       "      <th>4</th>\n",
       "      <td>abreb001</td>\n",
       "      <td>7568</td>\n",
       "      <td>2193</td>\n",
       "      <td>8980</td>\n",
       "      <td>74</td>\n",
       "      <td>1659</td>\n",
       "      <td>4418</td>\n",
       "      <td>1412</td>\n",
       "      <td>0.289773</td>\n",
       "      <td>0.401448</td>\n",
       "      <td>684</td>\n",
       "      <td>0.184744</td>\n",
       "      <td>0.157238</td>\n",
       "      <td>0.244209</td>\n",
       "    </tr>\n",
       "  </tbody>\n",
       "</table>\n",
       "</div>"
      ],
      "text/plain": [
       "        bID  ov_AB  ov_H  ov_PA  ov_SAC  ov_SO  ov_TB  ov_W    ov_AVG  \\\n",
       "0  abada001      7     1      8       0      1      1     1  0.142857   \n",
       "1  abbop001      4     0      4       0      1      0     0  0.000000   \n",
       "2  aberb001    621   148    664       9     70    231    43  0.238325   \n",
       "3  aberr001    145    45    153       1     30     84     8  0.310345   \n",
       "4  abreb001   7568  2193   8980      74   1659   4418  1412  0.289773   \n",
       "\n",
       "     ov_OBP  ov_FACED  ov_SO_PCT  ov_W_PCT  ov_H_PCT  \n",
       "0  0.250000         2   0.125000  0.125000  0.125000  \n",
       "1  0.000000         1   0.250000  0.000000  0.000000  \n",
       "2  0.287651        85   0.105422  0.064759  0.222892  \n",
       "3  0.346405        29   0.196078  0.052288  0.294118  \n",
       "4  0.401448       684   0.184744  0.157238  0.244209  "
      ]
     },
     "execution_count": 60,
     "metadata": {},
     "output_type": "execute_result"
    }
   ],
   "source": [
    "batter_sums = matchup_df.groupby('bID').sum() #by-batter totals for H, AB, etc.\n",
    "batter_matchups = matchup_df.groupby('bID')['AB'].count() #Number of pitchers seen by each player\n",
    "batter_sums['FACED'] = batter_matchups\n",
    "#Gives the overall average and OBP of batters\n",
    "batter_sums['AVG'] = batter_sums['H']/batter_sums['AB']\n",
    "batter_sums['OBP'] = (batter_sums['H'] + batter_sums['W'])/batter_sums['PA']\n",
    "batter_sums['SO_PCT'] = batter_sums['SO']/batter_sums['PA']\n",
    "batter_sums['W_PCT'] = batter_sums['W']/batter_sums['PA']\n",
    "batter_sums['H_PCT'] = batter_sums['H']/batter_sums['PA']\n",
    "\n",
    "batter_df = pd.DataFrame(batter_sums).reset_index()\n",
    "rename = dict(zip(batter_df.columns, 'ov_'+batter_df.columns))\n",
    "rename['bID'] = 'bID'\n",
    "batter_df.rename(columns=rename, inplace=True)\n",
    "\n",
    "batter_df.head()"
   ]
  },
  {
   "cell_type": "code",
   "execution_count": 62,
   "metadata": {
    "collapsed": false,
    "scrolled": false
   },
   "outputs": [
    {
     "data": {
      "text/html": [
       "<div>\n",
       "<table border=\"1\" class=\"dataframe\">\n",
       "  <thead>\n",
       "    <tr style=\"text-align: right;\">\n",
       "      <th></th>\n",
       "      <th>pID</th>\n",
       "      <th>ovp_AB</th>\n",
       "      <th>ovp_H</th>\n",
       "      <th>ovp_PA</th>\n",
       "      <th>ovp_SAC</th>\n",
       "      <th>ovp_SO</th>\n",
       "      <th>ovp_TB</th>\n",
       "      <th>ovp_W</th>\n",
       "      <th>ovp_AVG</th>\n",
       "      <th>ovp_OBP</th>\n",
       "      <th>ovp_FACED</th>\n",
       "      <th>ovp_SO_PCT</th>\n",
       "      <th>ovp_W_PCT</th>\n",
       "      <th>ovp_H_PCT</th>\n",
       "    </tr>\n",
       "  </thead>\n",
       "  <tbody>\n",
       "    <tr>\n",
       "      <th>0</th>\n",
       "      <td>aardd001</td>\n",
       "      <td>564</td>\n",
       "      <td>131</td>\n",
       "      <td>662</td>\n",
       "      <td>11</td>\n",
       "      <td>142</td>\n",
       "      <td>261</td>\n",
       "      <td>98</td>\n",
       "      <td>0.232270</td>\n",
       "      <td>0.345921</td>\n",
       "      <td>119</td>\n",
       "      <td>0.214502</td>\n",
       "      <td>0.148036</td>\n",
       "      <td>0.197885</td>\n",
       "    </tr>\n",
       "    <tr>\n",
       "      <th>1</th>\n",
       "      <td>aased001</td>\n",
       "      <td>27</td>\n",
       "      <td>6</td>\n",
       "      <td>33</td>\n",
       "      <td>1</td>\n",
       "      <td>5</td>\n",
       "      <td>10</td>\n",
       "      <td>6</td>\n",
       "      <td>0.222222</td>\n",
       "      <td>0.363636</td>\n",
       "      <td>6</td>\n",
       "      <td>0.151515</td>\n",
       "      <td>0.181818</td>\n",
       "      <td>0.181818</td>\n",
       "    </tr>\n",
       "    <tr>\n",
       "      <th>2</th>\n",
       "      <td>abadf001</td>\n",
       "      <td>259</td>\n",
       "      <td>70</td>\n",
       "      <td>282</td>\n",
       "      <td>1</td>\n",
       "      <td>51</td>\n",
       "      <td>116</td>\n",
       "      <td>23</td>\n",
       "      <td>0.270270</td>\n",
       "      <td>0.329787</td>\n",
       "      <td>58</td>\n",
       "      <td>0.180851</td>\n",
       "      <td>0.081560</td>\n",
       "      <td>0.248227</td>\n",
       "    </tr>\n",
       "    <tr>\n",
       "      <th>3</th>\n",
       "      <td>abbog001</td>\n",
       "      <td>10</td>\n",
       "      <td>1</td>\n",
       "      <td>12</td>\n",
       "      <td>0</td>\n",
       "      <td>0</td>\n",
       "      <td>1</td>\n",
       "      <td>2</td>\n",
       "      <td>0.100000</td>\n",
       "      <td>0.250000</td>\n",
       "      <td>1</td>\n",
       "      <td>0.000000</td>\n",
       "      <td>0.166667</td>\n",
       "      <td>0.083333</td>\n",
       "    </tr>\n",
       "    <tr>\n",
       "      <th>4</th>\n",
       "      <td>abboj001</td>\n",
       "      <td>1225</td>\n",
       "      <td>364</td>\n",
       "      <td>1352</td>\n",
       "      <td>20</td>\n",
       "      <td>132</td>\n",
       "      <td>662</td>\n",
       "      <td>127</td>\n",
       "      <td>0.297143</td>\n",
       "      <td>0.363166</td>\n",
       "      <td>79</td>\n",
       "      <td>0.097633</td>\n",
       "      <td>0.093935</td>\n",
       "      <td>0.269231</td>\n",
       "    </tr>\n",
       "  </tbody>\n",
       "</table>\n",
       "</div>"
      ],
      "text/plain": [
       "        pID  ovp_AB  ovp_H  ovp_PA  ovp_SAC  ovp_SO  ovp_TB  ovp_W   ovp_AVG  \\\n",
       "0  aardd001     564    131     662       11     142     261     98  0.232270   \n",
       "1  aased001      27      6      33        1       5      10      6  0.222222   \n",
       "2  abadf001     259     70     282        1      51     116     23  0.270270   \n",
       "3  abbog001      10      1      12        0       0       1      2  0.100000   \n",
       "4  abboj001    1225    364    1352       20     132     662    127  0.297143   \n",
       "\n",
       "    ovp_OBP  ovp_FACED  ovp_SO_PCT  ovp_W_PCT  ovp_H_PCT  \n",
       "0  0.345921        119    0.214502   0.148036   0.197885  \n",
       "1  0.363636          6    0.151515   0.181818   0.181818  \n",
       "2  0.329787         58    0.180851   0.081560   0.248227  \n",
       "3  0.250000          1    0.000000   0.166667   0.083333  \n",
       "4  0.363166         79    0.097633   0.093935   0.269231  "
      ]
     },
     "execution_count": 62,
     "metadata": {},
     "output_type": "execute_result"
    }
   ],
   "source": [
    "pitcher_sums=matchup_df.groupby('pID').sum()\n",
    "pitcher_matchups = matchup_df.groupby('pID')['AB'].count()\n",
    "pitcher_sums['FACED'] = pitcher_matchups\n",
    "#Gives the overall strike out, walk and hit percentage of pitchers\n",
    "pitcher_sums['SO_PCT'] = pitcher_sums['SO']/pitcher_sums['PA']\n",
    "pitcher_sums['W_PCT'] = pitcher_sums['W']/pitcher_sums['PA']\n",
    "pitcher_sums['H_PCT'] = pitcher_sums['H']/pitcher_sums['PA']\n",
    "pitcher_sums['AVG'] = pitcher_sums['H']/pitcher_sums['AB']\n",
    "pitcher_sums['OBP'] = pitcher_sums['W_PCT']+pitcher_sums['H_PCT']\n",
    "\n",
    "pitcher_df = pd.DataFrame(pitcher_sums).reset_index()\n",
    "rename = dict(zip(pitcher_df.columns, 'ovp_'+pitcher_df.columns))\n",
    "rename['pID'] = 'pID'\n",
    "pitcher_df.rename(columns=rename, inplace=True)\n",
    "\n",
    "pitcher_df.head()"
   ]
  },
  {
   "cell_type": "markdown",
   "metadata": {},
   "source": [
    "The new matchup Dataframe is as follows. Each matchup is represented by one row, and each row has both the matchup-specific stats (like \"AB\", \"H\", etc.) as well as the overall totals for the batter (\"ov_AB\", \"ov_SO\", etc.) and for the pitcher (\"ovp_AB\", 'ovp_SO\", etc.).\n",
    "\n",
    "Note that these \"totals\" are calculated as the totals for all listed matchups (PA >~ 4), so these total stats will be slightly different than the career totals from the Lahman Database "
   ]
  },
  {
   "cell_type": "code",
   "execution_count": 63,
   "metadata": {
    "collapsed": false
   },
   "outputs": [
    {
     "data": {
      "text/html": [
       "<div>\n",
       "<table border=\"1\" class=\"dataframe\">\n",
       "  <thead>\n",
       "    <tr style=\"text-align: right;\">\n",
       "      <th></th>\n",
       "      <th>AB</th>\n",
       "      <th>H</th>\n",
       "      <th>PA</th>\n",
       "      <th>RL</th>\n",
       "      <th>SAC</th>\n",
       "      <th>SO</th>\n",
       "      <th>TB</th>\n",
       "      <th>W</th>\n",
       "      <th>bID</th>\n",
       "      <th>matchID</th>\n",
       "      <th>...</th>\n",
       "      <th>ovp_SAC</th>\n",
       "      <th>ovp_SO</th>\n",
       "      <th>ovp_TB</th>\n",
       "      <th>ovp_W</th>\n",
       "      <th>ovp_AVG</th>\n",
       "      <th>ovp_OBP</th>\n",
       "      <th>ovp_FACED</th>\n",
       "      <th>ovp_SO_PCT</th>\n",
       "      <th>ovp_W_PCT</th>\n",
       "      <th>ovp_H_PCT</th>\n",
       "    </tr>\n",
       "  </thead>\n",
       "  <tbody>\n",
       "    <tr>\n",
       "      <th>0</th>\n",
       "      <td>5</td>\n",
       "      <td>1</td>\n",
       "      <td>5</td>\n",
       "      <td>R</td>\n",
       "      <td>0</td>\n",
       "      <td>2</td>\n",
       "      <td>1</td>\n",
       "      <td>0</td>\n",
       "      <td>torrc001</td>\n",
       "      <td>torrc001_medlk001</td>\n",
       "      <td>...</td>\n",
       "      <td>13</td>\n",
       "      <td>297</td>\n",
       "      <td>674</td>\n",
       "      <td>97</td>\n",
       "      <td>0.254093</td>\n",
       "      <td>0.302264</td>\n",
       "      <td>188</td>\n",
       "      <td>0.197736</td>\n",
       "      <td>0.064581</td>\n",
       "      <td>0.237683</td>\n",
       "    </tr>\n",
       "    <tr>\n",
       "      <th>1</th>\n",
       "      <td>3</td>\n",
       "      <td>0</td>\n",
       "      <td>3</td>\n",
       "      <td>L</td>\n",
       "      <td>1</td>\n",
       "      <td>2</td>\n",
       "      <td>0</td>\n",
       "      <td>0</td>\n",
       "      <td>kinnm002</td>\n",
       "      <td>kinnm002_leita001</td>\n",
       "      <td>...</td>\n",
       "      <td>91</td>\n",
       "      <td>1023</td>\n",
       "      <td>2335</td>\n",
       "      <td>762</td>\n",
       "      <td>0.251296</td>\n",
       "      <td>0.350069</td>\n",
       "      <td>356</td>\n",
       "      <td>0.177112</td>\n",
       "      <td>0.131925</td>\n",
       "      <td>0.218144</td>\n",
       "    </tr>\n",
       "    <tr>\n",
       "      <th>2</th>\n",
       "      <td>6</td>\n",
       "      <td>0</td>\n",
       "      <td>6</td>\n",
       "      <td>R</td>\n",
       "      <td>0</td>\n",
       "      <td>0</td>\n",
       "      <td>0</td>\n",
       "      <td>0</td>\n",
       "      <td>telit001</td>\n",
       "      <td>telit001_felds001</td>\n",
       "      <td>...</td>\n",
       "      <td>53</td>\n",
       "      <td>556</td>\n",
       "      <td>1835</td>\n",
       "      <td>383</td>\n",
       "      <td>0.271793</td>\n",
       "      <td>0.341782</td>\n",
       "      <td>347</td>\n",
       "      <td>0.139523</td>\n",
       "      <td>0.096110</td>\n",
       "      <td>0.245671</td>\n",
       "    </tr>\n",
       "    <tr>\n",
       "      <th>3</th>\n",
       "      <td>6</td>\n",
       "      <td>2</td>\n",
       "      <td>6</td>\n",
       "      <td>R</td>\n",
       "      <td>0</td>\n",
       "      <td>2</td>\n",
       "      <td>4</td>\n",
       "      <td>0</td>\n",
       "      <td>telit001</td>\n",
       "      <td>telit001_grays001</td>\n",
       "      <td>...</td>\n",
       "      <td>9</td>\n",
       "      <td>189</td>\n",
       "      <td>289</td>\n",
       "      <td>71</td>\n",
       "      <td>0.223203</td>\n",
       "      <td>0.287037</td>\n",
       "      <td>110</td>\n",
       "      <td>0.218750</td>\n",
       "      <td>0.082176</td>\n",
       "      <td>0.204861</td>\n",
       "    </tr>\n",
       "    <tr>\n",
       "      <th>4</th>\n",
       "      <td>3</td>\n",
       "      <td>0</td>\n",
       "      <td>4</td>\n",
       "      <td>R</td>\n",
       "      <td>2</td>\n",
       "      <td>3</td>\n",
       "      <td>0</td>\n",
       "      <td>1</td>\n",
       "      <td>schic002</td>\n",
       "      <td>schic002_adamt001</td>\n",
       "      <td>...</td>\n",
       "      <td>34</td>\n",
       "      <td>399</td>\n",
       "      <td>937</td>\n",
       "      <td>270</td>\n",
       "      <td>0.272640</td>\n",
       "      <td>0.356351</td>\n",
       "      <td>243</td>\n",
       "      <td>0.170077</td>\n",
       "      <td>0.115090</td>\n",
       "      <td>0.241262</td>\n",
       "    </tr>\n",
       "  </tbody>\n",
       "</table>\n",
       "<p>5 rows × 39 columns</p>\n",
       "</div>"
      ],
      "text/plain": [
       "   AB  H  PA RL  SAC  SO  TB  W       bID            matchID    ...      \\\n",
       "0   5  1   5  R    0   2   1  0  torrc001  torrc001_medlk001    ...       \n",
       "1   3  0   3  L    1   2   0  0  kinnm002  kinnm002_leita001    ...       \n",
       "2   6  0   6  R    0   0   0  0  telit001  telit001_felds001    ...       \n",
       "3   6  2   6  R    0   2   4  0  telit001  telit001_grays001    ...       \n",
       "4   3  0   4  R    2   3   0  1  schic002  schic002_adamt001    ...       \n",
       "\n",
       "  ovp_SAC  ovp_SO  ovp_TB  ovp_W   ovp_AVG   ovp_OBP  ovp_FACED  ovp_SO_PCT  \\\n",
       "0      13     297     674     97  0.254093  0.302264        188    0.197736   \n",
       "1      91    1023    2335    762  0.251296  0.350069        356    0.177112   \n",
       "2      53     556    1835    383  0.271793  0.341782        347    0.139523   \n",
       "3       9     189     289     71  0.223203  0.287037        110    0.218750   \n",
       "4      34     399     937    270  0.272640  0.356351        243    0.170077   \n",
       "\n",
       "   ovp_W_PCT  ovp_H_PCT  \n",
       "0   0.064581   0.237683  \n",
       "1   0.131925   0.218144  \n",
       "2   0.096110   0.245671  \n",
       "3   0.082176   0.204861  \n",
       "4   0.115090   0.241262  \n",
       "\n",
       "[5 rows x 39 columns]"
      ]
     },
     "execution_count": 63,
     "metadata": {},
     "output_type": "execute_result"
    }
   ],
   "source": [
    "new_matchup_df = matchup_df.copy()\n",
    "for df in [batter_df, pitcher_df]:\n",
    "    new_matchup_df = new_matchup_df.merge(df, how='left')\n",
    "    \n",
    "new_matchup_df.head()"
   ]
  },
  {
   "cell_type": "code",
   "execution_count": null,
   "metadata": {
    "collapsed": true
   },
   "outputs": [],
   "source": [
    "new_matchup_df.to_csv(\"temp_matchupdf.csv\", index=False)"
   ]
  },
  {
   "cell_type": "markdown",
   "metadata": {},
   "source": [
    "#2. Exploratory Data Analysis"
   ]
  },
  {
   "cell_type": "code",
   "execution_count": null,
   "metadata": {
    "collapsed": true
   },
   "outputs": [],
   "source": []
  },
  {
   "cell_type": "code",
   "execution_count": null,
   "metadata": {
    "collapsed": true
   },
   "outputs": [],
   "source": []
  },
  {
   "cell_type": "code",
   "execution_count": null,
   "metadata": {
    "collapsed": true
   },
   "outputs": [],
   "source": []
  },
  {
   "cell_type": "markdown",
   "metadata": {},
   "source": [
    "#3. Baseline Model"
   ]
  },
  {
   "cell_type": "code",
   "execution_count": null,
   "metadata": {
    "collapsed": true
   },
   "outputs": [],
   "source": []
  },
  {
   "cell_type": "code",
   "execution_count": null,
   "metadata": {
    "collapsed": true
   },
   "outputs": [],
   "source": []
  },
  {
   "cell_type": "code",
   "execution_count": null,
   "metadata": {
    "collapsed": true
   },
   "outputs": [],
   "source": []
  },
  {
   "cell_type": "markdown",
   "metadata": {},
   "source": [
    "#4. Collaborative Filtering with KNN"
   ]
  },
  {
   "cell_type": "code",
   "execution_count": null,
   "metadata": {
    "collapsed": true
   },
   "outputs": [],
   "source": []
  },
  {
   "cell_type": "code",
   "execution_count": null,
   "metadata": {
    "collapsed": true
   },
   "outputs": [],
   "source": []
  },
  {
   "cell_type": "code",
   "execution_count": null,
   "metadata": {
    "collapsed": true
   },
   "outputs": [],
   "source": []
  },
  {
   "cell_type": "markdown",
   "metadata": {},
   "source": [
    "#5. Ridge Regression"
   ]
  },
  {
   "cell_type": "code",
   "execution_count": null,
   "metadata": {
    "collapsed": true
   },
   "outputs": [],
   "source": []
  },
  {
   "cell_type": "code",
   "execution_count": null,
   "metadata": {
    "collapsed": true
   },
   "outputs": [],
   "source": []
  },
  {
   "cell_type": "code",
   "execution_count": null,
   "metadata": {
    "collapsed": true
   },
   "outputs": [],
   "source": []
  },
  {
   "cell_type": "markdown",
   "metadata": {},
   "source": [
    "#6. Conclusions and Continuations"
   ]
  },
  {
   "cell_type": "code",
   "execution_count": null,
   "metadata": {
    "collapsed": true
   },
   "outputs": [],
   "source": []
  }
 ],
 "metadata": {
  "kernelspec": {
   "display_name": "Python 2",
   "language": "python",
   "name": "python2"
  },
  "language_info": {
   "codemirror_mode": {
    "name": "ipython",
    "version": 2
   },
   "file_extension": ".py",
   "mimetype": "text/x-python",
   "name": "python",
   "nbconvert_exporter": "python",
   "pygments_lexer": "ipython2",
   "version": "2.7.10"
  }
 },
 "nbformat": 4,
 "nbformat_minor": 0
}
