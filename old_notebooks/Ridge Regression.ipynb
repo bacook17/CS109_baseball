{
 "cells": [
  {
   "cell_type": "code",
   "execution_count": 9,
   "metadata": {
    "collapsed": false
   },
   "outputs": [],
   "source": [
    "%matplotlib inline\n",
    "import numpy as np\n",
    "import scipy as sp\n",
    "import matplotlib as mpl\n",
    "import matplotlib.cm as cm\n",
    "import matplotlib.pyplot as plt\n",
    "import pandas as pd\n",
    "pd.set_option('display.width', 500)\n",
    "pd.set_option('display.max_columns', 100)\n",
    "pd.set_option('display.notebook_repr_html', True)\n",
    "import seaborn as sns\n",
    "sns.set_style(\"whitegrid\")\n",
    "sns.set_context(\"poster\")\n",
    "from sklearn.cross_validation import *\n",
    "from sklearn.grid_search import GridSearchCV\n",
    "from scipy import stats\n",
    "from sklearn.linear_model import Ridge\n"
   ]
  },
  {
   "cell_type": "markdown",
   "metadata": {},
   "source": [
    "#New Small DF"
   ]
  },
  {
   "cell_type": "code",
   "execution_count": 2,
   "metadata": {
    "collapsed": false
   },
   "outputs": [],
   "source": [
    "matchup_df = pd.read_csv(\"temp_matchupdf.csv\")"
   ]
  },
  {
   "cell_type": "code",
   "execution_count": 3,
   "metadata": {
    "collapsed": false
   },
   "outputs": [],
   "source": [
    "dftouse=matchup_df.copy()"
   ]
  },
  {
   "cell_type": "code",
   "execution_count": 4,
   "metadata": {
    "collapsed": false
   },
   "outputs": [
    {
     "data": {
      "text/plain": [
       "AB              int64\n",
       "H               int64\n",
       "PA              int64\n",
       "RL             object\n",
       "SAC             int64\n",
       "SO              int64\n",
       "TB              int64\n",
       "W               int64\n",
       "bID            object\n",
       "matchID        object\n",
       "pID            object\n",
       "AVG           float64\n",
       "OBP           float64\n",
       "ov_AB           int64\n",
       "ov_H            int64\n",
       "ov_PA           int64\n",
       "ov_SAC          int64\n",
       "ov_SO           int64\n",
       "ov_TB           int64\n",
       "ov_W            int64\n",
       "ov_FACED        int64\n",
       "ov_AVG        float64\n",
       "ov_OBP        float64\n",
       "ov_SO_PCT     float64\n",
       "ov_W_PCT      float64\n",
       "ov_H_PCT      float64\n",
       "ovp_AB          int64\n",
       "ovp_H           int64\n",
       "ovp_PA          int64\n",
       "ovp_SAC         int64\n",
       "ovp_SO          int64\n",
       "ovp_TB          int64\n",
       "ovp_W           int64\n",
       "ovp_FACED       int64\n",
       "ovp_SO_PCT    float64\n",
       "ovp_W_PCT     float64\n",
       "ovp_H_PCT     float64\n",
       "ovp_AVG       float64\n",
       "ovp_OBP       float64\n",
       "dtype: object"
      ]
     },
     "execution_count": 4,
     "metadata": {},
     "output_type": "execute_result"
    }
   ],
   "source": [
    "dftouse.dtypes"
   ]
  },
  {
   "cell_type": "code",
   "execution_count": 5,
   "metadata": {
    "collapsed": true
   },
   "outputs": [],
   "source": [
    "def compute_supports(df):\n",
    "    ubids=df.bID.unique()\n",
    "    pitch = df.groupby('pID').bID.unique()\n",
    "    bdict={}\n",
    "    for e,v in zip(pitch.index.values, pitch.values):\n",
    "        bdict[e] = np.array([item in v for item in ubids])\n",
    "    pitchers=bdict.keys()\n",
    "    supports=[]\n",
    "    for i,p1 in enumerate(pitchers):\n",
    "        for j,p2 in enumerate(pitchers):\n",
    "            if  i < j:\n",
    "                supmask = (bdict[p1] & bdict[p2])\n",
    "                common_batters = np.sum(supmask)\n",
    "                supports.append(common_batters)\n",
    "    print \"mean support\",np.mean(supports), \"median support\", np.median(supports)\n",
    "    return supports, bdict"
   ]
  },
  {
   "cell_type": "code",
   "execution_count": 6,
   "metadata": {
    "collapsed": true
   },
   "outputs": [],
   "source": [
    "def recompute_frame(ldf):\n",
    "    \"\"\"\n",
    "    takes a dataframe ldf, makes a copy of it, and returns the copy\n",
    "    with all conglomerations recomputed\n",
    "    this is used when a frame is subsetted.\n",
    "    \"\"\"\n",
    "    ldfb=ldf.groupby('bID')\n",
    "    ldfp=ldf.groupby('pID')\n",
    "    nldf=ldf.copy()\n",
    "    \n",
    "    #Conglomerate pitcher stats\n",
    "    nldf.set_index(['pID'], inplace=True)\n",
    "    for col in ['AB', 'PA', 'H', 'TB', 'SAC', 'SO', 'W']:\n",
    "        nldf['ovp_'+col] = ldfp[col].sum()\n",
    "    nldf['ovp_AVG'] = nldf['ovp_H']/nldf['ovp_AB']\n",
    "    nldf['ovp_FACED']= ldfp.AB.count()\n",
    "    nldf['ovp_OBP'] = (nldf['ovp_H'] + nldf['ovp_W'])/nldf['ovp_PA']\n",
    "    for col in ['SO', 'W', 'H']:\n",
    "        nldf['ovp_' + col + '_PCT'] = nldf['ovp_' + col] / nldf['ovp_PA']\n",
    "    nldf.reset_index(inplace=True)\n",
    "    \n",
    "    #Conglomerate batter stats\n",
    "    nldf.set_index(['bID'], inplace=True)\n",
    "    for col in ['AB', 'PA', 'H', 'TB', 'SAC', 'SO', 'W']:\n",
    "        nldf['ov_'+col] = ldfb[col].sum()\n",
    "    nldf['ov_AVG'] = nldf['ov_H']/nldf['ov_AB']\n",
    "    nldf['ov_FACED']= ldfb.AB.count()\n",
    "    nldf['ov_OBP'] = (nldf['ov_H'] + nldf['ov_W'])/nldf['ov_PA']\n",
    "    for col in ['SO', 'W', 'H']:\n",
    "        nldf['ov_' + col + '_PCT'] = nldf['ov_' + col] / nldf['ov_PA']\n",
    "    nldf.reset_index(inplace=True)\n",
    "    return nldf"
   ]
  },
  {
   "cell_type": "code",
   "execution_count": 7,
   "metadata": {
    "collapsed": true
   },
   "outputs": [],
   "source": [
    "def make_smaller(df, pacountp, pacountb):\n",
    "    smallidf1=df[(df.ovp_PA > pacountp) & (df.ov_PA > pacountb)]\n",
    "    smalldf=recompute_frame(smallidf1)\n",
    "    return smalldf"
   ]
  },
  {
   "cell_type": "code",
   "execution_count": 8,
   "metadata": {
    "collapsed": true
   },
   "outputs": [],
   "source": [
    "def make_smaller_gen(df, col, limit, greater=True):\n",
    "    if greater:\n",
    "        smallidf = df[(df[col] > limit)]\n",
    "    else:\n",
    "        smallidf = df[(df[col] < limit)]\n",
    "    return recompute_frame(smallidf)"
   ]
  },
  {
   "cell_type": "code",
   "execution_count": 9,
   "metadata": {
    "collapsed": true
   },
   "outputs": [],
   "source": [
    "#Set minimum number of times batter/pitcher faced each other\n",
    "smalldf = make_smaller_gen(dftouse, 'PA', 25)\n",
    "\n",
    "#Set minimum number of total plate appearances for batter and pitcher\n",
    "smalldf = make_smaller(smalldf, 100, 100)"
   ]
  },
  {
   "cell_type": "code",
   "execution_count": 10,
   "metadata": {
    "collapsed": true
   },
   "outputs": [],
   "source": [
    "smalldf.to_csv('small_reduced.csv', index=False)"
   ]
  },
  {
   "cell_type": "code",
   "execution_count": 11,
   "metadata": {
    "collapsed": false
   },
   "outputs": [
    {
     "data": {
      "text/plain": [
       "(13179, 39)"
      ]
     },
     "execution_count": 11,
     "metadata": {},
     "output_type": "execute_result"
    }
   ],
   "source": [
    "smalldf.shape"
   ]
  },
  {
   "cell_type": "code",
   "execution_count": 12,
   "metadata": {
    "collapsed": true
   },
   "outputs": [],
   "source": [
    "smalldf['AVG'] = smalldf['H']/smalldf['AB']\n",
    "smalldf['OBP'] = (smalldf['H'] + smalldf['W'])/smalldf['PA']"
   ]
  },
  {
   "cell_type": "code",
   "execution_count": 96,
   "metadata": {
    "collapsed": false
   },
   "outputs": [
    {
     "name": "stdout",
     "output_type": "stream",
     "text": [
      "(13095, 39) (48, 39) (36, 39)\n"
     ]
    }
   ],
   "source": [
    "#Copied and pasted over from Baseline model\n",
    "\n",
    "trainlist=[]\n",
    "testlist=[]\n",
    "validatelist=[]\n",
    "take=21 #21 matchups between validation and test set\n",
    "for k, v in smalldf.groupby('bID'):\n",
    "    if len(v) > 100: #batter has faced at least 100 pitchers\n",
    "        train_rows, test_valid_rows = train_test_split(v, test_size=take)\n",
    "        trainlist.append(train_rows)\n",
    "        valid_rows, test_rows = train_test_split(test_valid_rows, test_size=0.4)\n",
    "        validatelist.append(valid_rows) \n",
    "        testlist.append(test_rows) \n",
    "    else:\n",
    "        trainlist.append(v)\n",
    "traindf=pd.concat(trainlist)\n",
    "validatedf=pd.concat(validatelist)\n",
    "testdf=pd.concat(testlist)\n",
    "print traindf.shape, validatedf.shape, testdf.shape"
   ]
  },
  {
   "cell_type": "markdown",
   "metadata": {},
   "source": [
    "#Make the uuids and uiids from the traindf for each batter and pitcher"
   ]
  },
  {
   "cell_type": "code",
   "execution_count": 17,
   "metadata": {
    "collapsed": true
   },
   "outputs": [],
   "source": [
    "ubids=traindf.bID.unique()#unique-user-ids\n",
    "upids=traindf.pID.unique()#unique-item-ids"
   ]
  },
  {
   "cell_type": "code",
   "execution_count": 18,
   "metadata": {
    "collapsed": false
   },
   "outputs": [
    {
     "data": {
      "text/plain": [
       "(961,)"
      ]
     },
     "execution_count": 18,
     "metadata": {},
     "output_type": "execute_result"
    }
   ],
   "source": [
    "from sklearn.linear_model import Ridge\n",
    "features=np.concatenate([ubids,upids])\n",
    "features.shape"
   ]
  },
  {
   "cell_type": "code",
   "execution_count": 19,
   "metadata": {
    "collapsed": false
   },
   "outputs": [
    {
     "data": {
      "text/html": [
       "<div>\n",
       "<table border=\"1\" class=\"dataframe\">\n",
       "  <thead>\n",
       "    <tr style=\"text-align: right;\">\n",
       "      <th></th>\n",
       "      <th>bID</th>\n",
       "      <th>pID</th>\n",
       "      <th>AB</th>\n",
       "      <th>H</th>\n",
       "      <th>PA</th>\n",
       "      <th>RL</th>\n",
       "      <th>SAC</th>\n",
       "      <th>SO</th>\n",
       "      <th>TB</th>\n",
       "      <th>W</th>\n",
       "      <th>matchID</th>\n",
       "      <th>AVG</th>\n",
       "      <th>OBP</th>\n",
       "      <th>ov_AB</th>\n",
       "      <th>ov_H</th>\n",
       "      <th>ov_PA</th>\n",
       "      <th>ov_SAC</th>\n",
       "      <th>ov_SO</th>\n",
       "      <th>ov_TB</th>\n",
       "      <th>ov_W</th>\n",
       "      <th>ov_FACED</th>\n",
       "      <th>ov_AVG</th>\n",
       "      <th>ov_OBP</th>\n",
       "      <th>ov_SO_PCT</th>\n",
       "      <th>ov_W_PCT</th>\n",
       "      <th>ov_H_PCT</th>\n",
       "      <th>ovp_AB</th>\n",
       "      <th>ovp_H</th>\n",
       "      <th>ovp_PA</th>\n",
       "      <th>ovp_SAC</th>\n",
       "      <th>ovp_SO</th>\n",
       "      <th>ovp_TB</th>\n",
       "      <th>ovp_W</th>\n",
       "      <th>ovp_FACED</th>\n",
       "      <th>ovp_SO_PCT</th>\n",
       "      <th>ovp_W_PCT</th>\n",
       "      <th>ovp_H_PCT</th>\n",
       "      <th>ovp_AVG</th>\n",
       "      <th>ovp_OBP</th>\n",
       "    </tr>\n",
       "  </thead>\n",
       "  <tbody>\n",
       "    <tr>\n",
       "      <th>829</th>\n",
       "      <td>abreb001</td>\n",
       "      <td>burna001</td>\n",
       "      <td>72</td>\n",
       "      <td>24</td>\n",
       "      <td>86</td>\n",
       "      <td>R</td>\n",
       "      <td>1</td>\n",
       "      <td>20</td>\n",
       "      <td>50</td>\n",
       "      <td>14</td>\n",
       "      <td>abreb001_burna001</td>\n",
       "      <td>0.333333</td>\n",
       "      <td>0.441860</td>\n",
       "      <td>2439</td>\n",
       "      <td>669</td>\n",
       "      <td>2845</td>\n",
       "      <td>23</td>\n",
       "      <td>502</td>\n",
       "      <td>1338</td>\n",
       "      <td>406</td>\n",
       "      <td>69</td>\n",
       "      <td>0.274293</td>\n",
       "      <td>0.377856</td>\n",
       "      <td>0.17645</td>\n",
       "      <td>0.142707</td>\n",
       "      <td>0.235149</td>\n",
       "      <td>2992</td>\n",
       "      <td>767</td>\n",
       "      <td>3342</td>\n",
       "      <td>42</td>\n",
       "      <td>678</td>\n",
       "      <td>1469</td>\n",
       "      <td>350</td>\n",
       "      <td>92</td>\n",
       "      <td>0.202873</td>\n",
       "      <td>0.104728</td>\n",
       "      <td>0.229503</td>\n",
       "      <td>0.256350</td>\n",
       "      <td>0.334231</td>\n",
       "    </tr>\n",
       "    <tr>\n",
       "      <th>884</th>\n",
       "      <td>abreb001</td>\n",
       "      <td>willw001</td>\n",
       "      <td>25</td>\n",
       "      <td>9</td>\n",
       "      <td>28</td>\n",
       "      <td>R</td>\n",
       "      <td>1</td>\n",
       "      <td>4</td>\n",
       "      <td>20</td>\n",
       "      <td>3</td>\n",
       "      <td>abreb001_willw001</td>\n",
       "      <td>0.360000</td>\n",
       "      <td>0.428571</td>\n",
       "      <td>2439</td>\n",
       "      <td>669</td>\n",
       "      <td>2845</td>\n",
       "      <td>23</td>\n",
       "      <td>502</td>\n",
       "      <td>1338</td>\n",
       "      <td>406</td>\n",
       "      <td>69</td>\n",
       "      <td>0.274293</td>\n",
       "      <td>0.377856</td>\n",
       "      <td>0.17645</td>\n",
       "      <td>0.142707</td>\n",
       "      <td>0.235149</td>\n",
       "      <td>2502</td>\n",
       "      <td>702</td>\n",
       "      <td>2758</td>\n",
       "      <td>30</td>\n",
       "      <td>373</td>\n",
       "      <td>1486</td>\n",
       "      <td>256</td>\n",
       "      <td>74</td>\n",
       "      <td>0.135243</td>\n",
       "      <td>0.092821</td>\n",
       "      <td>0.254532</td>\n",
       "      <td>0.280576</td>\n",
       "      <td>0.347353</td>\n",
       "    </tr>\n",
       "    <tr>\n",
       "      <th>827</th>\n",
       "      <td>abreb001</td>\n",
       "      <td>browk001</td>\n",
       "      <td>36</td>\n",
       "      <td>11</td>\n",
       "      <td>39</td>\n",
       "      <td>R</td>\n",
       "      <td>0</td>\n",
       "      <td>5</td>\n",
       "      <td>19</td>\n",
       "      <td>3</td>\n",
       "      <td>abreb001_browk001</td>\n",
       "      <td>0.305556</td>\n",
       "      <td>0.358974</td>\n",
       "      <td>2439</td>\n",
       "      <td>669</td>\n",
       "      <td>2845</td>\n",
       "      <td>23</td>\n",
       "      <td>502</td>\n",
       "      <td>1338</td>\n",
       "      <td>406</td>\n",
       "      <td>69</td>\n",
       "      <td>0.274293</td>\n",
       "      <td>0.377856</td>\n",
       "      <td>0.17645</td>\n",
       "      <td>0.142707</td>\n",
       "      <td>0.235149</td>\n",
       "      <td>2555</td>\n",
       "      <td>665</td>\n",
       "      <td>2805</td>\n",
       "      <td>23</td>\n",
       "      <td>461</td>\n",
       "      <td>1129</td>\n",
       "      <td>250</td>\n",
       "      <td>71</td>\n",
       "      <td>0.164349</td>\n",
       "      <td>0.089127</td>\n",
       "      <td>0.237077</td>\n",
       "      <td>0.260274</td>\n",
       "      <td>0.326203</td>\n",
       "    </tr>\n",
       "    <tr>\n",
       "      <th>836</th>\n",
       "      <td>abreb001</td>\n",
       "      <td>dempr002</td>\n",
       "      <td>29</td>\n",
       "      <td>7</td>\n",
       "      <td>40</td>\n",
       "      <td>R</td>\n",
       "      <td>0</td>\n",
       "      <td>7</td>\n",
       "      <td>16</td>\n",
       "      <td>11</td>\n",
       "      <td>abreb001_dempr002</td>\n",
       "      <td>0.241379</td>\n",
       "      <td>0.450000</td>\n",
       "      <td>2439</td>\n",
       "      <td>669</td>\n",
       "      <td>2845</td>\n",
       "      <td>23</td>\n",
       "      <td>502</td>\n",
       "      <td>1338</td>\n",
       "      <td>406</td>\n",
       "      <td>69</td>\n",
       "      <td>0.274293</td>\n",
       "      <td>0.377856</td>\n",
       "      <td>0.17645</td>\n",
       "      <td>0.142707</td>\n",
       "      <td>0.235149</td>\n",
       "      <td>2381</td>\n",
       "      <td>691</td>\n",
       "      <td>2758</td>\n",
       "      <td>34</td>\n",
       "      <td>448</td>\n",
       "      <td>1350</td>\n",
       "      <td>377</td>\n",
       "      <td>73</td>\n",
       "      <td>0.162437</td>\n",
       "      <td>0.136693</td>\n",
       "      <td>0.250544</td>\n",
       "      <td>0.290214</td>\n",
       "      <td>0.387237</td>\n",
       "    </tr>\n",
       "    <tr>\n",
       "      <th>821</th>\n",
       "      <td>abreb001</td>\n",
       "      <td>batim001</td>\n",
       "      <td>33</td>\n",
       "      <td>12</td>\n",
       "      <td>38</td>\n",
       "      <td>R</td>\n",
       "      <td>1</td>\n",
       "      <td>2</td>\n",
       "      <td>23</td>\n",
       "      <td>5</td>\n",
       "      <td>abreb001_batim001</td>\n",
       "      <td>0.363636</td>\n",
       "      <td>0.447368</td>\n",
       "      <td>2439</td>\n",
       "      <td>669</td>\n",
       "      <td>2845</td>\n",
       "      <td>23</td>\n",
       "      <td>502</td>\n",
       "      <td>1338</td>\n",
       "      <td>406</td>\n",
       "      <td>69</td>\n",
       "      <td>0.274293</td>\n",
       "      <td>0.377856</td>\n",
       "      <td>0.17645</td>\n",
       "      <td>0.142707</td>\n",
       "      <td>0.235149</td>\n",
       "      <td>1684</td>\n",
       "      <td>497</td>\n",
       "      <td>1930</td>\n",
       "      <td>33</td>\n",
       "      <td>184</td>\n",
       "      <td>944</td>\n",
       "      <td>246</td>\n",
       "      <td>58</td>\n",
       "      <td>0.095337</td>\n",
       "      <td>0.127461</td>\n",
       "      <td>0.257513</td>\n",
       "      <td>0.295131</td>\n",
       "      <td>0.384974</td>\n",
       "    </tr>\n",
       "    <tr>\n",
       "      <th>882</th>\n",
       "      <td>abreb001</td>\n",
       "      <td>washj001</td>\n",
       "      <td>27</td>\n",
       "      <td>3</td>\n",
       "      <td>28</td>\n",
       "      <td>L</td>\n",
       "      <td>0</td>\n",
       "      <td>7</td>\n",
       "      <td>7</td>\n",
       "      <td>1</td>\n",
       "      <td>abreb001_washj001</td>\n",
       "      <td>0.111111</td>\n",
       "      <td>0.142857</td>\n",
       "      <td>2439</td>\n",
       "      <td>669</td>\n",
       "      <td>2845</td>\n",
       "      <td>23</td>\n",
       "      <td>502</td>\n",
       "      <td>1338</td>\n",
       "      <td>406</td>\n",
       "      <td>69</td>\n",
       "      <td>0.274293</td>\n",
       "      <td>0.377856</td>\n",
       "      <td>0.17645</td>\n",
       "      <td>0.142707</td>\n",
       "      <td>0.235149</td>\n",
       "      <td>2620</td>\n",
       "      <td>729</td>\n",
       "      <td>2870</td>\n",
       "      <td>25</td>\n",
       "      <td>360</td>\n",
       "      <td>1475</td>\n",
       "      <td>250</td>\n",
       "      <td>76</td>\n",
       "      <td>0.125436</td>\n",
       "      <td>0.087108</td>\n",
       "      <td>0.254007</td>\n",
       "      <td>0.278244</td>\n",
       "      <td>0.341115</td>\n",
       "    </tr>\n",
       "    <tr>\n",
       "      <th>861</th>\n",
       "      <td>abreb001</td>\n",
       "      <td>pavac001</td>\n",
       "      <td>59</td>\n",
       "      <td>20</td>\n",
       "      <td>70</td>\n",
       "      <td>R</td>\n",
       "      <td>2</td>\n",
       "      <td>9</td>\n",
       "      <td>40</td>\n",
       "      <td>11</td>\n",
       "      <td>abreb001_pavac001</td>\n",
       "      <td>0.338983</td>\n",
       "      <td>0.442857</td>\n",
       "      <td>2439</td>\n",
       "      <td>669</td>\n",
       "      <td>2845</td>\n",
       "      <td>23</td>\n",
       "      <td>502</td>\n",
       "      <td>1338</td>\n",
       "      <td>406</td>\n",
       "      <td>69</td>\n",
       "      <td>0.274293</td>\n",
       "      <td>0.377856</td>\n",
       "      <td>0.17645</td>\n",
       "      <td>0.142707</td>\n",
       "      <td>0.235149</td>\n",
       "      <td>1546</td>\n",
       "      <td>480</td>\n",
       "      <td>1661</td>\n",
       "      <td>23</td>\n",
       "      <td>212</td>\n",
       "      <td>917</td>\n",
       "      <td>115</td>\n",
       "      <td>48</td>\n",
       "      <td>0.127634</td>\n",
       "      <td>0.069235</td>\n",
       "      <td>0.288983</td>\n",
       "      <td>0.310479</td>\n",
       "      <td>0.358218</td>\n",
       "    </tr>\n",
       "    <tr>\n",
       "      <th>839</th>\n",
       "      <td>abreb001</td>\n",
       "      <td>glavt001</td>\n",
       "      <td>71</td>\n",
       "      <td>17</td>\n",
       "      <td>80</td>\n",
       "      <td>L</td>\n",
       "      <td>0</td>\n",
       "      <td>6</td>\n",
       "      <td>27</td>\n",
       "      <td>9</td>\n",
       "      <td>abreb001_glavt001</td>\n",
       "      <td>0.239437</td>\n",
       "      <td>0.325000</td>\n",
       "      <td>2439</td>\n",
       "      <td>669</td>\n",
       "      <td>2845</td>\n",
       "      <td>23</td>\n",
       "      <td>502</td>\n",
       "      <td>1338</td>\n",
       "      <td>406</td>\n",
       "      <td>69</td>\n",
       "      <td>0.274293</td>\n",
       "      <td>0.377856</td>\n",
       "      <td>0.17645</td>\n",
       "      <td>0.142707</td>\n",
       "      <td>0.235149</td>\n",
       "      <td>5166</td>\n",
       "      <td>1496</td>\n",
       "      <td>5805</td>\n",
       "      <td>58</td>\n",
       "      <td>642</td>\n",
       "      <td>2776</td>\n",
       "      <td>639</td>\n",
       "      <td>114</td>\n",
       "      <td>0.110594</td>\n",
       "      <td>0.110078</td>\n",
       "      <td>0.257709</td>\n",
       "      <td>0.289586</td>\n",
       "      <td>0.367786</td>\n",
       "    </tr>\n",
       "    <tr>\n",
       "      <th>842</th>\n",
       "      <td>abreb001</td>\n",
       "      <td>hallr001</td>\n",
       "      <td>41</td>\n",
       "      <td>7</td>\n",
       "      <td>42</td>\n",
       "      <td>R</td>\n",
       "      <td>0</td>\n",
       "      <td>15</td>\n",
       "      <td>9</td>\n",
       "      <td>1</td>\n",
       "      <td>abreb001_hallr001</td>\n",
       "      <td>0.170732</td>\n",
       "      <td>0.190476</td>\n",
       "      <td>2439</td>\n",
       "      <td>669</td>\n",
       "      <td>2845</td>\n",
       "      <td>23</td>\n",
       "      <td>502</td>\n",
       "      <td>1338</td>\n",
       "      <td>406</td>\n",
       "      <td>69</td>\n",
       "      <td>0.274293</td>\n",
       "      <td>0.377856</td>\n",
       "      <td>0.17645</td>\n",
       "      <td>0.142707</td>\n",
       "      <td>0.235149</td>\n",
       "      <td>3914</td>\n",
       "      <td>1051</td>\n",
       "      <td>4187</td>\n",
       "      <td>37</td>\n",
       "      <td>749</td>\n",
       "      <td>1899</td>\n",
       "      <td>273</td>\n",
       "      <td>96</td>\n",
       "      <td>0.178887</td>\n",
       "      <td>0.065202</td>\n",
       "      <td>0.251015</td>\n",
       "      <td>0.268523</td>\n",
       "      <td>0.316217</td>\n",
       "    </tr>\n",
       "    <tr>\n",
       "      <th>841</th>\n",
       "      <td>abreb001</td>\n",
       "      <td>guthj001</td>\n",
       "      <td>31</td>\n",
       "      <td>6</td>\n",
       "      <td>34</td>\n",
       "      <td>R</td>\n",
       "      <td>0</td>\n",
       "      <td>4</td>\n",
       "      <td>24</td>\n",
       "      <td>3</td>\n",
       "      <td>abreb001_guthj001</td>\n",
       "      <td>0.193548</td>\n",
       "      <td>0.264706</td>\n",
       "      <td>2439</td>\n",
       "      <td>669</td>\n",
       "      <td>2845</td>\n",
       "      <td>23</td>\n",
       "      <td>502</td>\n",
       "      <td>1338</td>\n",
       "      <td>406</td>\n",
       "      <td>69</td>\n",
       "      <td>0.274293</td>\n",
       "      <td>0.377856</td>\n",
       "      <td>0.17645</td>\n",
       "      <td>0.142707</td>\n",
       "      <td>0.235149</td>\n",
       "      <td>2362</td>\n",
       "      <td>681</td>\n",
       "      <td>2604</td>\n",
       "      <td>32</td>\n",
       "      <td>331</td>\n",
       "      <td>1403</td>\n",
       "      <td>242</td>\n",
       "      <td>66</td>\n",
       "      <td>0.127112</td>\n",
       "      <td>0.092934</td>\n",
       "      <td>0.261521</td>\n",
       "      <td>0.288315</td>\n",
       "      <td>0.354455</td>\n",
       "    </tr>\n",
       "  </tbody>\n",
       "</table>\n",
       "</div>"
      ],
      "text/plain": [
       "          bID       pID  AB   H  PA RL  SAC  SO  TB   W            matchID       AVG       OBP  ov_AB  ov_H  ov_PA  ov_SAC  ov_SO  ov_TB  ov_W  ov_FACED    ov_AVG    ov_OBP  ov_SO_PCT  ov_W_PCT  ov_H_PCT  ovp_AB  ovp_H  ovp_PA  ovp_SAC  ovp_SO  ovp_TB  ovp_W  ovp_FACED  ovp_SO_PCT  ovp_W_PCT  ovp_H_PCT   ovp_AVG   ovp_OBP\n",
       "829  abreb001  burna001  72  24  86  R    1  20  50  14  abreb001_burna001  0.333333  0.441860   2439   669   2845      23    502   1338   406        69  0.274293  0.377856    0.17645  0.142707  0.235149    2992    767    3342       42     678    1469    350         92    0.202873   0.104728   0.229503  0.256350  0.334231\n",
       "884  abreb001  willw001  25   9  28  R    1   4  20   3  abreb001_willw001  0.360000  0.428571   2439   669   2845      23    502   1338   406        69  0.274293  0.377856    0.17645  0.142707  0.235149    2502    702    2758       30     373    1486    256         74    0.135243   0.092821   0.254532  0.280576  0.347353\n",
       "827  abreb001  browk001  36  11  39  R    0   5  19   3  abreb001_browk001  0.305556  0.358974   2439   669   2845      23    502   1338   406        69  0.274293  0.377856    0.17645  0.142707  0.235149    2555    665    2805       23     461    1129    250         71    0.164349   0.089127   0.237077  0.260274  0.326203\n",
       "836  abreb001  dempr002  29   7  40  R    0   7  16  11  abreb001_dempr002  0.241379  0.450000   2439   669   2845      23    502   1338   406        69  0.274293  0.377856    0.17645  0.142707  0.235149    2381    691    2758       34     448    1350    377         73    0.162437   0.136693   0.250544  0.290214  0.387237\n",
       "821  abreb001  batim001  33  12  38  R    1   2  23   5  abreb001_batim001  0.363636  0.447368   2439   669   2845      23    502   1338   406        69  0.274293  0.377856    0.17645  0.142707  0.235149    1684    497    1930       33     184     944    246         58    0.095337   0.127461   0.257513  0.295131  0.384974\n",
       "882  abreb001  washj001  27   3  28  L    0   7   7   1  abreb001_washj001  0.111111  0.142857   2439   669   2845      23    502   1338   406        69  0.274293  0.377856    0.17645  0.142707  0.235149    2620    729    2870       25     360    1475    250         76    0.125436   0.087108   0.254007  0.278244  0.341115\n",
       "861  abreb001  pavac001  59  20  70  R    2   9  40  11  abreb001_pavac001  0.338983  0.442857   2439   669   2845      23    502   1338   406        69  0.274293  0.377856    0.17645  0.142707  0.235149    1546    480    1661       23     212     917    115         48    0.127634   0.069235   0.288983  0.310479  0.358218\n",
       "839  abreb001  glavt001  71  17  80  L    0   6  27   9  abreb001_glavt001  0.239437  0.325000   2439   669   2845      23    502   1338   406        69  0.274293  0.377856    0.17645  0.142707  0.235149    5166   1496    5805       58     642    2776    639        114    0.110594   0.110078   0.257709  0.289586  0.367786\n",
       "842  abreb001  hallr001  41   7  42  R    0  15   9   1  abreb001_hallr001  0.170732  0.190476   2439   669   2845      23    502   1338   406        69  0.274293  0.377856    0.17645  0.142707  0.235149    3914   1051    4187       37     749    1899    273         96    0.178887   0.065202   0.251015  0.268523  0.316217\n",
       "841  abreb001  guthj001  31   6  34  R    0   4  24   3  abreb001_guthj001  0.193548  0.264706   2439   669   2845      23    502   1338   406        69  0.274293  0.377856    0.17645  0.142707  0.235149    2362    681    2604       32     331    1403    242         66    0.127112   0.092934   0.261521  0.288315  0.354455"
      ]
     },
     "execution_count": 19,
     "metadata": {},
     "output_type": "execute_result"
    }
   ],
   "source": [
    "traindf.head(10)"
   ]
  },
  {
   "cell_type": "code",
   "execution_count": 20,
   "metadata": {
    "collapsed": true
   },
   "outputs": [],
   "source": [
    "#function to produce the design matrix\n",
    "def getmats(indf):\n",
    "    \n",
    "    results_avg = indf['AVG']\n",
    "    results_obp = indf['OBP']\n",
    "    \n",
    "    n_cols = len(features)\n",
    "    n_rows = len(indf)\n",
    "    \n",
    "    #fill matrix with zeros\n",
    "    mats = np.zeros((n_rows, n_cols))\n",
    "\n",
    "    #for each element in features, check for match in every row, whether business or user, and switch to one\n",
    "    for i in range(0, len(ubids)):\n",
    "        for j in range(0, n_rows):\n",
    "            if features[i] == indf['bID'].values[j]:\n",
    "                mats[j, i] = 1\n",
    "    for i in range(len(ubids), n_cols):\n",
    "        for j in range(0, n_rows):\n",
    "            if features[i] == indf['pID'].values[j]:\n",
    "                mats[j, i] = 1\n",
    "    return mats, results_avg, results_obp"
   ]
  },
  {
   "cell_type": "code",
   "execution_count": 21,
   "metadata": {
    "collapsed": false
   },
   "outputs": [
    {
     "name": "stdout",
     "output_type": "stream",
     "text": [
      "CPU times: user 43.8 s, sys: 281 ms, total: 44.1 s\n",
      "Wall time: 44.5 s\n"
     ]
    }
   ],
   "source": [
    "%%time\n",
    "designm, avg, obp = getmats(traindf)\n",
    "testm, test_avg, test_obp = getmats(testdf)"
   ]
  },
  {
   "cell_type": "code",
   "execution_count": 22,
   "metadata": {
    "collapsed": true
   },
   "outputs": [],
   "source": [
    "def get_rmse(s, s_predict):\n",
    "    diff = s - s_predict\n",
    "    return np.sqrt(np.dot(diff,diff)/diff.shape[0])"
   ]
  },
  {
   "cell_type": "code",
   "execution_count": 103,
   "metadata": {
    "collapsed": false
   },
   "outputs": [
    {
     "name": "stdout",
     "output_type": "stream",
     "text": [
      "Wall time: 3.96 s\n"
     ]
    }
   ],
   "source": [
    "%%time\n",
    "\n",
    "#regressing averages\n",
    "from sklearn.linear_model import Ridge\n",
    "alphas = [0.01, 0.1, 10, 100, 1000]\n",
    "vdict={}\n",
    "rdict={}\n",
    "for a in alphas:\n",
    "    #perform regression for each alpha and store in rdict, keyed by the alpha\n",
    "    ridge_reg = Ridge(alpha=a)\n",
    "    \n",
    "    #we'll do the average for now\n",
    "    ridge_reg = ridge_reg.fit(designm, avg)\n",
    "    rdict[a]=ridge_reg\n",
    "    \n",
    "    #calculate the RMSE for each alpha, store in vdict\n",
    "    pred = ridge_reg.predict(validatedm)\n",
    "    rmse = get_rmse(pred, validate_avg)\n",
    "    vdict[a]=rmse"
   ]
  },
  {
   "cell_type": "code",
   "execution_count": 104,
   "metadata": {
    "collapsed": false
   },
   "outputs": [
    {
     "data": {
      "text/plain": [
       "{0.01: 0.089990892259923988,\n",
       " 0.1: 0.089941138332694334,\n",
       " 10: 0.089342172492914318,\n",
       " 100: 0.090642472804778509,\n",
       " 1000: 0.092723990671586654}"
      ]
     },
     "execution_count": 104,
     "metadata": {},
     "output_type": "execute_result"
    }
   ],
   "source": [
    "vdict"
   ]
  },
  {
   "cell_type": "code",
   "execution_count": 105,
   "metadata": {
    "collapsed": false
   },
   "outputs": [
    {
     "name": "stdout",
     "output_type": "stream",
     "text": [
      "10\n"
     ]
    }
   ],
   "source": [
    "minerroralpha=min(vdict, key=vdict.get)\n",
    "print minerroralpha\n",
    "regr=rdict[minerroralpha] "
   ]
  },
  {
   "cell_type": "code",
   "execution_count": 106,
   "metadata": {
    "collapsed": false
   },
   "outputs": [
    {
     "data": {
      "text/plain": [
       "0.28034180680573334"
      ]
     },
     "execution_count": 106,
     "metadata": {},
     "output_type": "execute_result"
    }
   ],
   "source": [
    "regr.intercept_"
   ]
  },
  {
   "cell_type": "markdown",
   "metadata": {},
   "source": [
    "The RMSE is a lot smaller here than before. "
   ]
  },
  {
   "cell_type": "markdown",
   "metadata": {},
   "source": [
    "#Prediction"
   ]
  },
  {
   "cell_type": "code",
   "execution_count": 107,
   "metadata": {
    "collapsed": true
   },
   "outputs": [],
   "source": [
    "testdm, test_avg, test_obp = getmats(testdf)"
   ]
  },
  {
   "cell_type": "code",
   "execution_count": 28,
   "metadata": {
    "collapsed": true
   },
   "outputs": [],
   "source": [
    "def compare_results(avg_actual, avg_predicted, ylow=0, yhigh=1, model=\"\", predicteds=False, onsame=False, axis=False):\n",
    "    \"\"\"\n",
    "    plot predicted results against actual results. Takes 2 arguments: a\n",
    "    numpy array of actual ratings and a numpy array of predicted ratings\n",
    "    scatterplots the predictions, a unit slope line, line segments joining the mean,\n",
    "    and a filled in area of the standard deviations.\"\n",
    "    \"\"\"\n",
    "    if onsame:\n",
    "        ax=onsame\n",
    "    elif axis:\n",
    "        ax=axis\n",
    "    else:\n",
    "        fig=plt.figure()\n",
    "        ax=plt.gca()\n",
    "    df=pd.DataFrame(dict(actual=np.round(avg_actual, decimals=2), predicted=avg_predicted))\n",
    "    xp=[]\n",
    "    yp=[]\n",
    "    for k,v in df.groupby('actual'):\n",
    "        xp.append(k)\n",
    "        yp.append(v.predicted.mean())        \n",
    "    \n",
    "    cl, = ax.plot(xp,yp, 'o-', label=\"means for %s\" % model)\n",
    "    c=cl.get_color()\n",
    "    sig=df.groupby('actual').predicted.std().values\n",
    "    ax.fill_between(xp, yp - sig, yp + sig, \n",
    "                 color=c, alpha=0.2)\n",
    "    if predicteds:\n",
    "        ax.plot(df.actual, df.predicted, '.', color=c, alpha=0.1,label=\"predicted for %s\" % model)\n",
    "\n",
    "    if not onsame:\n",
    "        ax.plot([0,1],[0,1], 'k', label=\"slope 1\")\n",
    "        ax.set_xlabel(\"actual\")\n",
    "        ax.set_ylabel(\"predicted\")\n",
    "        ax.set_ylim([ylow,yhigh])\n",
    "        #ax.set_xlim([0.9, 5.1])\n",
    "    ax.legend(frameon=False, loc=\"upper left\",prop={'size':23})\n",
    "    rmse=get_rmse(avg_actual, avg_predicted)\n",
    "    print \"RMSE for %s\" % model, rmse\n",
    "    rmse=3\n",
    "    return ax,rmse"
   ]
  },
  {
   "cell_type": "code",
   "execution_count": 109,
   "metadata": {
    "collapsed": false
   },
   "outputs": [
    {
     "name": "stdout",
     "output_type": "stream",
     "text": [
      "RMSE for baseline_r 0.0824765971834\n"
     ]
    },
    {
     "data": {
      "image/png": "[encoded data removed]",
      "text/plain": [
       "<matplotlib.figure.Figure at 0x22c711d0>"
      ]
     },
     "metadata": {},
     "output_type": "display_data"
    }
   ],
   "source": [
    "#Comment these out obviously\n",
    "predictions={}\n",
    "predictions_valid={}\n",
    "\n",
    "from sklearn.linear_model import Ridge\n",
    "\n",
    "pred_test = regr.predict(testdm)\n",
    "predictions['baseline_r'] = pred_test\n",
    "\n",
    "pred_valid = regr.predict(validatedm)\n",
    "predictions_valid['baseline_r'] = pred_valid\n",
    "\n",
    "compare_results(test_avg,predictions['baseline_r'], model=\"baseline_r\", predicteds=True);"
   ]
  },
  {
   "cell_type": "code",
   "execution_count": null,
   "metadata": {
    "collapsed": true
   },
   "outputs": [],
   "source": [
    "#ax=plt.gca()\n",
    "#compare_results(test_avg,predictions['baseline_r'], model=\"baseline_r\", predicteds=True, axis=ax);\n",
    "#compare_results(testdf.AVG,predictions['baseline'], model=\"baseline\", predicteds=True, onsame=ax);"
   ]
  },
  {
   "cell_type": "markdown",
   "metadata": {},
   "source": [
    "#Alternative Method: Cross Validation"
   ]
  },
  {
   "cell_type": "code",
   "execution_count": 51,
   "metadata": {
    "collapsed": true
   },
   "outputs": [],
   "source": [
    "smalldf=pd.read_csv('data/small.csv')"
   ]
  },
  {
   "cell_type": "code",
   "execution_count": 52,
   "metadata": {
    "collapsed": false,
    "scrolled": true
   },
   "outputs": [
    {
     "data": {
      "text/html": [
       "<div>\n",
       "<table border=\"1\" class=\"dataframe\">\n",
       "  <thead>\n",
       "    <tr style=\"text-align: right;\">\n",
       "      <th></th>\n",
       "      <th>bID</th>\n",
       "      <th>pID</th>\n",
       "      <th>AB</th>\n",
       "      <th>H</th>\n",
       "      <th>PA</th>\n",
       "      <th>RL</th>\n",
       "      <th>SAC</th>\n",
       "      <th>SO</th>\n",
       "      <th>TB</th>\n",
       "      <th>W</th>\n",
       "      <th>matchID</th>\n",
       "      <th>AVG</th>\n",
       "      <th>OBP</th>\n",
       "      <th>ov_AB</th>\n",
       "      <th>ov_H</th>\n",
       "      <th>ov_PA</th>\n",
       "      <th>ov_SAC</th>\n",
       "      <th>ov_SO</th>\n",
       "      <th>ov_TB</th>\n",
       "      <th>ov_W</th>\n",
       "      <th>ov_AVG</th>\n",
       "      <th>ov_OBP</th>\n",
       "      <th>ov_FACED</th>\n",
       "      <th>ov_SO_PCT</th>\n",
       "      <th>ov_W_PCT</th>\n",
       "      <th>ov_H_PCT</th>\n",
       "      <th>ovp_AB</th>\n",
       "      <th>ovp_H</th>\n",
       "      <th>ovp_PA</th>\n",
       "      <th>ovp_SAC</th>\n",
       "      <th>ovp_SO</th>\n",
       "      <th>ovp_TB</th>\n",
       "      <th>ovp_W</th>\n",
       "      <th>ovp_AVG</th>\n",
       "      <th>ovp_OBP</th>\n",
       "      <th>ovp_FACED</th>\n",
       "      <th>ovp_SO_PCT</th>\n",
       "      <th>ovp_W_PCT</th>\n",
       "      <th>ovp_H_PCT</th>\n",
       "    </tr>\n",
       "  </thead>\n",
       "  <tbody>\n",
       "    <tr>\n",
       "      <th>0</th>\n",
       "      <td>schic002</td>\n",
       "      <td>benea001</td>\n",
       "      <td>9</td>\n",
       "      <td>0</td>\n",
       "      <td>9</td>\n",
       "      <td>R</td>\n",
       "      <td>1</td>\n",
       "      <td>4</td>\n",
       "      <td>0</td>\n",
       "      <td>0</td>\n",
       "      <td>schic002_benea001</td>\n",
       "      <td>0.000000</td>\n",
       "      <td>0.000000</td>\n",
       "      <td>146</td>\n",
       "      <td>22</td>\n",
       "      <td>150</td>\n",
       "      <td>14</td>\n",
       "      <td>57</td>\n",
       "      <td>30</td>\n",
       "      <td>4</td>\n",
       "      <td>0.150685</td>\n",
       "      <td>0.173333</td>\n",
       "      <td>14</td>\n",
       "      <td>0.38</td>\n",
       "      <td>0.026667</td>\n",
       "      <td>0.146667</td>\n",
       "      <td>3046</td>\n",
       "      <td>827</td>\n",
       "      <td>3425</td>\n",
       "      <td>46</td>\n",
       "      <td>609</td>\n",
       "      <td>1713</td>\n",
       "      <td>379</td>\n",
       "      <td>0.271504</td>\n",
       "      <td>0.352117</td>\n",
       "      <td>136</td>\n",
       "      <td>0.177810</td>\n",
       "      <td>0.110657</td>\n",
       "      <td>0.241460</td>\n",
       "    </tr>\n",
       "    <tr>\n",
       "      <th>1</th>\n",
       "      <td>schic002</td>\n",
       "      <td>browk001</td>\n",
       "      <td>11</td>\n",
       "      <td>1</td>\n",
       "      <td>11</td>\n",
       "      <td>R</td>\n",
       "      <td>0</td>\n",
       "      <td>6</td>\n",
       "      <td>1</td>\n",
       "      <td>0</td>\n",
       "      <td>schic002_browk001</td>\n",
       "      <td>0.090909</td>\n",
       "      <td>0.090909</td>\n",
       "      <td>146</td>\n",
       "      <td>22</td>\n",
       "      <td>150</td>\n",
       "      <td>14</td>\n",
       "      <td>57</td>\n",
       "      <td>30</td>\n",
       "      <td>4</td>\n",
       "      <td>0.150685</td>\n",
       "      <td>0.173333</td>\n",
       "      <td>14</td>\n",
       "      <td>0.38</td>\n",
       "      <td>0.026667</td>\n",
       "      <td>0.146667</td>\n",
       "      <td>4582</td>\n",
       "      <td>1159</td>\n",
       "      <td>4989</td>\n",
       "      <td>47</td>\n",
       "      <td>892</td>\n",
       "      <td>1974</td>\n",
       "      <td>407</td>\n",
       "      <td>0.252946</td>\n",
       "      <td>0.313891</td>\n",
       "      <td>222</td>\n",
       "      <td>0.178793</td>\n",
       "      <td>0.081579</td>\n",
       "      <td>0.232311</td>\n",
       "    </tr>\n",
       "    <tr>\n",
       "      <th>2</th>\n",
       "      <td>schic002</td>\n",
       "      <td>fassj001</td>\n",
       "      <td>11</td>\n",
       "      <td>2</td>\n",
       "      <td>11</td>\n",
       "      <td>L</td>\n",
       "      <td>1</td>\n",
       "      <td>5</td>\n",
       "      <td>4</td>\n",
       "      <td>0</td>\n",
       "      <td>schic002_fassj001</td>\n",
       "      <td>0.181818</td>\n",
       "      <td>0.181818</td>\n",
       "      <td>146</td>\n",
       "      <td>22</td>\n",
       "      <td>150</td>\n",
       "      <td>14</td>\n",
       "      <td>57</td>\n",
       "      <td>30</td>\n",
       "      <td>4</td>\n",
       "      <td>0.150685</td>\n",
       "      <td>0.173333</td>\n",
       "      <td>14</td>\n",
       "      <td>0.38</td>\n",
       "      <td>0.026667</td>\n",
       "      <td>0.146667</td>\n",
       "      <td>3006</td>\n",
       "      <td>847</td>\n",
       "      <td>3357</td>\n",
       "      <td>40</td>\n",
       "      <td>582</td>\n",
       "      <td>1587</td>\n",
       "      <td>351</td>\n",
       "      <td>0.281770</td>\n",
       "      <td>0.356866</td>\n",
       "      <td>185</td>\n",
       "      <td>0.173369</td>\n",
       "      <td>0.104558</td>\n",
       "      <td>0.252309</td>\n",
       "    </tr>\n",
       "    <tr>\n",
       "      <th>3</th>\n",
       "      <td>schic002</td>\n",
       "      <td>glavt001</td>\n",
       "      <td>14</td>\n",
       "      <td>3</td>\n",
       "      <td>14</td>\n",
       "      <td>L</td>\n",
       "      <td>1</td>\n",
       "      <td>3</td>\n",
       "      <td>5</td>\n",
       "      <td>0</td>\n",
       "      <td>schic002_glavt001</td>\n",
       "      <td>0.214286</td>\n",
       "      <td>0.214286</td>\n",
       "      <td>146</td>\n",
       "      <td>22</td>\n",
       "      <td>150</td>\n",
       "      <td>14</td>\n",
       "      <td>57</td>\n",
       "      <td>30</td>\n",
       "      <td>4</td>\n",
       "      <td>0.150685</td>\n",
       "      <td>0.173333</td>\n",
       "      <td>14</td>\n",
       "      <td>0.38</td>\n",
       "      <td>0.026667</td>\n",
       "      <td>0.146667</td>\n",
       "      <td>7561</td>\n",
       "      <td>2115</td>\n",
       "      <td>8413</td>\n",
       "      <td>102</td>\n",
       "      <td>985</td>\n",
       "      <td>3852</td>\n",
       "      <td>852</td>\n",
       "      <td>0.279725</td>\n",
       "      <td>0.352668</td>\n",
       "      <td>280</td>\n",
       "      <td>0.117081</td>\n",
       "      <td>0.101272</td>\n",
       "      <td>0.251397</td>\n",
       "    </tr>\n",
       "    <tr>\n",
       "      <th>4</th>\n",
       "      <td>schic002</td>\n",
       "      <td>hampm001</td>\n",
       "      <td>16</td>\n",
       "      <td>2</td>\n",
       "      <td>16</td>\n",
       "      <td>L</td>\n",
       "      <td>1</td>\n",
       "      <td>6</td>\n",
       "      <td>2</td>\n",
       "      <td>0</td>\n",
       "      <td>schic002_hampm001</td>\n",
       "      <td>0.125000</td>\n",
       "      <td>0.125000</td>\n",
       "      <td>146</td>\n",
       "      <td>22</td>\n",
       "      <td>150</td>\n",
       "      <td>14</td>\n",
       "      <td>57</td>\n",
       "      <td>30</td>\n",
       "      <td>4</td>\n",
       "      <td>0.150685</td>\n",
       "      <td>0.173333</td>\n",
       "      <td>14</td>\n",
       "      <td>0.38</td>\n",
       "      <td>0.026667</td>\n",
       "      <td>0.146667</td>\n",
       "      <td>4782</td>\n",
       "      <td>1361</td>\n",
       "      <td>5339</td>\n",
       "      <td>53</td>\n",
       "      <td>666</td>\n",
       "      <td>2355</td>\n",
       "      <td>557</td>\n",
       "      <td>0.284609</td>\n",
       "      <td>0.359243</td>\n",
       "      <td>232</td>\n",
       "      <td>0.124742</td>\n",
       "      <td>0.104327</td>\n",
       "      <td>0.254917</td>\n",
       "    </tr>\n",
       "  </tbody>\n",
       "</table>\n",
       "</div>"
      ],
      "text/plain": [
       "        bID       pID  AB  H  PA RL  SAC  SO  TB  W            matchID       AVG       OBP  ov_AB  ov_H  ov_PA  ov_SAC  ov_SO  ov_TB  ov_W    ov_AVG    ov_OBP  ov_FACED  ov_SO_PCT  ov_W_PCT  ov_H_PCT  ovp_AB  ovp_H  ovp_PA  ovp_SAC  ovp_SO  ovp_TB  ovp_W   ovp_AVG   ovp_OBP  ovp_FACED  ovp_SO_PCT  ovp_W_PCT  ovp_H_PCT\n",
       "0  schic002  benea001   9  0   9  R    1   4   0  0  schic002_benea001  0.000000  0.000000    146    22    150      14     57     30     4  0.150685  0.173333        14       0.38  0.026667  0.146667    3046    827    3425       46     609    1713    379  0.271504  0.352117        136    0.177810   0.110657   0.241460\n",
       "1  schic002  browk001  11  1  11  R    0   6   1  0  schic002_browk001  0.090909  0.090909    146    22    150      14     57     30     4  0.150685  0.173333        14       0.38  0.026667  0.146667    4582   1159    4989       47     892    1974    407  0.252946  0.313891        222    0.178793   0.081579   0.232311\n",
       "2  schic002  fassj001  11  2  11  L    1   5   4  0  schic002_fassj001  0.181818  0.181818    146    22    150      14     57     30     4  0.150685  0.173333        14       0.38  0.026667  0.146667    3006    847    3357       40     582    1587    351  0.281770  0.356866        185    0.173369   0.104558   0.252309\n",
       "3  schic002  glavt001  14  3  14  L    1   3   5  0  schic002_glavt001  0.214286  0.214286    146    22    150      14     57     30     4  0.150685  0.173333        14       0.38  0.026667  0.146667    7561   2115    8413      102     985    3852    852  0.279725  0.352668        280    0.117081   0.101272   0.251397\n",
       "4  schic002  hampm001  16  2  16  L    1   6   2  0  schic002_hampm001  0.125000  0.125000    146    22    150      14     57     30     4  0.150685  0.173333        14       0.38  0.026667  0.146667    4782   1361    5339       53     666    2355    557  0.284609  0.359243        232    0.124742   0.104327   0.254917"
      ]
     },
     "execution_count": 52,
     "metadata": {},
     "output_type": "execute_result"
    }
   ],
   "source": [
    "smalldf.head()"
   ]
  },
  {
   "cell_type": "code",
   "execution_count": 53,
   "metadata": {
    "collapsed": true
   },
   "outputs": [],
   "source": [
    "trainlist=[]\n",
    "testlist=[]\n",
    "take=10 #At most 10 matchups in test set\n",
    "for k, v in smalldf.groupby('bID'):\n",
    "    train_rows, test_rows = train_test_split(v, test_size=min(take, len(v)/3))\n",
    "    trainlist.append(train_rows)\n",
    "    testlist.append(test_rows) \n",
    "traindf=pd.concat(trainlist)\n",
    "testdf=pd.concat(testlist)"
   ]
  },
  {
   "cell_type": "code",
   "execution_count": 55,
   "metadata": {
    "collapsed": false
   },
   "outputs": [
    {
     "name": "stdout",
     "output_type": "stream",
     "text": [
      "CPU times: user 5min 52s, sys: 1.5 s, total: 5min 54s\n",
      "Wall time: 5min 56s\n"
     ]
    }
   ],
   "source": [
    "%%time\n",
    "designm, avg, obp = getmats(traindf)\n",
    "testm, test_avg, test_obp = getmats(testdf)"
   ]
  },
  {
   "cell_type": "code",
   "execution_count": 56,
   "metadata": {
    "collapsed": false
   },
   "outputs": [],
   "source": [
    "clf = Ridge()\n",
    "alphas= np.linspace(20, 40, 20)\n",
    "# Xmatrix_train=traindf[['bID','pID']]\n",
    "# ymatrix_train=traindf['AVG']\n",
    "# Xmatrix_test=testdf[['bID','pID']]\n",
    "# ymatrix_test=testdf['AVG']\n",
    "# designm, avg\n",
    "# testm, test_avg"
   ]
  },
  {
   "cell_type": "code",
   "execution_count": 57,
   "metadata": {
    "collapsed": false
   },
   "outputs": [
    {
     "name": "stdout",
     "output_type": "stream",
     "text": [
      "CPU times: user 8min 43s, sys: 36.7 s, total: 9min 20s\n",
      "Wall time: 3min 49s\n"
     ]
    }
   ],
   "source": [
    "%%time\n",
    "gs = GridSearchCV(clf, param_grid=dict(alpha=alphas), cv=5)\n",
    "gs.fit(designm, avg)\n",
    "best = gs.best_estimator_"
   ]
  },
  {
   "cell_type": "code",
   "execution_count": 58,
   "metadata": {
    "collapsed": false
   },
   "outputs": [
    {
     "data": {
      "text/plain": [
       "Ridge(alpha=40.0, copy_X=True, fit_intercept=True, max_iter=None,\n",
       "   normalize=False, solver='auto', tol=0.001)"
      ]
     },
     "execution_count": 58,
     "metadata": {},
     "output_type": "execute_result"
    }
   ],
   "source": [
    "best"
   ]
  },
  {
   "cell_type": "code",
   "execution_count": 59,
   "metadata": {
    "collapsed": false,
    "scrolled": true
   },
   "outputs": [
    {
     "name": "stdout",
     "output_type": "stream",
     "text": [
      "BEST: {'alpha': 40.0}\n",
      "############# based on standard predict ################\n",
      "Accuracy on training data: 0.03291\n",
      "########################################################\n"
     ]
    }
   ],
   "source": [
    "clf=best.fit(designm, avg)\n",
    "training_accuracy = clf.score(designm, avg)\n",
    "print \"BEST: %s\" % (gs.best_params_)\n",
    "print \"############# based on standard predict ################\"\n",
    "print \"Accuracy on training data: %0.5f\" % (training_accuracy)\n",
    "print \"########################################################\""
   ]
  },
  {
   "cell_type": "code",
   "execution_count": 60,
   "metadata": {
    "collapsed": true
   },
   "outputs": [],
   "source": [
    "predictions = {}"
   ]
  },
  {
   "cell_type": "code",
   "execution_count": 61,
   "metadata": {
    "collapsed": false
   },
   "outputs": [
    {
     "name": "stdout",
     "output_type": "stream",
     "text": [
      "RMSE for baseline_r 0.134634163788\n"
     ]
    },
    {
     "data": {
      "image/png": "[encoded data removed]",
      "text/plain": [
       "<matplotlib.figure.Figure at 0x10bc27150>"
      ]
     },
     "metadata": {},
     "output_type": "display_data"
    }
   ],
   "source": [
    "pred_test = best.predict(testm)\n",
    "predictions['baseline_r'] = pred_test\n",
    "\n",
    "# pred_valid = regr.predict(validatedm)\n",
    "# predictions_valid['baseline_r'] = pred_valid\n",
    "\n",
    "compare_results(test_avg,predictions['baseline_r'], model=\"baseline_r\", predicteds=True);"
   ]
  },
  {
   "cell_type": "code",
   "execution_count": null,
   "metadata": {
    "collapsed": true
   },
   "outputs": [],
   "source": []
  }
 ],
 "metadata": {
  "kernelspec": {
   "display_name": "Python 2",
   "language": "python",
   "name": "python2"
  },
  "language_info": {
   "codemirror_mode": {
    "name": "ipython",
    "version": 2
   },
   "file_extension": ".py",
   "mimetype": "text/x-python",
   "name": "python",
   "nbconvert_exporter": "python",
   "pygments_lexer": "ipython2",
   "version": "2.7.10"
  }
 },
 "nbformat": 4,
 "nbformat_minor": 0
}
